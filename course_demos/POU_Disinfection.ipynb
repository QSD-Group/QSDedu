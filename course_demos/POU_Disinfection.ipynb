{
 "cells": [
  {
   "cell_type": "markdown",
   "id": "277bc578",
   "metadata": {
    "slideshow": {
     "slide_type": "slide"
    }
   },
   "source": [
    "# Point-of-Use Disinfection Technologies <a class=\"anchor\" id=\"top\"></a>\n",
    "\n",
    "This module is a simple demonstration of the four point-of-use disinfection technologies as described in Elijah et al. All source codes are in the [`pou_disinfection`](https://github.com/QSD-Group/EXPOsan/tree/main/exposan/pou_disinfection) module in the EXPOsan package.\n",
    "\n",
    "- **Prepared by:**\n",
    "    \n",
    "    - [Yalin Li](https://qsdsan.readthedocs.io/en/latest/CONTRIBUTING.html)\n",
    "    \n",
    "- **Covered topics:**\n",
    "\n",
    "    - [1. System Design](#s1)\n",
    "    - [2. Cost and Environmental Impacts](#s2)\n",
    "    - [3. Uncertainty and Sensitivity Analyses](#s3)"
   ]
  },
  {
   "cell_type": "markdown",
   "id": "26fff0d2",
   "metadata": {
    "slideshow": {
     "slide_type": "fragment"
    }
   },
   "source": [
    "**Note**\n",
    "\n",
    "The manuscript is still in preparation."
   ]
  },
  {
   "cell_type": "code",
   "execution_count": 1,
   "id": "69c42fbe",
   "metadata": {
    "slideshow": {
     "slide_type": "slide"
    }
   },
   "outputs": [
    {
     "name": "stdout",
     "output_type": "stream",
     "text": [
      "This tutorial was made with qsdsan v1.3.1, exposan v1.3.2.\n"
     ]
    }
   ],
   "source": [
    "# This cell is just to show the version of the packages for result consistency\n",
    "import qsdsan as qs, exposan as es\n",
    "print(f'This tutorial was made with qsdsan v{qs.__version__}, exposan v{es.__version__}.')"
   ]
  },
  {
   "cell_type": "markdown",
   "id": "be86cd2e",
   "metadata": {
    "slideshow": {
     "slide_type": "slide"
    }
   },
   "source": [
    "## System Design <a class=\"anchor\" id=\"s1\"></a>\n",
    "To check out the system design, we need to first load the system."
   ]
  },
  {
   "cell_type": "code",
   "execution_count": 2,
   "id": "8f66f2e9",
   "metadata": {
    "slideshow": {
     "slide_type": "slide"
    }
   },
   "outputs": [],
   "source": [
    "from exposan import pou_disinfection as pou\n",
    "pou.load()"
   ]
  },
  {
   "cell_type": "markdown",
   "id": "939d36b4",
   "metadata": {
    "slideshow": {
     "slide_type": "slide"
    }
   },
   "source": [
    "We can then take a look at the four systems and the detailed design."
   ]
  },
  {
   "cell_type": "markdown",
   "id": "139efb63",
   "metadata": {
    "slideshow": {
     "slide_type": "fragment"
    }
   },
   "source": [
    "System A uses chlorination:"
   ]
  },
  {
   "cell_type": "code",
   "execution_count": 3,
   "id": "3720123c",
   "metadata": {
    "slideshow": {
     "slide_type": "fragment"
    }
   },
   "outputs": [
    {
     "data": {
      "image/svg+xml": [
       "<svg xmlns=\"http://www.w3.org/2000/svg\" xmlns:xlink=\"http://www.w3.org/1999/xlink\" width=\"408pt\" height=\"154pt\" viewBox=\"0.00 0.00 408.00 154.00\">\n",
       "<g id=\"graph0\" class=\"graph\" transform=\"scale(1 1) rotate(0) translate(4 150)\">\n",
       "<!-- A1\n",
       "Raw water&#45;&gt;A2\n",
       "POUChlorination -->\n",
       "<g id=\"edge1\" class=\"edge\">\n",
       "<title>A1\n",
       "Raw water:c-&gt;A2\n",
       "POUChlorination:c</title>\n",
       "<path fill=\"none\" stroke=\"#90918e\" stroke-width=\"2.2\" d=\"M82.16,-110.67C103.52,-103.32 130.41,-94.06 155.07,-85.57\"/>\n",
       "<polygon fill=\"#90918e\" stroke=\"#90918e\" stroke-width=\"2.2\" points=\"156.44,-88.8 164.76,-82.24 154.17,-82.18 156.44,-88.8\"/>\n",
       "<g id=\"a_edge1-label\"><a xlink:title=\"Temperature: 298.15 K\n",
       "Pressure: 101325 Pa\n",
       "Liquid flow: 0.462 kmol/hr\">\n",
       "<text text-anchor=\"middle\" x=\"123.5\" y=\"-111.3\" font-family=\"Arial\" font-size=\"14.00\" fill=\"#90918e\"> raw water</text>\n",
       "</a>\n",
       "</g>\n",
       "</g>\n",
       "<!-- A2\n",
       "POUChlorination&#45;&gt;111427047613 -->\n",
       "<g id=\"edge2\" class=\"edge\">\n",
       "<title>A2\n",
       "POUChlorination:c-&gt;111427047613:w</title>\n",
       "<path fill=\"none\" stroke=\"#90918e\" stroke-width=\"2.2\" d=\"M287.18,-61.5C318.07,-61.5 356.3,-61.5 390.5,-61.5\"/>\n",
       "<g id=\"a_edge2-label\"><a xlink:title=\"Temperature: 298.15 K\n",
       "Pressure: 101325 Pa\n",
       "Liquid flow: 0.462 kmol/hr\">\n",
       "<text text-anchor=\"middle\" x=\"338\" y=\"-65.3\" font-family=\"Arial\" font-size=\"14.00\" fill=\"#90918e\"> treated water</text>\n",
       "</a>\n",
       "</g>\n",
       "</g>\n",
       "<!-- 111427047013&#45;&gt;A2\n",
       "POUChlorination -->\n",
       "<g id=\"edge3\" class=\"edge\">\n",
       "<title>111427047013:e-&gt;A2\n",
       "POUChlorination:c</title>\n",
       "<path fill=\"none\" stroke=\"#90918e\" stroke-width=\"1.6\" d=\"M48,-61.5C86.87,-61.5 130.55,-61.5 164.79,-61.5\"/>\n",
       "<g id=\"a_edge3-label\"><a xlink:title=\"Temperature: 298.15 K\n",
       "Pressure: 101325 Pa\n",
       "Liquid flow: 2.32e-08 kmol/hr\">\n",
       "<text text-anchor=\"middle\" x=\"123.5\" y=\"-65.3\" font-family=\"Arial\" font-size=\"14.00\" fill=\"#90918e\"> A naclo</text>\n",
       "</a>\n",
       "</g>\n",
       "</g>\n",
       "<!-- 111427047133&#45;&gt;A2\n",
       "POUChlorination -->\n",
       "<g id=\"edge4\" class=\"edge\">\n",
       "<title>111427047133:e-&gt;A2\n",
       "POUChlorination:c</title>\n",
       "<path fill=\"none\" stroke=\"#90918e\" d=\"M48,-5.5C95.54,-5.5 147.06,-24.09 182.19,-39.85\"/>\n",
       "<g id=\"a_edge4-label\"><a xlink:title=\"Temperature: 298.15 K\n",
       "Pressure: 101325 Pa\n",
       "Solid flow: 5.92e-09 kmol/hr\">\n",
       "<text text-anchor=\"middle\" x=\"123.5\" y=\"-31.3\" font-family=\"Arial\" font-size=\"14.00\" fill=\"#90918e\"> A cl bottle</text>\n",
       "</a>\n",
       "</g>\n",
       "</g>\n",
       "<!-- A1\n",
       "Raw water -->\n",
       "<g id=\"node1\" class=\"node\">\n",
       "<title>A1\n",
       "Raw water</title>\n",
       "<g id=\"a_node1\"><a xlink:title=\"No capital costs or utilities\">\n",
       "<polygon fill=\"#555f69\" stroke=\"#90918e\" points=\"82,-146 0,-146 0,-103 82,-103 82,-146\"/>\n",
       "<text text-anchor=\"middle\" x=\"41\" y=\"-128.3\" font-family=\"Arial\" font-size=\"14.00\" fill=\"white\">A1</text>\n",
       "<text text-anchor=\"middle\" x=\"41\" y=\"-113.3\" font-family=\"Arial\" font-size=\"14.00\" fill=\"white\">Raw water</text>\n",
       "</a>\n",
       "</g>\n",
       "</g>\n",
       "<!-- A2\n",
       "POUChlorination -->\n",
       "<g id=\"node2\" class=\"node\">\n",
       "<title>A2\n",
       "POUChlorination</title>\n",
       "<g id=\"a_node2\"><a xlink:title=\"Purchase cost: 266 USD\n",
       "Installed equipment cost: 266 USD\">\n",
       "<polygon fill=\"#555f69\" stroke=\"#90918e\" points=\"287,-83 165,-83 165,-40 287,-40 287,-83\"/>\n",
       "<text text-anchor=\"middle\" x=\"226\" y=\"-65.3\" font-family=\"Arial\" font-size=\"14.00\" fill=\"white\">A2</text>\n",
       "<text text-anchor=\"middle\" x=\"226\" y=\"-50.3\" font-family=\"Arial\" font-size=\"14.00\" fill=\"white\">POUChlorination</text>\n",
       "</a>\n",
       "</g>\n",
       "</g>\n",
       "<!-- 111427047613 -->\n",
       "<g id=\"node3\" class=\"node\">\n",
       "<title>111427047613</title>\n",
       "<polygon fill=\"#f98f60\" stroke=\"#90918e\" points=\"400,-61.5 391.75,-68.5 391.75,-54.5 400,-61.5\"/>\n",
       "</g>\n",
       "<!-- 111427047013 -->\n",
       "<g id=\"node4\" class=\"node\">\n",
       "<title>111427047013</title>\n",
       "<polygon fill=\"#f98f60\" stroke=\"#90918e\" points=\"41,-67 35.5,-61.5 41,-56 46.5,-61.5 41,-67\"/>\n",
       "</g>\n",
       "<!-- 111427047133 -->\n",
       "<g id=\"node5\" class=\"node\">\n",
       "<title>111427047133</title>\n",
       "<polygon fill=\"#f98f60\" stroke=\"#90918e\" points=\"41,-11 35.5,-5.5 41,0 46.5,-5.5 41,-11\"/>\n",
       "</g>\n",
       "</g>\n",
       "</svg>"
      ],
      "text/plain": [
       "<IPython.core.display.SVG object>"
      ]
     },
     "metadata": {},
     "output_type": "display_data"
    }
   ],
   "source": [
    "pou.sysA.diagram()"
   ]
  },
  {
   "cell_type": "code",
   "execution_count": 4,
   "id": "00400937",
   "metadata": {
    "slideshow": {
     "slide_type": "slide"
    }
   },
   "outputs": [
    {
     "data": {
      "text/html": [
       "<div>\n",
       "<style scoped>\n",
       "    .dataframe tbody tr th:only-of-type {\n",
       "        vertical-align: middle;\n",
       "    }\n",
       "\n",
       "    .dataframe tbody tr th {\n",
       "        vertical-align: top;\n",
       "    }\n",
       "\n",
       "    .dataframe thead th {\n",
       "        text-align: right;\n",
       "    }\n",
       "</style>\n",
       "<table border=\"1\" class=\"dataframe\">\n",
       "  <thead>\n",
       "    <tr style=\"text-align: right;\">\n",
       "      <th></th>\n",
       "      <th>POUChlorination</th>\n",
       "      <th>Units</th>\n",
       "      <th>A2</th>\n",
       "    </tr>\n",
       "  </thead>\n",
       "  <tbody>\n",
       "    <tr>\n",
       "      <th>Design</th>\n",
       "      <th>PE</th>\n",
       "      <td>kg</td>\n",
       "      <td>150</td>\n",
       "    </tr>\n",
       "    <tr>\n",
       "      <th>Purchase cost</th>\n",
       "      <th>WaterContainer</th>\n",
       "      <td>USD</td>\n",
       "      <td>267</td>\n",
       "    </tr>\n",
       "    <tr>\n",
       "      <th>Total purchase cost</th>\n",
       "      <th></th>\n",
       "      <td>USD</td>\n",
       "      <td>267</td>\n",
       "    </tr>\n",
       "    <tr>\n",
       "      <th>Utility cost</th>\n",
       "      <th></th>\n",
       "      <td>USD/hr</td>\n",
       "      <td>0</td>\n",
       "    </tr>\n",
       "    <tr>\n",
       "      <th>Additional OPEX</th>\n",
       "      <th></th>\n",
       "      <td>USD/hr</td>\n",
       "      <td>0</td>\n",
       "    </tr>\n",
       "  </tbody>\n",
       "</table>\n",
       "</div>"
      ],
      "text/plain": [
       "POUChlorination                      Units  A2\n",
       "Design              PE                  kg 150\n",
       "Purchase cost       WaterContainer     USD 267\n",
       "Total purchase cost                    USD 267\n",
       "Utility cost                        USD/hr   0\n",
       "Additional OPEX                     USD/hr   0"
      ]
     },
     "execution_count": 4,
     "metadata": {},
     "output_type": "execute_result"
    }
   ],
   "source": [
    "pou.A2.results()"
   ]
  },
  {
   "cell_type": "markdown",
   "id": "1a3e0ab9",
   "metadata": {
    "slideshow": {
     "slide_type": "slide"
    }
   },
   "source": [
    "System B uses silver nanoparticle-coated ceramic water filter:"
   ]
  },
  {
   "cell_type": "code",
   "execution_count": 5,
   "id": "b6361ee7",
   "metadata": {
    "slideshow": {
     "slide_type": "fragment"
    }
   },
   "outputs": [
    {
     "data": {
      "image/svg+xml": [
       "<svg xmlns=\"http://www.w3.org/2000/svg\" xmlns:xlink=\"http://www.w3.org/1999/xlink\" width=\"378pt\" height=\"51pt\" viewBox=\"0.00 0.00 378.00 51.00\">\n",
       "<g id=\"graph0\" class=\"graph\" transform=\"scale(1 1) rotate(0) translate(4 47)\">\n",
       "<!-- B1\n",
       "Raw water&#45;&gt;B2\n",
       "Ag NP CWF -->\n",
       "<g id=\"edge1\" class=\"edge\">\n",
       "<title>B1\n",
       "Raw water:c-&gt;B2\n",
       "Ag NP CWF:c</title>\n",
       "<path fill=\"none\" stroke=\"#90918e\" d=\"M82.31,-21.5C103.09,-21.5 128.78,-21.5 151.56,-21.5\"/>\n",
       "<polygon fill=\"#90918e\" stroke=\"#90918e\" points=\"151.78,-25 161.78,-21.5 151.78,-18 151.78,-25\"/>\n",
       "<g id=\"a_edge1-label\"><a xlink:title=\"Temperature: 298.15 K\n",
       "Pressure: 101325 Pa\n",
       "Liquid flow: 0.462 kmol/hr\">\n",
       "<text text-anchor=\"middle\" x=\"122\" y=\"-25.3\" font-family=\"Arial\" font-size=\"14.00\" fill=\"#90918e\"> raw water</text>\n",
       "</a>\n",
       "</g>\n",
       "</g>\n",
       "<!-- B2\n",
       "Ag NP CWF&#45;&gt;111427047733 -->\n",
       "<g id=\"edge2\" class=\"edge\">\n",
       "<title>B2\n",
       "Ag NP CWF:c-&gt;111427047733:w</title>\n",
       "<path fill=\"none\" stroke=\"#90918e\" d=\"M257.12,-21.5C286.73,-21.5 325.86,-21.5 360.5,-21.5\"/>\n",
       "<g id=\"a_edge2-label\"><a xlink:title=\"Temperature: 298.15 K\n",
       "Pressure: 101325 Pa\n",
       "Liquid flow: 0.462 kmol/hr\">\n",
       "<text text-anchor=\"middle\" x=\"308\" y=\"-25.3\" font-family=\"Arial\" font-size=\"14.00\" fill=\"#90918e\"> treated water</text>\n",
       "</a>\n",
       "</g>\n",
       "</g>\n",
       "<!-- B1\n",
       "Raw water -->\n",
       "<g id=\"node1\" class=\"node\">\n",
       "<title>B1\n",
       "Raw water</title>\n",
       "<g id=\"a_node1\"><a xlink:title=\"No capital costs or utilities\">\n",
       "<polygon fill=\"#555f69\" stroke=\"#90918e\" points=\"82,-43 0,-43 0,0 82,0 82,-43\"/>\n",
       "<text text-anchor=\"middle\" x=\"41\" y=\"-25.3\" font-family=\"Arial\" font-size=\"14.00\" fill=\"white\">B1</text>\n",
       "<text text-anchor=\"middle\" x=\"41\" y=\"-10.3\" font-family=\"Arial\" font-size=\"14.00\" fill=\"white\">Raw water</text>\n",
       "</a>\n",
       "</g>\n",
       "</g>\n",
       "<!-- B2\n",
       "Ag NP CWF -->\n",
       "<g id=\"node2\" class=\"node\">\n",
       "<title>B2\n",
       "Ag NP CWF</title>\n",
       "<g id=\"a_node2\"><a xlink:title=\"Purchase cost: 2,105 USD\n",
       "Installed equipment cost: 2,105 USD\">\n",
       "<polygon fill=\"#555f69\" stroke=\"#90918e\" points=\"257,-43 162,-43 162,0 257,0 257,-43\"/>\n",
       "<text text-anchor=\"middle\" x=\"209.5\" y=\"-25.3\" font-family=\"Arial\" font-size=\"14.00\" fill=\"white\">B2</text>\n",
       "<text text-anchor=\"middle\" x=\"209.5\" y=\"-10.3\" font-family=\"Arial\" font-size=\"14.00\" fill=\"white\">Ag NP CWF</text>\n",
       "</a>\n",
       "</g>\n",
       "</g>\n",
       "<!-- 111427047733 -->\n",
       "<g id=\"node3\" class=\"node\">\n",
       "<title>111427047733</title>\n",
       "<polygon fill=\"#f98f60\" stroke=\"#90918e\" points=\"370,-21.5 361.75,-28.5 361.75,-14.5 370,-21.5\"/>\n",
       "</g>\n",
       "</g>\n",
       "</svg>"
      ],
      "text/plain": [
       "<IPython.core.display.SVG object>"
      ]
     },
     "metadata": {},
     "output_type": "display_data"
    }
   ],
   "source": [
    "pou.sysB.diagram()"
   ]
  },
  {
   "cell_type": "code",
   "execution_count": 6,
   "id": "29b1e44d",
   "metadata": {
    "scrolled": true,
    "slideshow": {
     "slide_type": "slide"
    }
   },
   "outputs": [
    {
     "data": {
      "text/html": [
       "<div>\n",
       "<style scoped>\n",
       "    .dataframe tbody tr th:only-of-type {\n",
       "        vertical-align: middle;\n",
       "    }\n",
       "\n",
       "    .dataframe tbody tr th {\n",
       "        vertical-align: top;\n",
       "    }\n",
       "\n",
       "    .dataframe thead th {\n",
       "        text-align: right;\n",
       "    }\n",
       "</style>\n",
       "<table border=\"1\" class=\"dataframe\">\n",
       "  <thead>\n",
       "    <tr style=\"text-align: right;\">\n",
       "      <th></th>\n",
       "      <th>Ag NP CWF</th>\n",
       "      <th>Units</th>\n",
       "      <th>B2</th>\n",
       "    </tr>\n",
       "  </thead>\n",
       "  <tbody>\n",
       "    <tr>\n",
       "      <th rowspan=\"4\" valign=\"top\">Design</th>\n",
       "      <th>CWFClay</th>\n",
       "      <td>kg</td>\n",
       "      <td>783</td>\n",
       "    </tr>\n",
       "    <tr>\n",
       "      <th>SilverNP</th>\n",
       "      <td>kg</td>\n",
       "      <td>0.0107</td>\n",
       "    </tr>\n",
       "    <tr>\n",
       "      <th>Sawdust</th>\n",
       "      <td>kg</td>\n",
       "      <td>217</td>\n",
       "    </tr>\n",
       "    <tr>\n",
       "      <th>PE</th>\n",
       "      <td>kg</td>\n",
       "      <td>75</td>\n",
       "    </tr>\n",
       "    <tr>\n",
       "      <th rowspan=\"11\" valign=\"top\">Purchase cost</th>\n",
       "      <th>brush</th>\n",
       "      <td>USD</td>\n",
       "      <td>66.7</td>\n",
       "    </tr>\n",
       "    <tr>\n",
       "      <th>clay</th>\n",
       "      <td>USD</td>\n",
       "      <td>165</td>\n",
       "    </tr>\n",
       "    <tr>\n",
       "      <th>grog</th>\n",
       "      <td>USD</td>\n",
       "      <td>30</td>\n",
       "    </tr>\n",
       "    <tr>\n",
       "      <th>sawdust</th>\n",
       "      <td>USD</td>\n",
       "      <td>150</td>\n",
       "    </tr>\n",
       "    <tr>\n",
       "      <th>water</th>\n",
       "      <td>USD</td>\n",
       "      <td>3.33</td>\n",
       "    </tr>\n",
       "    <tr>\n",
       "      <th>wood</th>\n",
       "      <td>USD</td>\n",
       "      <td>83.3</td>\n",
       "    </tr>\n",
       "    <tr>\n",
       "      <th>labor</th>\n",
       "      <td>USD</td>\n",
       "      <td>922</td>\n",
       "    </tr>\n",
       "    <tr>\n",
       "      <th>AgNP</th>\n",
       "      <td>USD</td>\n",
       "      <td>18.4</td>\n",
       "    </tr>\n",
       "    <tr>\n",
       "      <th>Bucket</th>\n",
       "      <td>USD</td>\n",
       "      <td>333</td>\n",
       "    </tr>\n",
       "    <tr>\n",
       "      <th>Lid</th>\n",
       "      <td>USD</td>\n",
       "      <td>167</td>\n",
       "    </tr>\n",
       "    <tr>\n",
       "      <th>Spout</th>\n",
       "      <td>USD</td>\n",
       "      <td>167</td>\n",
       "    </tr>\n",
       "    <tr>\n",
       "      <th>Total purchase cost</th>\n",
       "      <th></th>\n",
       "      <td>USD</td>\n",
       "      <td>2.11e+03</td>\n",
       "    </tr>\n",
       "    <tr>\n",
       "      <th>Utility cost</th>\n",
       "      <th></th>\n",
       "      <td>USD/hr</td>\n",
       "      <td>0</td>\n",
       "    </tr>\n",
       "    <tr>\n",
       "      <th>Additional OPEX</th>\n",
       "      <th></th>\n",
       "      <td>USD/hr</td>\n",
       "      <td>0.00105</td>\n",
       "    </tr>\n",
       "  </tbody>\n",
       "</table>\n",
       "</div>"
      ],
      "text/plain": [
       "Ag NP CWF                      Units       B2\n",
       "Design              CWFClay       kg      783\n",
       "                    SilverNP      kg   0.0107\n",
       "                    Sawdust       kg      217\n",
       "                    PE            kg       75\n",
       "Purchase cost       brush        USD     66.7\n",
       "                    clay         USD      165\n",
       "                    grog         USD       30\n",
       "                    sawdust      USD      150\n",
       "                    water        USD     3.33\n",
       "                    wood         USD     83.3\n",
       "                    labor        USD      922\n",
       "                    AgNP         USD     18.4\n",
       "                    Bucket       USD      333\n",
       "                    Lid          USD      167\n",
       "                    Spout        USD      167\n",
       "Total purchase cost              USD 2.11e+03\n",
       "Utility cost                  USD/hr        0\n",
       "Additional OPEX               USD/hr  0.00105"
      ]
     },
     "execution_count": 6,
     "metadata": {},
     "output_type": "execute_result"
    }
   ],
   "source": [
    "pou.B2.results()"
   ]
  },
  {
   "cell_type": "markdown",
   "id": "00d8cb50",
   "metadata": {
    "slideshow": {
     "slide_type": "slide"
    }
   },
   "source": [
    "System C uses low-pressure UV mercury lamp:"
   ]
  },
  {
   "cell_type": "code",
   "execution_count": 7,
   "id": "e6bb65ce",
   "metadata": {
    "slideshow": {
     "slide_type": "fragment"
    }
   },
   "outputs": [
    {
     "data": {
      "image/svg+xml": [
       "<svg xmlns=\"http://www.w3.org/2000/svg\" xmlns:xlink=\"http://www.w3.org/1999/xlink\" width=\"354pt\" height=\"51pt\" viewBox=\"0.00 0.00 354.00 51.00\">\n",
       "<g id=\"graph0\" class=\"graph\" transform=\"scale(1 1) rotate(0) translate(4 47)\">\n",
       "<!-- C1\n",
       "Raw water&#45;&gt;C2\n",
       "POU UV -->\n",
       "<g id=\"edge1\" class=\"edge\">\n",
       "<title>C1\n",
       "Raw water:c-&gt;C2\n",
       "POU UV:c</title>\n",
       "<path fill=\"none\" stroke=\"#90918e\" d=\"M82.19,-21.5C103.49,-21.5 129.72,-21.5 151.68,-21.5\"/>\n",
       "<polygon fill=\"#90918e\" stroke=\"#90918e\" points=\"151.76,-25 161.76,-21.5 151.76,-18 151.76,-25\"/>\n",
       "<g id=\"a_edge1-label\"><a xlink:title=\"Temperature: 298.15 K\n",
       "Pressure: 101325 Pa\n",
       "Liquid flow: 0.462 kmol/hr\">\n",
       "<text text-anchor=\"middle\" x=\"122\" y=\"-25.3\" font-family=\"Arial\" font-size=\"14.00\" fill=\"#90918e\"> raw water</text>\n",
       "</a>\n",
       "</g>\n",
       "</g>\n",
       "<!-- C2\n",
       "POU UV&#45;&gt;111427131758 -->\n",
       "<g id=\"edge2\" class=\"edge\">\n",
       "<title>C2\n",
       "POU UV:c-&gt;111427131758:w</title>\n",
       "<path fill=\"none\" stroke=\"#90918e\" d=\"M233.1,-21.5C261.01,-21.5 301.28,-21.5 336.5,-21.5\"/>\n",
       "<g id=\"a_edge2-label\"><a xlink:title=\"Temperature: 298.15 K\n",
       "Pressure: 101325 Pa\n",
       "Liquid flow: 0.462 kmol/hr\">\n",
       "<text text-anchor=\"middle\" x=\"284\" y=\"-25.3\" font-family=\"Arial\" font-size=\"14.00\" fill=\"#90918e\"> treated water</text>\n",
       "</a>\n",
       "</g>\n",
       "</g>\n",
       "<!-- C1\n",
       "Raw water -->\n",
       "<g id=\"node1\" class=\"node\">\n",
       "<title>C1\n",
       "Raw water</title>\n",
       "<g id=\"a_node1\"><a xlink:title=\"No capital costs or utilities\">\n",
       "<polygon fill=\"#555f69\" stroke=\"#90918e\" points=\"82,-43 0,-43 0,0 82,0 82,-43\"/>\n",
       "<text text-anchor=\"middle\" x=\"41\" y=\"-25.3\" font-family=\"Arial\" font-size=\"14.00\" fill=\"white\">C1</text>\n",
       "<text text-anchor=\"middle\" x=\"41\" y=\"-10.3\" font-family=\"Arial\" font-size=\"14.00\" fill=\"white\">Raw water</text>\n",
       "</a>\n",
       "</g>\n",
       "</g>\n",
       "<!-- C2\n",
       "POU UV -->\n",
       "<g id=\"node2\" class=\"node\">\n",
       "<title>C2\n",
       "POU UV</title>\n",
       "<g id=\"a_node2\"><a xlink:title=\"Electricity consumption: 4.89e-05 kW\n",
       "Utility cost: 8.31e-06 USD/hr\n",
       "Purchase cost: 15,533 USD\n",
       "Installed equipment cost: 15,533 USD\">\n",
       "<polygon fill=\"#555f69\" stroke=\"#90918e\" points=\"233,-43 162,-43 162,0 233,0 233,-43\"/>\n",
       "<text text-anchor=\"middle\" x=\"197.5\" y=\"-25.3\" font-family=\"Arial\" font-size=\"14.00\" fill=\"white\">C2</text>\n",
       "<text text-anchor=\"middle\" x=\"197.5\" y=\"-10.3\" font-family=\"Arial\" font-size=\"14.00\" fill=\"white\">POU UV</text>\n",
       "</a>\n",
       "</g>\n",
       "</g>\n",
       "<!-- 111427131758 -->\n",
       "<g id=\"node3\" class=\"node\">\n",
       "<title>111427131758</title>\n",
       "<polygon fill=\"#f98f60\" stroke=\"#90918e\" points=\"346,-21.5 337.75,-28.5 337.75,-14.5 346,-21.5\"/>\n",
       "</g>\n",
       "</g>\n",
       "</svg>"
      ],
      "text/plain": [
       "<IPython.core.display.SVG object>"
      ]
     },
     "metadata": {},
     "output_type": "display_data"
    }
   ],
   "source": [
    "pou.sysC.diagram()"
   ]
  },
  {
   "cell_type": "code",
   "execution_count": 8,
   "id": "62639559",
   "metadata": {
    "slideshow": {
     "slide_type": "slide"
    }
   },
   "outputs": [
    {
     "data": {
      "text/html": [
       "<div>\n",
       "<style scoped>\n",
       "    .dataframe tbody tr th:only-of-type {\n",
       "        vertical-align: middle;\n",
       "    }\n",
       "\n",
       "    .dataframe tbody tr th {\n",
       "        vertical-align: top;\n",
       "    }\n",
       "\n",
       "    .dataframe thead th {\n",
       "        text-align: right;\n",
       "    }\n",
       "</style>\n",
       "<table border=\"1\" class=\"dataframe\">\n",
       "  <thead>\n",
       "    <tr style=\"text-align: right;\">\n",
       "      <th></th>\n",
       "      <th>POU UV</th>\n",
       "      <th>Units</th>\n",
       "      <th>C2</th>\n",
       "    </tr>\n",
       "  </thead>\n",
       "  <tbody>\n",
       "    <tr>\n",
       "      <th rowspan=\"2\" valign=\"top\">Electricity</th>\n",
       "      <th>Power</th>\n",
       "      <td>kW</td>\n",
       "      <td>4.89e-05</td>\n",
       "    </tr>\n",
       "    <tr>\n",
       "      <th>Cost</th>\n",
       "      <td>USD/hr</td>\n",
       "      <td>8.31e-06</td>\n",
       "    </tr>\n",
       "    <tr>\n",
       "      <th rowspan=\"4\" valign=\"top\">Design</th>\n",
       "      <th>PE</th>\n",
       "      <td>kg</td>\n",
       "      <td>300</td>\n",
       "    </tr>\n",
       "    <tr>\n",
       "      <th>PVC</th>\n",
       "      <td>kg</td>\n",
       "      <td>64.1</td>\n",
       "    </tr>\n",
       "    <tr>\n",
       "      <th>UVlamp</th>\n",
       "      <td>kg</td>\n",
       "      <td>333</td>\n",
       "    </tr>\n",
       "    <tr>\n",
       "      <th>Aluminum</th>\n",
       "      <td>kg</td>\n",
       "      <td>65.3</td>\n",
       "    </tr>\n",
       "    <tr>\n",
       "      <th rowspan=\"2\" valign=\"top\">Purchase cost</th>\n",
       "      <th>UV unit</th>\n",
       "      <td>USD</td>\n",
       "      <td>1.5e+04</td>\n",
       "    </tr>\n",
       "    <tr>\n",
       "      <th>UV storage</th>\n",
       "      <td>USD</td>\n",
       "      <td>533</td>\n",
       "    </tr>\n",
       "    <tr>\n",
       "      <th>Total purchase cost</th>\n",
       "      <th></th>\n",
       "      <td>USD</td>\n",
       "      <td>1.55e+04</td>\n",
       "    </tr>\n",
       "    <tr>\n",
       "      <th>Utility cost</th>\n",
       "      <th></th>\n",
       "      <td>USD/hr</td>\n",
       "      <td>8.31e-06</td>\n",
       "    </tr>\n",
       "    <tr>\n",
       "      <th>UV lamp</th>\n",
       "      <th></th>\n",
       "      <td>USD/hr</td>\n",
       "      <td>0.013</td>\n",
       "    </tr>\n",
       "  </tbody>\n",
       "</table>\n",
       "</div>"
      ],
      "text/plain": [
       "POU UV                           Units       C2\n",
       "Electricity         Power           kW 4.89e-05\n",
       "                    Cost        USD/hr 8.31e-06\n",
       "Design              PE              kg      300\n",
       "                    PVC             kg     64.1\n",
       "                    UVlamp          kg      333\n",
       "                    Aluminum        kg     65.3\n",
       "Purchase cost       UV unit        USD  1.5e+04\n",
       "                    UV storage     USD      533\n",
       "Total purchase cost                USD 1.55e+04\n",
       "Utility cost                    USD/hr 8.31e-06\n",
       "UV lamp                         USD/hr    0.013"
      ]
     },
     "execution_count": 8,
     "metadata": {},
     "output_type": "execute_result"
    }
   ],
   "source": [
    "pou.C2.results()"
   ]
  },
  {
   "cell_type": "markdown",
   "id": "bd90be10",
   "metadata": {
    "slideshow": {
     "slide_type": "slide"
    }
   },
   "source": [
    "System D uses UV LED system:"
   ]
  },
  {
   "cell_type": "code",
   "execution_count": 9,
   "id": "518b4b9a",
   "metadata": {
    "slideshow": {
     "slide_type": "fragment"
    }
   },
   "outputs": [
    {
     "data": {
      "image/svg+xml": [
       "<svg xmlns=\"http://www.w3.org/2000/svg\" xmlns:xlink=\"http://www.w3.org/1999/xlink\" width=\"351pt\" height=\"51pt\" viewBox=\"0.00 0.00 351.00 51.00\">\n",
       "<g id=\"graph0\" class=\"graph\" transform=\"scale(1 1) rotate(0) translate(4 47)\">\n",
       "<!-- D1\n",
       "Raw water&#45;&gt;D2\n",
       "UV LED -->\n",
       "<g id=\"edge1\" class=\"edge\">\n",
       "<title>D1\n",
       "Raw water:c-&gt;D2\n",
       "UV LED:c</title>\n",
       "<path fill=\"none\" stroke=\"#90918e\" d=\"M82.2,-21.5C103.6,-21.5 129.94,-21.5 151.78,-21.5\"/>\n",
       "<polygon fill=\"#90918e\" stroke=\"#90918e\" points=\"151.78,-25 161.78,-21.5 151.78,-18 151.78,-25\"/>\n",
       "<g id=\"a_edge1-label\"><a xlink:title=\"Temperature: 298.15 K\n",
       "Pressure: 101325 Pa\n",
       "Liquid flow: 0.462 kmol/hr\">\n",
       "<text text-anchor=\"middle\" x=\"122\" y=\"-25.3\" font-family=\"Arial\" font-size=\"14.00\" fill=\"#90918e\"> raw water</text>\n",
       "</a>\n",
       "</g>\n",
       "</g>\n",
       "<!-- D2\n",
       "UV LED&#45;&gt;111427133398 -->\n",
       "<g id=\"edge2\" class=\"edge\">\n",
       "<title>D2\n",
       "UV LED:c-&gt;111427133398:w</title>\n",
       "<path fill=\"none\" stroke=\"#90918e\" d=\"M230.1,-21.5C257.74,-21.5 298.19,-21.5 333.5,-21.5\"/>\n",
       "<g id=\"a_edge2-label\"><a xlink:title=\"Temperature: 298.15 K\n",
       "Pressure: 101325 Pa\n",
       "Liquid flow: 0.462 kmol/hr\">\n",
       "<text text-anchor=\"middle\" x=\"281\" y=\"-25.3\" font-family=\"Arial\" font-size=\"14.00\" fill=\"#90918e\"> treated water</text>\n",
       "</a>\n",
       "</g>\n",
       "</g>\n",
       "<!-- D1\n",
       "Raw water -->\n",
       "<g id=\"node1\" class=\"node\">\n",
       "<title>D1\n",
       "Raw water</title>\n",
       "<g id=\"a_node1\"><a xlink:title=\"No capital costs or utilities\">\n",
       "<polygon fill=\"#555f69\" stroke=\"#90918e\" points=\"82,-43 0,-43 0,0 82,0 82,-43\"/>\n",
       "<text text-anchor=\"middle\" x=\"41\" y=\"-25.3\" font-family=\"Arial\" font-size=\"14.00\" fill=\"white\">D1</text>\n",
       "<text text-anchor=\"middle\" x=\"41\" y=\"-10.3\" font-family=\"Arial\" font-size=\"14.00\" fill=\"white\">Raw water</text>\n",
       "</a>\n",
       "</g>\n",
       "</g>\n",
       "<!-- D2\n",
       "UV LED -->\n",
       "<g id=\"node2\" class=\"node\">\n",
       "<title>D2\n",
       "UV LED</title>\n",
       "<g id=\"a_node2\"><a xlink:title=\"Electricity consumption: 0.00187 kW\n",
       "Utility cost: 0.000317 USD/hr\n",
       "Purchase cost: 41,366 USD\n",
       "Installed equipment cost: 41,366 USD\">\n",
       "<polygon fill=\"#555f69\" stroke=\"#90918e\" points=\"230,-43 162,-43 162,0 230,0 230,-43\"/>\n",
       "<text text-anchor=\"middle\" x=\"196\" y=\"-25.3\" font-family=\"Arial\" font-size=\"14.00\" fill=\"white\">D2</text>\n",
       "<text text-anchor=\"middle\" x=\"196\" y=\"-10.3\" font-family=\"Arial\" font-size=\"14.00\" fill=\"white\">UV LED</text>\n",
       "</a>\n",
       "</g>\n",
       "</g>\n",
       "<!-- 111427133398 -->\n",
       "<g id=\"node3\" class=\"node\">\n",
       "<title>111427133398</title>\n",
       "<polygon fill=\"#f98f60\" stroke=\"#90918e\" points=\"343,-21.5 334.75,-28.5 334.75,-14.5 343,-21.5\"/>\n",
       "</g>\n",
       "</g>\n",
       "</svg>"
      ],
      "text/plain": [
       "<IPython.core.display.SVG object>"
      ]
     },
     "metadata": {},
     "output_type": "display_data"
    }
   ],
   "source": [
    "pou.sysD.diagram()"
   ]
  },
  {
   "cell_type": "code",
   "execution_count": 10,
   "id": "8797fe94",
   "metadata": {
    "slideshow": {
     "slide_type": "slide"
    }
   },
   "outputs": [
    {
     "data": {
      "text/html": [
       "<div>\n",
       "<style scoped>\n",
       "    .dataframe tbody tr th:only-of-type {\n",
       "        vertical-align: middle;\n",
       "    }\n",
       "\n",
       "    .dataframe tbody tr th {\n",
       "        vertical-align: top;\n",
       "    }\n",
       "\n",
       "    .dataframe thead th {\n",
       "        text-align: right;\n",
       "    }\n",
       "</style>\n",
       "<table border=\"1\" class=\"dataframe\">\n",
       "  <thead>\n",
       "    <tr style=\"text-align: right;\">\n",
       "      <th></th>\n",
       "      <th>UV LED</th>\n",
       "      <th>Units</th>\n",
       "      <th>D2</th>\n",
       "    </tr>\n",
       "  </thead>\n",
       "  <tbody>\n",
       "    <tr>\n",
       "      <th rowspan=\"2\" valign=\"top\">Electricity</th>\n",
       "      <th>Power</th>\n",
       "      <td>kW</td>\n",
       "      <td>0.00187</td>\n",
       "    </tr>\n",
       "    <tr>\n",
       "      <th>Cost</th>\n",
       "      <td>USD/hr</td>\n",
       "      <td>0.000317</td>\n",
       "    </tr>\n",
       "    <tr>\n",
       "      <th rowspan=\"4\" valign=\"top\">Design</th>\n",
       "      <th>Quartz</th>\n",
       "      <td>kg</td>\n",
       "      <td>38.9</td>\n",
       "    </tr>\n",
       "    <tr>\n",
       "      <th>PE</th>\n",
       "      <td>kg</td>\n",
       "      <td>300</td>\n",
       "    </tr>\n",
       "    <tr>\n",
       "      <th>StainlessSteel</th>\n",
       "      <td>kg</td>\n",
       "      <td>221</td>\n",
       "    </tr>\n",
       "    <tr>\n",
       "      <th>LED</th>\n",
       "      <td>kg</td>\n",
       "      <td>1.75</td>\n",
       "    </tr>\n",
       "    <tr>\n",
       "      <th rowspan=\"2\" valign=\"top\">Purchase cost</th>\n",
       "      <th>UV LED unit</th>\n",
       "      <td>USD</td>\n",
       "      <td>4.08e+04</td>\n",
       "    </tr>\n",
       "    <tr>\n",
       "      <th>UV LED storage</th>\n",
       "      <td>USD</td>\n",
       "      <td>533</td>\n",
       "    </tr>\n",
       "    <tr>\n",
       "      <th>Total purchase cost</th>\n",
       "      <th></th>\n",
       "      <td>USD</td>\n",
       "      <td>4.14e+04</td>\n",
       "    </tr>\n",
       "    <tr>\n",
       "      <th>Utility cost</th>\n",
       "      <th></th>\n",
       "      <td>USD/hr</td>\n",
       "      <td>0.000317</td>\n",
       "    </tr>\n",
       "    <tr>\n",
       "      <th>LED</th>\n",
       "      <th></th>\n",
       "      <td>USD/hr</td>\n",
       "      <td>0.0026</td>\n",
       "    </tr>\n",
       "  </tbody>\n",
       "</table>\n",
       "</div>"
      ],
      "text/plain": [
       "UV LED                               Units       D2\n",
       "Electricity         Power               kW  0.00187\n",
       "                    Cost            USD/hr 0.000317\n",
       "Design              Quartz              kg     38.9\n",
       "                    PE                  kg      300\n",
       "                    StainlessSteel      kg      221\n",
       "                    LED                 kg     1.75\n",
       "Purchase cost       UV LED unit        USD 4.08e+04\n",
       "                    UV LED storage     USD      533\n",
       "Total purchase cost                    USD 4.14e+04\n",
       "Utility cost                        USD/hr 0.000317\n",
       "LED                                 USD/hr   0.0026"
      ]
     },
     "execution_count": 10,
     "metadata": {},
     "output_type": "execute_result"
    }
   ],
   "source": [
    "pou.D2.results()"
   ]
  },
  {
   "cell_type": "markdown",
   "id": "cd122c52",
   "metadata": {
    "slideshow": {
     "slide_type": "slide"
    }
   },
   "source": [
    "## Cost and Environmental Impacts <a class=\"anchor\" id=\"s2\"></a>\n",
    "There is a convenient function to look at the results of techno-economic analysis (TEA) and life cycle assessment (LCA) of the four systems."
   ]
  },
  {
   "cell_type": "code",
   "execution_count": 11,
   "id": "92b4b6a9",
   "metadata": {
    "scrolled": true,
    "slideshow": {
     "slide_type": "fragment"
    }
   },
   "outputs": [
    {
     "name": "stdout",
     "output_type": "stream",
     "text": [
      "\n",
      "---------- Summary for sysA ----------\n",
      "\n",
      "\n",
      "Total cost: 0.06 USD/cap/yr.\n",
      "\n",
      "Total GWP: 0.08 kg CO2-eq/cap/year.\n",
      "\n",
      "---------- Summary for sysV ----------\n",
      "\n",
      "\n",
      "Total cost: 0.50 USD/cap/yr.\n",
      "\n",
      "Total GWP: 0.05 kg CO2-eq/cap/year.\n",
      "\n",
      "---------- Summary for sysC ----------\n",
      "\n",
      "\n",
      "Total cost: 3.70 USD/cap/yr.\n",
      "\n",
      "Total GWP: 1.83 kg CO2-eq/cap/year.\n",
      "\n",
      "---------- Summary for sysD ----------\n",
      "\n",
      "\n",
      "Total cost: 9.58 USD/cap/yr.\n",
      "\n",
      "Total GWP: 0.74 kg CO2-eq/cap/year.\n"
     ]
    }
   ],
   "source": [
    "pou.print_summaries((pou.sysA, pou.sysB, pou.sysC, pou.sysD))"
   ]
  },
  {
   "cell_type": "markdown",
   "id": "4689550b",
   "metadata": {
    "slideshow": {
     "slide_type": "slide"
    }
   },
   "source": [
    "We can look at the details of the system costs and environmental impacts (the UV lamp system is used as an example, you can repeat for other systems)."
   ]
  },
  {
   "cell_type": "code",
   "execution_count": 12,
   "id": "be609da6",
   "metadata": {
    "slideshow": {
     "slide_type": "fragment"
    }
   },
   "outputs": [
    {
     "name": "stdout",
     "output_type": "stream",
     "text": [
      "3701.7613380082153\n",
      "113.95280708245242\n",
      "0.07280708245243131\n",
      "0.05\n"
     ]
    }
   ],
   "source": [
    "print(pou.teaC.EAC) # equivalent annual cost\n",
    "print(pou.teaC.AOC) # annual operating cost\n",
    "print(pou.teaC.utility_cost) # electricity and heating (not applicable for this system)\n",
    "print(pou.teaC.discount_rate)"
   ]
  },
  {
   "cell_type": "code",
   "execution_count": 13,
   "id": "3ea24463",
   "metadata": {
    "slideshow": {
     "slide_type": "slide"
    }
   },
   "outputs": [
    {
     "name": "stdout",
     "output_type": "stream",
     "text": [
      "LCA: sysA (lifetime 5 yr)\n",
      "Impacts:\n",
      "                 Construction  Transportation  Stream  Others  Total\n",
      "GWP (kg CO2-eq)           419               0   0.219       0    419\n"
     ]
    }
   ],
   "source": [
    "pou.lcaA.show()"
   ]
  },
  {
   "cell_type": "code",
   "execution_count": 14,
   "id": "27bd0dd8",
   "metadata": {
    "slideshow": {
     "slide_type": "subslide"
    }
   },
   "outputs": [
    {
     "data": {
      "text/html": [
       "<div>\n",
       "<style scoped>\n",
       "    .dataframe tbody tr th:only-of-type {\n",
       "        vertical-align: middle;\n",
       "    }\n",
       "\n",
       "    .dataframe tbody tr th {\n",
       "        vertical-align: top;\n",
       "    }\n",
       "\n",
       "    .dataframe thead th {\n",
       "        text-align: right;\n",
       "    }\n",
       "</style>\n",
       "<table border=\"1\" class=\"dataframe\">\n",
       "  <thead>\n",
       "    <tr style=\"text-align: right;\">\n",
       "      <th></th>\n",
       "      <th></th>\n",
       "      <th>Quantity</th>\n",
       "      <th>Item Ratio</th>\n",
       "      <th>GWP [kg CO2-eq]</th>\n",
       "      <th>Category GWP Ratio</th>\n",
       "    </tr>\n",
       "    <tr>\n",
       "      <th>Construction</th>\n",
       "      <th>SanUnit</th>\n",
       "      <th></th>\n",
       "      <th></th>\n",
       "      <th></th>\n",
       "      <th></th>\n",
       "    </tr>\n",
       "  </thead>\n",
       "  <tbody>\n",
       "    <tr>\n",
       "      <th rowspan=\"2\" valign=\"top\">Aluminum [kg]</th>\n",
       "      <th>C2</th>\n",
       "      <td>65.3</td>\n",
       "      <td>1</td>\n",
       "      <td>986</td>\n",
       "      <td>0.108</td>\n",
       "    </tr>\n",
       "    <tr>\n",
       "      <th>Total</th>\n",
       "      <td>65.3</td>\n",
       "      <td>1</td>\n",
       "      <td>986</td>\n",
       "      <td>0.108</td>\n",
       "    </tr>\n",
       "    <tr>\n",
       "      <th rowspan=\"2\" valign=\"top\">PE [kg]</th>\n",
       "      <th>C2</th>\n",
       "      <td>300</td>\n",
       "      <td>1</td>\n",
       "      <td>838</td>\n",
       "      <td>0.0917</td>\n",
       "    </tr>\n",
       "    <tr>\n",
       "      <th>Total</th>\n",
       "      <td>300</td>\n",
       "      <td>1</td>\n",
       "      <td>838</td>\n",
       "      <td>0.0917</td>\n",
       "    </tr>\n",
       "    <tr>\n",
       "      <th rowspan=\"2\" valign=\"top\">PVC [kg]</th>\n",
       "      <th>C2</th>\n",
       "      <td>64.1</td>\n",
       "      <td>1</td>\n",
       "      <td>155</td>\n",
       "      <td>0.017</td>\n",
       "    </tr>\n",
       "    <tr>\n",
       "      <th>Total</th>\n",
       "      <td>64.1</td>\n",
       "      <td>1</td>\n",
       "      <td>155</td>\n",
       "      <td>0.017</td>\n",
       "    </tr>\n",
       "    <tr>\n",
       "      <th rowspan=\"2\" valign=\"top\">UVlamp [kg]</th>\n",
       "      <th>C2</th>\n",
       "      <td>7.3e+03</td>\n",
       "      <td>1</td>\n",
       "      <td>7.17e+03</td>\n",
       "      <td>0.784</td>\n",
       "    </tr>\n",
       "    <tr>\n",
       "      <th>Total</th>\n",
       "      <td>7.3e+03</td>\n",
       "      <td>1</td>\n",
       "      <td>7.17e+03</td>\n",
       "      <td>0.784</td>\n",
       "    </tr>\n",
       "    <tr>\n",
       "      <th>Sum</th>\n",
       "      <th>All</th>\n",
       "      <td></td>\n",
       "      <td></td>\n",
       "      <td>9.14e+03</td>\n",
       "      <td>1</td>\n",
       "    </tr>\n",
       "  </tbody>\n",
       "</table>\n",
       "</div>"
      ],
      "text/plain": [
       "                      Quantity Item Ratio GWP [kg CO2-eq] Category GWP Ratio\n",
       "Construction  SanUnit                                                       \n",
       "Aluminum [kg] C2          65.3          1             986              0.108\n",
       "              Total       65.3          1             986              0.108\n",
       "PE [kg]       C2           300          1             838             0.0917\n",
       "              Total        300          1             838             0.0917\n",
       "PVC [kg]      C2          64.1          1             155              0.017\n",
       "              Total       64.1          1             155              0.017\n",
       "UVlamp [kg]   C2       7.3e+03          1        7.17e+03              0.784\n",
       "              Total    7.3e+03          1        7.17e+03              0.784\n",
       "Sum           All                                9.14e+03                  1"
      ]
     },
     "execution_count": 14,
     "metadata": {},
     "output_type": "execute_result"
    }
   ],
   "source": [
    "pou.lcaC.get_impact_table('construction')"
   ]
  },
  {
   "cell_type": "code",
   "execution_count": 15,
   "id": "4eff8c31",
   "metadata": {
    "slideshow": {
     "slide_type": "fragment"
    }
   },
   "outputs": [
    {
     "data": {
      "text/html": [
       "<div>\n",
       "<style scoped>\n",
       "    .dataframe tbody tr th:only-of-type {\n",
       "        vertical-align: middle;\n",
       "    }\n",
       "\n",
       "    .dataframe tbody tr th {\n",
       "        vertical-align: top;\n",
       "    }\n",
       "\n",
       "    .dataframe thead th {\n",
       "        text-align: right;\n",
       "    }\n",
       "</style>\n",
       "<table border=\"1\" class=\"dataframe\">\n",
       "  <thead>\n",
       "    <tr style=\"text-align: right;\">\n",
       "      <th></th>\n",
       "      <th>Quantity</th>\n",
       "      <th>GWP [kg CO2-eq]</th>\n",
       "      <th>Category GWP Ratio</th>\n",
       "    </tr>\n",
       "    <tr>\n",
       "      <th>Other</th>\n",
       "      <th></th>\n",
       "      <th></th>\n",
       "      <th></th>\n",
       "    </tr>\n",
       "  </thead>\n",
       "  <tbody>\n",
       "    <tr>\n",
       "      <th>Electricity [kWh]</th>\n",
       "      <td>1.07</td>\n",
       "      <td>0.122</td>\n",
       "      <td>1</td>\n",
       "    </tr>\n",
       "    <tr>\n",
       "      <th>Sum</th>\n",
       "      <td></td>\n",
       "      <td>0.122</td>\n",
       "      <td>1</td>\n",
       "    </tr>\n",
       "  </tbody>\n",
       "</table>\n",
       "</div>"
      ],
      "text/plain": [
       "                  Quantity GWP [kg CO2-eq] Category GWP Ratio\n",
       "Other                                                        \n",
       "Electricity [kWh]     1.07           0.122                  1\n",
       "Sum                                  0.122                  1"
      ]
     },
     "execution_count": 15,
     "metadata": {},
     "output_type": "execute_result"
    }
   ],
   "source": [
    "pou.lcaC.get_impact_table('other')"
   ]
  },
  {
   "cell_type": "markdown",
   "id": "4cbfb059",
   "metadata": {
    "slideshow": {
     "slide_type": "slide"
    }
   },
   "source": [
    "We can compare results using different water sources."
   ]
  },
  {
   "cell_type": "code",
   "execution_count": 16,
   "id": "3da833ef",
   "metadata": {
    "slideshow": {
     "slide_type": "subslide"
    }
   },
   "outputs": [
    {
     "name": "stdout",
     "output_type": "stream",
     "text": [
      "\n",
      " Water Source: Groundwater\n",
      "\n",
      "---------- Summary for sysC ----------\n",
      "\n",
      "\n",
      "Total cost: 3.70 USD/cap/yr.\n",
      "\n",
      "Total GWP: 1.83 kg CO2-eq/cap/year.\n"
     ]
    }
   ],
   "source": [
    "print('\\n Water Source: Groundwater')\n",
    "pou.print_summaries(pou.sysC)"
   ]
  },
  {
   "cell_type": "code",
   "execution_count": 17,
   "id": "f7f5cb27",
   "metadata": {
    "slideshow": {
     "slide_type": "subslide"
    }
   },
   "outputs": [
    {
     "name": "stdout",
     "output_type": "stream",
     "text": [
      "\n",
      " Water Source: Surface Water\n",
      "\n",
      "---------- Summary for sysC ----------\n",
      "\n",
      "\n",
      "Total cost: 3.82 USD/cap/yr.\n",
      "\n",
      "Total GWP: 3.26 kg CO2-eq/cap/year.\n"
     ]
    }
   ],
   "source": [
    "print('\\n Water Source: Surface Water')\n",
    "pou.update_water_source(pou.sysC, 'SW')\n",
    "pou.print_summaries(pou.sysC)"
   ]
  },
  {
   "cell_type": "markdown",
   "id": "4677ea88",
   "metadata": {
    "slideshow": {
     "slide_type": "slide"
    }
   },
   "source": [
    "## Uncertainty and Sensitivity Analyses <a class=\"anchor\" id=\"s3\"></a>\n",
    "We can also run uncertainty and sensitivity analyses."
   ]
  },
  {
   "cell_type": "code",
   "execution_count": 18,
   "id": "b6b4f959",
   "metadata": {
    "slideshow": {
     "slide_type": "subslide"
    }
   },
   "outputs": [
    {
     "name": "stdout",
     "output_type": "stream",
     "text": [
      "function `run_uncertainty`\n",
      "Total time: 0:00:04.\n"
     ]
    }
   ],
   "source": [
    "# Create the model and simulate\n",
    "modelA = pou.create_model('A')\n",
    "pou.models.run_uncertainty(modelA, N=1000)"
   ]
  },
  {
   "cell_type": "markdown",
   "id": "3e7fca41",
   "metadata": {
    "slideshow": {
     "slide_type": "slide"
    }
   },
   "source": [
    "We can quickly see the results (aesthetics can be improved if you want)."
   ]
  },
  {
   "cell_type": "code",
   "execution_count": 19,
   "id": "6eab147d",
   "metadata": {
    "slideshow": {
     "slide_type": "fragment"
    }
   },
   "outputs": [
    {
     "data": {
      "image/png": "[encoded data removed]",
      "text/plain": [
       "<Figure size 640x480 with 1 Axes>"
      ]
     },
     "execution_count": 19,
     "metadata": {},
     "output_type": "execute_result"
    }
   ],
   "source": [
    "fig, ax = qs.stats.plot_uncertainties(modelA)\n",
    "fig"
   ]
  },
  {
   "cell_type": "markdown",
   "id": "c5100b06",
   "metadata": {
    "slideshow": {
     "slide_type": "subslide"
    }
   },
   "source": [
    "Spearman rank correlation:"
   ]
  },
  {
   "cell_type": "code",
   "execution_count": 20,
   "id": "2c37b35e",
   "metadata": {
    "slideshow": {
     "slide_type": "fragment"
    }
   },
   "outputs": [
    {
     "data": {
      "image/png": "[encoded data removed]",
      "text/plain": [
       "<Figure size 632.827x506.452 with 1 Axes>"
      ]
     },
     "execution_count": 20,
     "metadata": {},
     "output_type": "execute_result"
    }
   ],
   "source": [
    "spearman_rho, spearman_p = qs.stats.get_correlations(modelA, kind='Spearman')\n",
    "fig, ax = qs.stats.plot_correlations(spearman_rho)\n",
    "fig"
   ]
  }
 ],
 "metadata": {
  "celltoolbar": "Slideshow",
  "kernelspec": {
   "display_name": "Python 3 (ipykernel)",
   "language": "python",
   "name": "python3"
  },
  "language_info": {
   "codemirror_mode": {
    "name": "ipython",
    "version": 3
   },
   "file_extension": ".py",
   "mimetype": "text/x-python",
   "name": "python",
   "nbconvert_exporter": "python",
   "pygments_lexer": "ipython3",
   "version": "3.9.13"
  },
  "varInspector": {
   "cols": {
    "lenName": 16,
    "lenType": 16,
    "lenVar": 40
   },
   "kernels_config": {
    "python": {
     "delete_cmd_postfix": "",
     "delete_cmd_prefix": "del ",
     "library": "var_list.py",
     "varRefreshCmd": "print(var_dic_list())"
    },
    "r": {
     "delete_cmd_postfix": ") ",
     "delete_cmd_prefix": "rm(",
     "library": "var_list.r",
     "varRefreshCmd": "cat(var_dic_list()) "
    }
   },
   "types_to_exclude": [
    "module",
    "function",
    "builtin_function_or_method",
    "instance",
    "_Feature"
   ],
   "window_display": false
  }
 },
 "nbformat": 4,
 "nbformat_minor": 5
}
