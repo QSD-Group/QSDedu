{
 "cells": [
  {
   "cell_type": "markdown",
   "id": "28c4658c",
   "metadata": {},
   "source": [
    "# Process Design Example: Chlorination <a class=\"anchor\" id=\"top\"></a>\n",
    "\n",
    "- **Prepared by:**\n",
    "    \n",
    "    - [Yalin Li](https://qsdsan.readthedocs.io/en/latest/CONTRIBUTING.html)\n",
    "    - [Philipp Steiner](https://www.eawag.ch/en/aboutus/portrait/organisation/staff/profile/philipp-steiner/show/)\n",
    "    - [Eva Reynaert](https://www.eawag.ch/en/aboutus/portrait/organisation/staff/profile/eva-reynaert/show/)\n",
    "\n",
    "- **Covered topics:**\n",
    "\n",
    "    - [1. Design Algorithms](#s1)\n",
    "    - [2. Process Algorithms](#s2)\n",
    "    - [3. Unit Classes](#s3)\n",
    "    - [4. System, TEA, and LCA](#s4)"
   ]
  },
  {
   "cell_type": "markdown",
   "id": "90d4bb2f",
   "metadata": {},
   "source": [
    "---\n",
    "### Note\n",
    "This tutorial is stale."
   ]
  },
  {
   "cell_type": "markdown",
   "id": "903ee36f",
   "metadata": {},
   "source": [
    "---"
   ]
  },
  {
   "cell_type": "code",
   "execution_count": 1,
   "id": "8e608f02",
   "metadata": {},
   "outputs": [],
   "source": [
    "# Add the path to your cloned repos\n",
    "import os, sys\n",
    "coding_path = os.path.abspath(os.path.join(sys.path[0], '../../../../'))\n",
    "for abbr in ('tmo', 'bst', 'qs'):\n",
    "    sys.path.append(os.path.join(coding_path, abbr))"
   ]
  },
  {
   "cell_type": "code",
   "execution_count": 2,
   "id": "3dc1138e",
   "metadata": {},
   "outputs": [
    {
     "name": "stdout",
     "output_type": "stream",
     "text": [
      "This tutorial was made with qsdsan vNone.\n"
     ]
    }
   ],
   "source": [
    "import qsdsan as qs\n",
    "print(f'This tutorial was made with qsdsan v{qs.__version__}.')"
   ]
  },
  {
   "cell_type": "markdown",
   "id": "efa4852f",
   "metadata": {},
   "source": [
    "### Summary\n",
    "In this example, we will show how we can set up a chlorination process in `QSDsan`, which would include a contact zone, mixing/storage tanks for the chemical sodium hypochlorite (NaOCl) and treated water, and pumps (contact zone, NaOCl dosing, water storage).\n",
    "\n",
    "The algorithms largely follows the methodoly presented in  Jones et al., Life cycle environmental impacts of disinfection technologies used in small drinking water systems. *Environmental Science & Technology*, **2018**, *52* (5), 2998-3007. https://doi.org/10.1021/acs.est.7b04448"
   ]
  },
  {
   "cell_type": "markdown",
   "id": "b7f9ccfc",
   "metadata": {},
   "source": [
    "## 1. Design Algorithms <a class=\"anchor\" id=\"s1\"></a>"
   ]
  },
  {
   "cell_type": "markdown",
   "id": "de048b24",
   "metadata": {},
   "source": [
    "### 1.1. Contact zone"
   ]
  },
  {
   "cell_type": "markdown",
   "id": "ac3a9505",
   "metadata": {},
   "source": [
    "In the contact zone, chlorine (in the form of NaOCl) is added and reacts with the influent stream to inactivate microorganims (e.g., viruses, bacteria, protoza). In this example, the contact zone is modeled as a serpentine tubing."
   ]
  },
  {
   "cell_type": "markdown",
   "id": "29d2f234",
   "metadata": {},
   "source": [
    "To determine the amount of NaOCl to be added, we will need to calculate the CT (concentration$*$time) values required by the inactivation target."
   ]
  },
  {
   "cell_type": "markdown",
   "id": "e5e4fdaa",
   "metadata": {},
   "source": [
    "Let's assume that we will use the following table from U.S. Environmental Protection Agency to determine the CT (in min-mg/L) for 4-log inactivation of viruses by free chlorine (Table B-2 on Page B-3 in this [Disinfection Profiling and Benchmarking Technical Guidance Manual](https://www.epa.gov/system/files/documents/2022-02/disprof_bench_3rules_final_508.pdf))."
   ]
  },
  {
   "cell_type": "markdown",
   "id": "c7f08d0a",
   "metadata": {},
   "source": [
    "| Temperature (°C) | pH=6-9 | pH=10 |\n",
    "|       :-:        |   :-:  |  :-:  |\n",
    "|       0.5        |   12   |   90  |\n",
    "|         5        |    8   |   60  |\n",
    "|        10        |    6   |   45  |\n",
    "|        15        |    4   |   30  |\n",
    "|        20        |    3   |   22  |\n",
    "|        25        |    2   |   15  |"
   ]
  },
  {
   "cell_type": "markdown",
   "id": "11e1d04c",
   "metadata": {},
   "source": [
    "With the CT value, the desired contact time $T_{contact}$ can be calculated from the desired residual chlorine concentration $C_{res}$ (see Section 2.1): \n",
    "$$\n",
    "T_{contact}[min] = \\frac{CT [\\frac{mg*min}{L}]}{C_{res}[\\frac{mg}{L}]}\n",
    "$$\n",
    "    \n",
    "To get the required detention time $T_{DT}$, the desired contact time needs to be corrected by a baffling factor (BF) that accounts for potential short-circuiting:\n",
    "\n",
    "$$\n",
    "T_{DT} [min] = \\frac{T_{contact}}{BF} \n",
    "$$\n",
    "\n",
    "A BF value of 0.7 is typical for the serpentine tubing configuration."
   ]
  },
  {
   "cell_type": "markdown",
   "id": "c524fc12",
   "metadata": {},
   "source": [
    "Dimensions of the serpentine tubing can then be calculated from the $T_{DT}$:\n",
    "\n",
    "$$\n",
    "T_{DT} [min] = \\frac{L_p}{v} = L_p * \\frac{\\pi*{(\\frac{d_p}{2})^2}}{Q} = (AS*d_p) * \\frac{\\pi*{(\\frac{d_p}{2})^2}}{Q}\n",
    "$$\n",
    "\n",
    "where:\n",
    "- $L_p$ and $d_p$ are the length and diameter of the pipe (both in m), respectively\n",
    "- AS is the aspect ratio as in $\\frac{L_p}{d_p}$, recommended to be ≧160 by the Colorado Department of Public Health and Environment as in page 16 of this [Baffling Factor Guidance Manual](https://www.colorado.gov/pacific/sites/default/files/CDPHE%20Baffling%20Factor%20Guidance%20Manual.pdf)\n",
    "- Q and v are the volumetric flow rate and velocity of the influent stream, respectively"
   ]
  },
  {
   "cell_type": "markdown",
   "id": "13b2bd02",
   "metadata": {},
   "source": [
    "Solve for $d_p$:\n",
    "\n",
    "$$\n",
    "d_p [m] = (\\frac{4T_{DT}*Q}{\\pi*AS})^{1/3}\n",
    "$$"
   ]
  },
  {
   "cell_type": "markdown",
   "id": "e28c8246",
   "metadata": {},
   "source": [
    "Then we can calculate the amount of material needed:\n",
    "\n",
    "$$\n",
    "V_{PVC} [m^3] = \\pi * L_p * ((\\frac{d_p}{2}+t_{pipe})^2 - d_p^2)\n",
    "$$\n",
    "\n",
    "where $t_{pipe}$ is the thickness of the pipe."
   ]
  },
  {
   "cell_type": "markdown",
   "id": "a903a2e1",
   "metadata": {},
   "source": [
    "### 1.2. Chlorine tank"
   ]
  },
  {
   "cell_type": "markdown",
   "id": "01ed4c90",
   "metadata": {},
   "source": [
    "A cylindrical tank will be used for the storage of the NaOCl solution. For a certain refill inteval $t_{refill}$, volume of the storage tank for 15 wt% NaOCl solution will be:\n",
    "    \n",
    "$$\n",
    "V_{NaOCl_{sol}}[m^3] = \\frac{M_{Cl_2}[\\frac{kg}{hr}]*t_{refill}[day]*24[\\frac{hr}{day}]*\\frac{MW_{NaOCl}}{MW_{Cl_2}}}{0.15*\\rho_{sol}[\\frac{kg}{m^3}]}\n",
    "$$\n",
    " \n",
    "where:\n",
    "- $M_{Cl_2}$ is the mass flowrate of $Cl_2$ (can be calculated from $C_{res}$, refer to Section 2.1.)\n",
    "- $MW_{Cl_2}$ and $MW_{NaOCl}$ are the molar mass of $Cl_2$ (70.91 $\\frac{g}{mol}$) and NaOCl (74.44 $\\frac{g}{mol}$), respectively\n",
    "- $\\rho_{sol}$ is the density of a 15% NaOCl solution (1200 $\\frac{kg}{m^3}$)"
   ]
  },
  {
   "cell_type": "markdown",
   "id": "a585fe1b",
   "metadata": {},
   "source": [
    "Given that\n",
    "\n",
    "$$\n",
    "V_{NaOCl_{sol}} = \\frac{\\pi}{4}d_{cyl}^2*h_{cyl} = \\frac{\\pi}{4}d_{cyl}^2*AS*d_{cyl} = \\frac{\\pi}{2}d_{cyl}^3\n",
    "$$\n",
    "\n",
    "The diameter of the cylinder tank needed to hold this volume is:\n",
    "    \n",
    "$$\n",
    "d_{cyl} = \\sqrt[3]{\\frac{2*V_{NaOCl_{sol}}}{\\pi}}\n",
    "$$\n",
    "\n",
    "The corresponding PVC volume is:\n",
    "\n",
    "$$\n",
    "V_{wall} = \\pi*h_{cyl}*((d_{cyl}+2*t_{cyl})^2-d_{cyl}^2) = \\pi*AS*d_{cyl}*((d_{cyl}+2*t_{cyl})^2-d_{cyl}^2)\n",
    "$$\n",
    "\n",
    "$$\n",
    "V_{floor} = \\pi*(d_{cyl}+2*t_{cyl})^2*t_{cyl}\n",
    "$$\n",
    "\n",
    "$$\n",
    "V_{PVC} [m^3] = V_{wall}+V_{floor}\n",
    "$$\n",
    "\n",
    "where:\n",
    "- $h_{cyl}$, $d_{cyl}$, and $t_{cyl}$ are the height, inner diameter, and wall thickness of the cylindrical tank (all in m), respectively\n",
    "- AS is the aspect ratio as in $\\frac{h_cyl}{d_cyl}$"
   ]
  },
  {
   "cell_type": "markdown",
   "id": "73664ea6",
   "metadata": {},
   "source": [
    "### 1.3. Pumps"
   ]
  },
  {
   "cell_type": "markdown",
   "id": "564e9603",
   "metadata": {},
   "source": [
    "For the design of the pumps, we will use the general algorithms in the `WWTpump` class in `QSDsan` (despite of the name, the pump algorithms are not limited to wastewater treatment settings)."
   ]
  },
  {
   "cell_type": "markdown",
   "id": "3954fc5f",
   "metadata": {},
   "source": [
    "## 2. Process Algorithms <a class=\"anchor\" id=\"s2\"></a>"
   ]
  },
  {
   "cell_type": "markdown",
   "id": "fcd1a1e5",
   "metadata": {},
   "source": [
    "### 2.1. Chlorine dose"
   ]
  },
  {
   "cell_type": "markdown",
   "id": "c02f398c",
   "metadata": {},
   "source": [
    "Based on the following equation to take into account the amount of chlorine lost to reactions with organics (quantified as the total organic carbon, TOC and ultraviolet absorbance, UVA), we can back-calculate $C_0$ using $C_{res}$:\n",
    "\n",
    "$$\n",
    "C_{res} = -0.8404C_0*ln\\frac{C_0}{C_{res}} - 0.404TOC [\\frac{mg_{C}}{L}]*T_{contact}*(\\frac{C_0}{UVA [1/cm]})^{-0.9108} + C_0\n",
    "$$"
   ]
  },
  {
   "cell_type": "markdown",
   "id": "5f38c936",
   "metadata": {},
   "source": [
    "<font color='red'>\n",
    "    \n",
    "- <strong>Q1:</strong> I'm not sure how TOC and UVA are quantified (e.g., units for them in the equation above)?  \n",
    "- <strong>Q2:</strong> Are there two solutions of $C_0$ at a certain $C_{res}$? If so, we probably would want to use the lower value.\n",
    "    - We might want to double-check the results get from ``scipy`` vs. ``flexsolve``\n",
    "    \n",
    "</font>"
   ]
  },
  {
   "cell_type": "markdown",
   "id": "c5a87356",
   "metadata": {},
   "source": [
    "With $C_0$ solved, we will know how much NaOCl we need to add to achieve the desired CT:\n",
    "\n",
    "$$\n",
    "M_{Cl_2}[\\frac{kg}{hr}] = Q[\\frac{m^3}{hr}]*C_0[\\frac{g}{m^3}]*\\frac{1[kg]}{1000[g]}\n",
    "$$\n",
    "\n",
    "where:\n",
    "- $M_{Cl_2}$ is the mass flowrate of $Cl_2$\n",
    "- $Q$ is the volumetric flowrate of the influent"
   ]
  },
  {
   "cell_type": "markdown",
   "id": "69b8d85f",
   "metadata": {},
   "source": [
    "### 2.2. Pumping energy"
   ]
  },
  {
   "cell_type": "markdown",
   "id": "87c78ea5",
   "metadata": {},
   "source": [
    "Pumping energy can be calculated based on the flow rate and head pressure/loss as:\n",
    "\n",
    "$$\n",
    "P [kW] = \\frac{mgH}{1000\\eta}\n",
    "$$\n",
    "\n",
    "where:\n",
    "- $m$ is mass flow rate in $[\\frac{kg}{s}]$\n",
    "- $H$ is the head pressure/loss $[m]$\n",
    "- $\\eta$ is the typical pump efficiency (set to 60%)"
   ]
  },
  {
   "cell_type": "markdown",
   "id": "a6659f39",
   "metadata": {},
   "source": [
    "#### 2.2.1. For the contact zone"
   ]
  },
  {
   "cell_type": "markdown",
   "id": "6a7a1048",
   "metadata": {},
   "source": [
    "In the case of serpentine tubing, head loss is the sum of the major head loss ($H_f$; due to friction) and minor head loss ($H_m$; due to bends in flow):\n",
    "\n",
    "$$\n",
    "H [m] = H_f + H_m\n",
    "$$"
   ]
  },
  {
   "cell_type": "markdown",
   "id": "2996a35b",
   "metadata": {},
   "source": [
    "For the major head loss, the [Hazen-Williams equation](https://en.wikipedia.org/wiki/Hazen%E2%80%93Williams_equation) can be used (coefficients from [here](https://www.engineeringtoolbox.com/hazen-williams-water-d_797.html)):\n",
    "\n",
    "$$\n",
    "H_f = \\frac{0.2083*(\\frac{100*Q}{C})^{1.852}}{100*d_p^{4.8655}} * L_p\n",
    "$$\n",
    "\n",
    "where C is the roughness coefficient and assumed to be 150 for PVC."
   ]
  },
  {
   "cell_type": "markdown",
   "id": "7d9d7b46",
   "metadata": {},
   "source": [
    "The minor head loss can be calculated as:\n",
    "\n",
    "$$\n",
    "H_m = \\frac{\\epsilon*v^2}{2g} * N_{bend}\n",
    "$$\n",
    "\n",
    "where:\n",
    "- $\\epsilon$ is the minor loss coefficient and assumed to be 1.5\n",
    "- $N_{bend}$ is the number of bends can be calculated by dividing the total length by the segment length\n",
    "\n",
    "$N_{bend}$ can be calculated as\n",
    "\n",
    "$$\n",
    "N_{bend} = \\frac{L_p}{L_{seg}}\n",
    "$$\n",
    "\n",
    "and the segment length $L_{seg}$ can be calculated based on the segment length-to-diameter ratio (recommended to be ≦40 by the Colorado Department of Public Health and Environment as in page 15 of this [Baffling Factor Guidance Manual](https://www.colorado.gov/pacific/sites/default/files/CDPHE%20Baffling%20Factor%20Guidance%20Manual.pdf))."
   ]
  },
  {
   "cell_type": "markdown",
   "id": "9f0a999c",
   "metadata": {},
   "source": [
    "#### 2.2.2. For the storage tank"
   ]
  },
  {
   "cell_type": "markdown",
   "id": "aa0e0f0c",
   "metadata": {},
   "source": [
    "For the cylindrical storage tank, there is no minor head loss, therefore the total head loss only comes from the friction loss. However, we need to consider head pressure needed for clorine addition, which is assumed to be 70.3 m. Therefore, the total head needed is\n",
    "\n",
    "$$\n",
    "H = H_f + H_p = \\frac{0.2083*(\\frac{100*Q}{C})^{1.852}}{100*d_{cyl}^{4.8655}} * h_{cyl} + 70.3\n",
    "$$"
   ]
  },
  {
   "cell_type": "markdown",
   "id": "2f3ff298",
   "metadata": {},
   "source": [
    "[Back to top](#top)"
   ]
  },
  {
   "cell_type": "markdown",
   "id": "b6a928f2",
   "metadata": {},
   "source": [
    "## 3. Unit Classes <a class=\"anchor\" id=\"#s3\"></a>"
   ]
  },
  {
   "cell_type": "markdown",
   "id": "d5691410",
   "metadata": {},
   "source": [
    "### 3.1. Contact zone"
   ]
  },
  {
   "cell_type": "markdown",
   "id": "bbe29d99",
   "metadata": {},
   "source": [
    "For the contact zone, we need to create a new class. Check out the tutorials on `SanUnit` ([basic](https://qsdsan.readthedocs.io/en/latest/tutorials/4_SanUnit_basic.html), [advanced](https://qsdsan.readthedocs.io/en/latest/tutorials/5_SanUnit_advanced.html)) for how to make a new `SanUnit` subclass."
   ]
  },
  {
   "cell_type": "code",
   "execution_count": 3,
   "id": "2081965a",
   "metadata": {},
   "outputs": [],
   "source": [
    "from warnings import warn\n",
    "from math import log, pi, ceil\n",
    "from flexsolve import IQ_interpolation\n",
    "from qsdsan import SanUnit, Construction\n",
    "from qsdsan.sanunits import WWTpump\n",
    "\n",
    "class ContactZone(SanUnit):\n",
    "    '''\n",
    "    Contact zone for water disinfection using chlorine (in the form of sodium hypochlorite, NaOCl).\n",
    "\n",
    "    Parameters\n",
    "    ----------\n",
    "    ins : Iterable(obj)\n",
    "        Influent stream, NaOCl (updated upon unit simulation).\n",
    "    outs : obj\n",
    "        Disinfected stream.\n",
    "    target_CT : float\n",
    "        Desired CT (concentration*time) for microorganism in min-mg/L.\n",
    "    C_res : float\n",
    "        Desired residual concentration of disinfectant in mg/L.\n",
    "    UVA : float\n",
    "        Disinfection credit from UVA.\n",
    "    PVC_thickness : float\n",
    "        Thickness of the PVC material in m.\n",
    "\n",
    "    References\n",
    "    ----------\n",
    "    [1] Jones et al., Life cycle environmental impacts of disinfection technologies\n",
    "    used in small drinking water systems.\n",
    "    Environmental Science & Technology, 2018, 52 (5), 2998-3007.\n",
    "    https://doi.org/10.1021/acs.est.7b04448\n",
    "    [2] Disinfection Profiling and Benchmarking Technical Guidance Manual.\n",
    "    U.S. Environmental Protection Agency.\n",
    "    https://www.epa.gov/system/files/documents/2022-02/disprof_bench_3rules_final_508.pdf\n",
    "    [3] Baffling Factor Guidance Manual.\n",
    "    Colorado Department of Public Health and Environment.\n",
    "    https://www.colorado.gov/pacific/sites/default/files/CDPHE%20Baffling%20Factor%20Guidance%20Manual.pdf\n",
    "\n",
    "    Examples\n",
    "    --------\n",
    "    Here we will skip this as we will show how to use it later.\n",
    "    '''\n",
    "\n",
    "    _N_ins = 2 # influent stream, NaOCl solution\n",
    "    _N_outs = 1 # disinfected water\n",
    "    baffling_factor = 0.7\n",
    "    aspect_ratio = 160 # length over diamteter\n",
    "    segment_L_to_dia = 40 # segment length to diameter ratio\n",
    "    C = 150 # roughness coefficient\n",
    "    epsilon = 1.5 # minor loss coefficient\n",
    "    pump_eff = 0.6\n",
    "\n",
    "    def __init__(self, ID='', ins=None, outs=(), thermo=None, init_with='WasteStream',\n",
    "                 target_CT=4, # based on the table, set default at T=15°C and pH=6-9\n",
    "                 C_res=10, UVA=1, #!!! need to update\n",
    "                 PVC_thickness=0.005,\n",
    "                 **kwargs):\n",
    "        SanUnit.__init__(self, ID, ins, outs, thermo, init_with)\n",
    "        self.target_CT = target_CT\n",
    "        self.C_res= C_res\n",
    "        self.UVA = UVA\n",
    "        self.PVC_thickness = PVC_thickness\n",
    "        for attr, val in kwargs: setattr(self, kwargs)\n",
    "\n",
    "        # To consider LCA impacts from the construction material\n",
    "        self.construction = (\n",
    "            Construction('ContactZone_PVC', linked_unit=self,\n",
    "                         item='PVC', quantity_unit='kg'),\n",
    "            Construction('ContactZone_SS', linked_unit=self,\n",
    "                         item='StainlessSteel', quantity_unit='kg'),\n",
    "        )\n",
    "\n",
    "        # Pump\n",
    "        ID = self.ID\n",
    "        eff = self.outs[0]\n",
    "        self.pump = WWTpump(\n",
    "            ID=ID+'_pump', ins=eff.proxy(eff.ID+'_proxy'),\n",
    "            pump_type='', # use the generic pump algorithm\n",
    "            N_pump=1, capacity_factor=1, include_pump_cost=True,\n",
    "            include_building_cost=False, include_OM_cost=False,\n",
    "        )\n",
    "\n",
    "    # Target function to solve C_0 -->\n",
    "    #i first thought the found result was not matching another solver,\n",
    "    # however the equation just has 2 solutions.\n",
    "    # We'll probably have to discuss with Eva, which solution to use.\n",
    "    @staticmethod\n",
    "    def _C_res_at_C_0(C_0, TOC, contact_time, UVA, C_res):\n",
    "        C_res2 = -0.8404*C_0*log(C_0/C_res) - 0.404*TOC*contact_time*(C_0/UVA)**(-0.9108) + C_0\n",
    "        return C_res2-C_res\n",
    "\n",
    "    # Implement process algorithms\n",
    "    def _run(self):\n",
    "        inf, naocl = self.ins\n",
    "        eff, = self.outs\n",
    "\n",
    "        # Calculate contact time and C_0\n",
    "        TOC = inf.TOC # in mg/L\n",
    "        UVA = self.UVA\n",
    "        C_res = self.C_res\n",
    "        contact_time = self.target_CT / self.C_res\n",
    "        try:\n",
    "            C_0 = IQ_interpolation( # in mg/L\n",
    "                f=self._C_res_at_C_0, x0=C_res, x1=100*C_res, # assume that C_0 won't be >100X of C_res\n",
    "                ytol=1e-6, args=(TOC, contact_time, UVA, C_res),\n",
    "                checkbounds=False)\n",
    "        except:\n",
    "            warn('Could not find C_0 for the specified values of TOC, contact_time, UVA and C_res.'\n",
    "                 'C_0 is assumed to be the same as C_res, resullts may be faulty!')\n",
    "            C_0 = C_res # assumed\n",
    "\n",
    "        C_naocl = C_0/70.91*74.44 # 1-to-1 molar conversion of C_0 (for Cl2) to NaOCl\n",
    "        naocl.imass['NaOCl'] = m_naocl = inf.F_vol * C_naocl / 1000 # m3*mg/L/1000 = kg\n",
    "        naocl.imass['Water'] = m_naocl/0.15 - m_naocl\n",
    "\n",
    "        eff.mix_from(self.ins)\n",
    "        eff.imass['NaOCl'] *= C_res/C_0 # account for the consumed NaOCl\n",
    "\n",
    "    _units = { # units of measure for the design parameters\n",
    "        'Pipe diameter': 'm',\n",
    "        'Pipe length': 'm',\n",
    "        'Total PVC': 'm3',\n",
    "        'Pump head': 'm',\n",
    "        'Pump stainless steel': 'kg',\n",
    "    }\n",
    "\n",
    "    # Implement design algorithms\n",
    "    def _design(self):\n",
    "        D = self.design_results\n",
    "\n",
    "        # Pipe dimensions\n",
    "        contact_time=self.target_CT / self.C_res\n",
    "        t_DT = contact_time / self.baffling_factor # theoretical detention time\n",
    "        Q = self.F_vol_in # m3/hr\n",
    "        t_PVC, AS, C = self.PVC_thickness, self.aspect_ratio, self.C\n",
    "        dia = (4*t_DT*Q/(pi*AS))**(1/3)\n",
    "        dia_out = dia + 2*t_PVC\n",
    "        D['Pipe diameter'] = dia\n",
    "        L_p = D['Pipe length'] = dia * AS\n",
    "        V_PVC = D['Total PVC'] = pi * L_p * ((dia_out/2)**2-dia**2)\n",
    "\n",
    "        # Pump head\n",
    "        H_f = 0.2083*(100*Q/C)**1.852/(100*dia**4.8655)*L_p # m\n",
    "        v = Q/(pi*dia**2)\n",
    "        N_bend = ceil(L_p/(dia*self.segment_L_to_dia))\n",
    "        H_m = self.epsilon*v**2/(2*9.81)*N_bend\n",
    "        H = D['Pump head'] = H_f + H_m\n",
    "\n",
    "        # Pump\n",
    "        pump = self.pump\n",
    "        pump.simulate()\n",
    "        m_ss = D['Pump stainless steel'] = pump.design_results['Pump stainless steel']\n",
    "        self.power_utility.rate = self.F_mass_in*9.81*H/(1000*self.pump_eff)\n",
    "\n",
    "        #!!! Will need CAPEX/OPEX/impacts of the UVA lights as well\n",
    "\n",
    "        # Construction materials for TEA/LCA\n",
    "        self.construction[0].quantity = V_PVC\n",
    "        self.construction[1].quantity = m_ss\n",
    "        self.add_construction(add_cost=True) # this will add PVC and SS cost\n",
    "\n",
    "    _F_BM_default = {\n",
    "        'PVC': 1,\n",
    "        'StainlessSteel': 1,\n",
    "        'Pump': 1.18*(1+0.007/100),\n",
    "    }\n",
    "    def _cost(self):\n",
    "        C = self.baseline_purchase_costs\n",
    "        C['Pump'] = self.pump.baseline_purchase_costs['Pump']"
   ]
  },
  {
   "cell_type": "markdown",
   "id": "d336dead",
   "metadata": {},
   "source": [
    "### 3.2. ChlorineTank"
   ]
  },
  {
   "cell_type": "code",
   "execution_count": 4,
   "id": "1af670fd",
   "metadata": {},
   "outputs": [],
   "source": [
    "from qsdsan.sanunits import MixTank\n",
    "\n",
    "class ChlorineTank(MixTank):\n",
    "    '''\n",
    "    A subclass of `MixTank` with an auxiliary pump for chlorine storage.\n",
    "\n",
    "    Parameters\n",
    "    ----------\n",
    "    ins : Iterable(obj)\n",
    "        NaOCl, water.\n",
    "    outs : obj\n",
    "        NaOCl solution.\n",
    "    t_refill : float\n",
    "        Tank refill interval in d.\n",
    "    head_pressure : float\n",
    "        Assumed head pressure for the pump in m.\n",
    "    PVC_thickness : float\n",
    "        Thickness of the PVC material in m.\n",
    "\n",
    "    See Also\n",
    "    --------\n",
    "    `qsdsan.sanunits.MixTank <https://qsdsan.readthedocs.io/en/latest/sanunits/tanks.html#mixtank>`_\n",
    "    '''\n",
    "\n",
    "    aspect_ratio = 2 # height over diameter\n",
    "    C = 150 # roughness coefficient\n",
    "    pump_eff = 0.6\n",
    "\n",
    "    def __init__(self, ID='', ins=None, outs=(), thermo=None, init_with='WasteStream',\n",
    "                 t_refill=7, head_pressure=70.3, PVC_thickness=0.02, **kwargs):\n",
    "        MixTank.__init__(self, ID, ins, outs, thermo)\n",
    "        self.head_pressure = head_pressure\n",
    "        self.PVC_thickness = PVC_thickness\n",
    "        for attr, val in kwargs: setattr(self, kwargs)\n",
    "\n",
    "        # To consider LCA impacts from the construction material\n",
    "        self.construction = (\n",
    "            Construction('ChlorineTank_PVC', linked_unit=self,\n",
    "                         item='PVC', quantity_unit='kg'),\n",
    "            Construction('ChlorineTank_SS', linked_unit=self,\n",
    "                         item='StainlessSteel', quantity_unit='kg'),\n",
    "        )\n",
    "        eff = self.outs[0]\n",
    "        self.pump = WWTpump(\n",
    "            ID=self.ID+'_pump', ins=eff.proxy(eff.ID+'_proxy'),\n",
    "            pump_type='', # use the generic pump algorithm\n",
    "            N_pump=1, capacity_factor=1, include_pump_cost=True,\n",
    "            include_building_cost=False, include_OM_cost=False,\n",
    "        )\n",
    "\n",
    "    def _run(self):\n",
    "        naocl, water = self.ins # NaOCl dose will be adjusted when assesmbling the system\n",
    "        eff = self.outs[0]\n",
    "        naocl.copy_flow(eff, IDs=('NaOCl',))\n",
    "        water.copy_flow(eff, IDs=('Water',))\n",
    "\n",
    "\n",
    "    _units = { # units of measure for the design parameters\n",
    "        'Tank diameter': 'm',\n",
    "        'Tank height': 'm',\n",
    "        'Total PVC': 'm3',\n",
    "        'Pump head': 'm',\n",
    "        'Pump stainless steel': 'kg',\n",
    "    }\n",
    "    def _design(self):\n",
    "        MixTank._design(self)\n",
    "        D = self.design_results\n",
    "        eff = self.outs[0]\n",
    "\n",
    "        # Cylindrical tank\n",
    "        V_naocl = self.ins[0].F_vol\n",
    "        AS, t_PVC = self.aspect_ratio, self.PVC_thickness\n",
    "        dia = 2*((V_naocl/(pi*AS))**(1/3))\n",
    "        dia_out = dia + 2*self.PVC_thickness\n",
    "\n",
    "        D['Tank diameter'] = dia\n",
    "        h_cyl = D['Tank height'] = dia * AS\n",
    "        V_wall = pi*h_cyl*(dia_out**2-dia**2)\n",
    "        V_floor = pi * dia_out**2 * t_PVC\n",
    "        V_PVC = D['Total PVC'] = V_wall + V_floor\n",
    "\n",
    "        # Pump\n",
    "        Q = eff.F_vol\n",
    "        C = self.C\n",
    "        pump = self.pump\n",
    "        H_f = 0.2083*(100*Q/C)**1.852/(100*dia**4.8655) * h_cyl # m\n",
    "        H_p = self.head_pressure\n",
    "        D['Pump head'] = H_f + H_p\n",
    "        pump.simulate()\n",
    "        m_ss = D['Pump stainless steel'] = pump.design_results['Pump stainless steel']\n",
    "\n",
    "        # # This is if want to use the default algorithms for calculating electricity usage,\n",
    "        # # it's more conservative (i.e., the efficiency is lower)\n",
    "        # pump._H_f = H_f * 3.28 # ft\n",
    "        # pump._H_p = H_p * 3.28 # ft\n",
    "\n",
    "        # Construction materials for TEA/LCA\n",
    "        self.construction[0].quantity = V_PVC\n",
    "        self.construction[1].quantity = m_ss\n",
    "        self.add_construction(add_cost=True) # this will add PVC and SS cost\n",
    "\n",
    "    _F_BM_default = {\n",
    "        'PVC': 1,\n",
    "        'StainlessSteel': 1,\n",
    "        'Pump': 1.18*(1+0.007/100),\n",
    "    }\n",
    "    def _cost(self):\n",
    "        MixTank._cost(self) #!!! this will also add the cost for a stainless steel tank\n",
    "        pump = self.pump\n",
    "        self.baseline_purchase_costs['Pump'] = pump.baseline_purchase_costs['Pump']\n",
    "        H = self.design_results['Pump head']\n",
    "        self.power_utility.rate += self.F_mass_in*9.81*H/(1000*self.pump_eff)"
   ]
  },
  {
   "cell_type": "markdown",
   "id": "62d9849e",
   "metadata": {},
   "source": [
    "## 4. System, TEA, and LCA <a class=\"anchor\" id=\"#s4\"></a>"
   ]
  },
  {
   "cell_type": "markdown",
   "id": "650a5f5c",
   "metadata": {},
   "source": [
    "Finally it's time to create and simulate the entire system."
   ]
  },
  {
   "cell_type": "code",
   "execution_count": 5,
   "id": "68423ea8",
   "metadata": {},
   "outputs": [
    {
     "name": "stderr",
     "output_type": "stream",
     "text": [
      "/Users/yalinli_cabbi/Library/CloudStorage/OneDrive-Personal/Coding/bst/biosteam/_unit.py:635: RuntimeWarning: the purchase cost item, 'Tanks', has no defined bare-module factor in the 'ChlorineTank.F_BM' dictionary; bare-module factor now has a default value of 1\n",
      "  warn(warning)\n"
     ]
    }
   ],
   "source": [
    "# Identify the components needed for simulation\n",
    "import qsdsan as qs\n",
    "from qsdsan import Component, Components, set_thermo, WasteStream, \\\n",
    "    System, SimpleTEA, ImpactIndicator, ImpactItem, StreamImpactItem, LCA\n",
    "\n",
    "# Set up components to be used in simulation\n",
    "kwargs = {\n",
    "    'phase': 'l',\n",
    "    'particle_size': 'Soluble',\n",
    "    'degradability': 'Undegradable',\n",
    "    'organic': False,\n",
    "}\n",
    "H2O = Component('H2O', **kwargs)\n",
    "\n",
    "kwargs['phase'] = 's'\n",
    "kwargs['particle_size'] = 'Particulate'\n",
    "NaOCl = Component('NaOCl', **kwargs)\n",
    "NaOCl.copy_models_from(qs.Component('HOCl', **kwargs), ['V']) # this gives a rho of ~1.1 g/mL for 15 wt% solution\n",
    "\n",
    "cmps = Components([H2O, NaOCl])\n",
    "cmps.compile()\n",
    "cmps.set_alias('H2O', 'Water')\n",
    "set_thermo(cmps)\n",
    "\n",
    "# # Redundant codes, remove after module done\n",
    "# HCl = Component('HCl', **kwargs)\n",
    "# HOCl = Component('HOCl', **kwargs)\n",
    "# NH3 = Component('NH3', **kwargs) # assumed to be liquefied NH3\n",
    "# cmps = Components([H2O, NaOCl, HCl, HOCl, NH3])\n",
    "# cmps.set_alias('NH3', 'Ammonia')\n",
    "# s = WasteStream(Water=85, NaOCl=15, units='kg/hr')\n",
    "\n",
    "\n",
    "# Impact items for LCA, values all made-up now\n",
    "GWP = ImpactIndicator('GWP', unit='kg CO2')\n",
    "PVC = ImpactItem('PVC', GWP=1, price=1)\n",
    "StainlessSteel = ImpactItem('StainlessSteel', GWP=5, price=5)\n",
    "NaOCl_item = StreamImpactItem('naocl_item', GWP=2)\n",
    "e_item = ImpactItem('e_item', functional_unit='kWh', GWP=1.1)\n",
    "\n",
    "# Streams\n",
    "influent = WasteStream('influent', Water=100, units='kg/hr') # an assumed fake stream\n",
    "naocl = WasteStream('naocl', price=1, stream_impact_item=NaOCl_item, units='kg/hr') # price is made-up\n",
    "water = WasteStream('water')\n",
    "disinfected = WasteStream('disinfected')\n",
    "\n",
    "U1 = ContactZone('U1', ins=(influent, 'naocl_solution'), outs=disinfected)\n",
    "U2 = ChlorineTank('U2', ins=(naocl, water), outs=1-U1)\n",
    "\n",
    "sys = System('sys', path=(U1, U2))\n",
    "sys.simulate()\n",
    "\n",
    "tea = SimpleTEA(sys, discount_rate=0.5, income_tax=0.3, lifetime=10)\n",
    "\n",
    "get_e_item_quantity = lambda: (sys.get_electricity_consumption()-sys.get_electricity_production())*tea.lifetime\n",
    "lca = LCA(sys, lifetime=tea.lifetime, e_item=get_e_item_quantity)"
   ]
  },
  {
   "cell_type": "code",
   "execution_count": 6,
   "id": "2fd30f57",
   "metadata": {},
   "outputs": [
    {
     "data": {
      "text/plain": [
       "450.8329582699148"
      ]
     },
     "execution_count": 6,
     "metadata": {},
     "output_type": "execute_result"
    }
   ],
   "source": [
    "# TEA results\n",
    "def get_price():\n",
    "    price = tea.solve_price(disinfected)\n",
    "    price = price*disinfected.F_mass/disinfected.F_vol # per m3\n",
    "    return price\n",
    "\n",
    "get_price()"
   ]
  },
  {
   "cell_type": "code",
   "execution_count": 7,
   "id": "72440dfe",
   "metadata": {},
   "outputs": [
    {
     "data": {
      "text/plain": [
       "37102.10326916433"
      ]
     },
     "execution_count": 7,
     "metadata": {},
     "output_type": "execute_result"
    }
   ],
   "source": [
    "# LCA results\n",
    "def get_impact():\n",
    "    impact = lca.get_total_impacts(time=1)['GWP'] # per hour\n",
    "    impact = impact/disinfected.F_vol # per m3\n",
    "    return impact\n",
    "\n",
    "get_impact()"
   ]
  },
  {
   "cell_type": "markdown",
   "id": "8bdf18d1",
   "metadata": {},
   "source": [
    "<font color='red'>\n",
    "    \n",
    "We need the following data for TEA/LCA (below are ones I can think of now, there might be more)\n",
    "- Lifetime of the equipment and TEA/LCA\n",
    "- TEA\n",
    "    - Costs of the unit. If we don't have the cost for the entire unit, we can calculate based on the materials (and we would need the unit costs of PVC/stainless steel), as well as the UVA lights\n",
    "    - Costs of NaOCl (pure vs. solution?)\n",
    "    - Electricity usage of UVA lights\n",
    "    - Other assumptions like discount rate, income tax, etc.\n",
    "- LCA\n",
    "    - Life cycle inventory assessment method (e.g., ReCiPe) with the corresponding characterization factors for materials (PVC, stainless steel, UVA lights), chemicals (NaOCl), and electricity. I only used GWP here as an example, we can do any number of LCIA methods/indicators you like.\n",
    "    \n",
    "</font>"
   ]
  },
  {
   "cell_type": "code",
   "execution_count": null,
   "id": "33c60ab6",
   "metadata": {},
   "outputs": [],
   "source": []
  },
  {
   "cell_type": "code",
   "execution_count": null,
   "id": "a83ecc29",
   "metadata": {},
   "outputs": [],
   "source": []
  },
  {
   "cell_type": "code",
   "execution_count": null,
   "id": "df2274a3",
   "metadata": {},
   "outputs": [],
   "source": []
  },
  {
   "cell_type": "code",
   "execution_count": null,
   "id": "257b7c8a",
   "metadata": {},
   "outputs": [],
   "source": []
  },
  {
   "cell_type": "code",
   "execution_count": null,
   "id": "a592d8a3",
   "metadata": {},
   "outputs": [],
   "source": []
  },
  {
   "cell_type": "code",
   "execution_count": null,
   "id": "7e7599b4",
   "metadata": {},
   "outputs": [],
   "source": []
  },
  {
   "cell_type": "code",
   "execution_count": null,
   "id": "275115c2",
   "metadata": {},
   "outputs": [],
   "source": []
  },
  {
   "cell_type": "markdown",
   "id": "9d9a485a",
   "metadata": {},
   "source": [
    "[Back to top](#top)"
   ]
  }
 ],
 "metadata": {
  "interpreter": {
   "hash": "5c4384bbfe0fafd87c455cafafefa588d87617773c75dc9eb96f43c39a856362"
  },
  "kernelspec": {
   "display_name": "Python 3 (ipykernel)",
   "language": "python",
   "name": "python3"
  },
  "language_info": {
   "codemirror_mode": {
    "name": "ipython",
    "version": 3
   },
   "file_extension": ".py",
   "mimetype": "text/x-python",
   "name": "python",
   "nbconvert_exporter": "python",
   "pygments_lexer": "ipython3",
   "version": "3.9.13"
  },
  "varInspector": {
   "cols": {
    "lenName": 16,
    "lenType": 16,
    "lenVar": 40
   },
   "kernels_config": {
    "python": {
     "delete_cmd_postfix": "",
     "delete_cmd_prefix": "del ",
     "library": "var_list.py",
     "varRefreshCmd": "print(var_dic_list())"
    },
    "r": {
     "delete_cmd_postfix": ") ",
     "delete_cmd_prefix": "rm(",
     "library": "var_list.r",
     "varRefreshCmd": "cat(var_dic_list()) "
    }
   },
   "types_to_exclude": [
    "module",
    "function",
    "builtin_function_or_method",
    "instance",
    "_Feature"
   ],
   "window_display": false
  }
 },
 "nbformat": 4,
 "nbformat_minor": 5
}
