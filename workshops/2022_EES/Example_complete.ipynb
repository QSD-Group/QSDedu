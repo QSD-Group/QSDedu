{
 "cells": [
  {
   "cell_type": "markdown",
   "id": "a74949bd",
   "metadata": {},
   "source": [
    "# `QSDsan` Workshop Complete Workbook <a class=\"anchor\" id=\"top\"></a>\n",
    "\n",
    "- **Prepared by:**\n",
    "    \n",
    "    - [Yalin Li](https://qsdsan.readthedocs.io/en/latest/CONTRIBUTING.html)\n",
    "\n",
    "- **Covered topics:**\n",
    "\n",
    "    - [0. Instructions](#s0)\n",
    "    - [1. Systems, TEA, LCA, and MCDA](#s1)\n",
    "    \n",
    "        - [1.1. System set up](#s1.1)\n",
    "        - [1.2. TEA and LCA](#s1.2)\n",
    "        - [1.3. MCDA](#s1.3)\n",
    "    \n",
    "    - [2. Uncertainty and Sensitivity Analyses](#s2)\n",
    "    - [3. Country-Specific Analysis](#s3)"
   ]
  },
  {
   "cell_type": "markdown",
   "id": "69e1a913",
   "metadata": {},
   "source": [
    "## 0. Instructions <a class=\"anchor\" id=\"s0\"></a>\n",
    "Detailed instructions on how to use Jupyter Notebook can be found [here](https://realpython.com/jupyter-notebook-introduction/) (there are many online, this is just one example).\n",
    "\n",
    "The key things to know about is that you can run a cell using `shift`/`ctrl`/`cmd`+`enter` or the `▶`/`▶Run` button on the menu bar as below.\n",
    "<img src='files/run.png' alt='run'/>"
   ]
  },
  {
   "cell_type": "markdown",
   "id": "903eb2f9",
   "metadata": {},
   "source": [
    "Remember that everything marked with \"A\" (e.g., `sysA`) is related to the pit latrine system and \"B\" is related to the urine-diverting dry toilet (UDDT) system."
   ]
  },
  {
   "cell_type": "markdown",
   "id": "6e9b1173",
   "metadata": {},
   "source": [
    "Note that you need to install all the packages in \"requirements.txt\" (or clone the respective repositories) prior to running this notebook."
   ]
  },
  {
   "cell_type": "markdown",
   "id": "4885eedc",
   "metadata": {},
   "source": [
    "Have fun!"
   ]
  },
  {
   "cell_type": "markdown",
   "id": "b970f090",
   "metadata": {},
   "source": [
    "[Back to top](#top)"
   ]
  },
  {
   "cell_type": "code",
   "execution_count": 1,
   "id": "d97b6c1e",
   "metadata": {},
   "outputs": [],
   "source": [
    "# This cell is just to show the version of the packages for result consistency\n",
    "import qsdsan as qs, exposan as es\n",
    "print(f'This tutorial was made with qsdsan v{qs.__version__}, exposan v{es.__version__}.')"
   ]
  },
  {
   "cell_type": "markdown",
   "id": "e0025fc1",
   "metadata": {},
   "source": [
    "## 1. Systems, TEA, LCA, and MCDA <a class=\"anchor\" id=\"s1\"></a>\n",
    "\n",
    "As we introduced earlier in this workshop, in this example we are from a community deciding which kind of toilets we would like to install.\n",
    "\n",
    "We have two options: pit latrine or urine-diverting dry toilet (UDDT). The pit latrine is cheaper, but the excreta may leach into the environment, and the low emptying frequency of it leads to more organic degradation that releases CH4 and N2O. UDDT, on the other hand, has higher capital and operating costs, but it separates urine from the solid wastes, thus can recovery more nutrients (N, P, and K). It is also cleaned at a more higher frequency than the pit latrine, therefore releases much less greenhouse gases (GHGs)."
   ]
  },
  {
   "cell_type": "markdown",
   "id": "0dc0a3d4",
   "metadata": {},
   "source": [
    "For the sake of time, we have pre-constructed those examples, but you can find all the codes for this [workshop](https://github.com/QSD-Group/QSDsan-workshop) (and those for [QSDsan](https://github.com/QSD-Group/QSDsan)) on GitHub."
   ]
  },
  {
   "cell_type": "markdown",
   "id": "8924b755",
   "metadata": {},
   "source": [
    "### 1.1. System setup <a class=\"anchor\" id=\"s1.1\"></a>"
   ]
  },
  {
   "cell_type": "code",
   "execution_count": 2,
   "id": "7a6015e5",
   "metadata": {},
   "outputs": [],
   "source": [
    "# Let's have a look at the system\n",
    "# `sysA` is the system for pit latrine and `sysB` for UDDT\n",
    "from systems import create_system\n",
    "sysA = create_system('A')\n",
    "sysB = create_system('B')"
   ]
  },
  {
   "cell_type": "markdown",
   "id": "41ecc5c5",
   "metadata": {},
   "source": [
    "As we can see, for both systems we include the human excreta input units (`A1`, `B1`), the toilets (`A2`, `B2`), the transportation units (`A3`, `B3`&`B4`).\n",
    "\n",
    "Additionally, the the crop application units (`A4`, `B5`&`B6`) are used to account for the handling loss of the nutrients in the excreta, fugitative mixers (`A5`&`A6`, `B7`&`B8`) are used to record how the fugitative CH4 and N2O, and the splitters (`A7`, `B9`&`B10`) are used for easy calculation of the nutrient recoveries."
   ]
  },
  {
   "cell_type": "code",
   "execution_count": 3,
   "id": "5966a6b8",
   "metadata": {},
   "outputs": [],
   "source": [
    "sysA.diagram()"
   ]
  },
  {
   "cell_type": "code",
   "execution_count": 4,
   "id": "df1b2cdb",
   "metadata": {
    "scrolled": false
   },
   "outputs": [],
   "source": [
    "sysB.diagram()"
   ]
  },
  {
   "cell_type": "markdown",
   "id": "7229584b",
   "metadata": {},
   "source": [
    "[Back to top](#top)"
   ]
  },
  {
   "cell_type": "markdown",
   "id": "c5686f60",
   "metadata": {},
   "source": [
    "### 1.2. TEA and LCA <a class=\"anchor\" id=\"s1.2\"></a>"
   ]
  },
  {
   "cell_type": "code",
   "execution_count": 5,
   "id": "c6a4e85c",
   "metadata": {},
   "outputs": [],
   "source": [
    "# To get a quick peek of the results,\n",
    "# the functions were premade for convenience\n",
    "from systems import get_daily_cap_cost, get_daily_cap_ghg"
   ]
  },
  {
   "cell_type": "code",
   "execution_count": 6,
   "id": "efaf7fbe",
   "metadata": {},
   "outputs": [],
   "source": [
    "# To look at cost of different categories\n",
    "get_daily_cap_cost(system=sysA, kind='net', print_msg=True)\n",
    "get_daily_cap_cost(system=sysA, kind='CAPEX', print_msg=True)\n",
    "get_daily_cap_cost(system=sysA, kind='OPEX', print_msg=True)\n",
    "get_daily_cap_cost(system=sysA, kind='sales', print_msg=True)"
   ]
  },
  {
   "cell_type": "code",
   "execution_count": 7,
   "id": "37246cda",
   "metadata": {},
   "outputs": [],
   "source": [
    "# Same for `sysB`\n",
    "get_daily_cap_cost(system=sysB, kind='net', print_msg=True)\n",
    "get_daily_cap_cost(system=sysB, kind='CAPEX', print_msg=True)\n",
    "get_daily_cap_cost(system=sysB, kind='OPEX', print_msg=True)\n",
    "get_daily_cap_cost(system=sysB, kind='sales', print_msg=True)"
   ]
  },
  {
   "cell_type": "code",
   "execution_count": 8,
   "id": "eba44101",
   "metadata": {},
   "outputs": [],
   "source": [
    "# And the same goes for LCA results\n",
    "get_daily_cap_ghg(system=sysA, kind='net', print_msg=True)\n",
    "get_daily_cap_ghg(system=sysA, kind='capital', print_msg=True)\n",
    "get_daily_cap_ghg(system=sysA, kind='operating', print_msg=True)\n",
    "get_daily_cap_ghg(system=sysA, kind='transportation', print_msg=True) # operating = transportation+direct-offset\n",
    "get_daily_cap_ghg(system=sysA, kind='direct', print_msg=True) # direct emission from CH4 and N2O\n",
    "get_daily_cap_ghg(system=sysA, kind='offset', print_msg=True) # offset from N, P, and K"
   ]
  },
  {
   "cell_type": "code",
   "execution_count": 9,
   "id": "011c4d5b",
   "metadata": {},
   "outputs": [],
   "source": [
    "# `sysB`\n",
    "get_daily_cap_ghg(system=sysB, kind='net', print_msg=True)\n",
    "get_daily_cap_ghg(system=sysB, kind='capital', print_msg=True)\n",
    "get_daily_cap_ghg(system=sysB, kind='operating', print_msg=True)\n",
    "get_daily_cap_ghg(system=sysB, kind='transportation', print_msg=True)\n",
    "get_daily_cap_ghg(system=sysB, kind='direct', print_msg=True)\n",
    "get_daily_cap_ghg(system=sysB, kind='offset', print_msg=True)"
   ]
  },
  {
   "cell_type": "markdown",
   "id": "a9439c74",
   "metadata": {},
   "source": [
    "You can know much more about the systems using QSDsan, we cannot show them all here during to time limit, but you are welcome to checkout QSDsan's [documentation](https://qsdsan.readthedocs.io/en/latest/), which includes step-to-step tutorials to help you start from zero (you will find links to the YouTube demo videos in the tutorial)."
   ]
  },
  {
   "cell_type": "code",
   "execution_count": 10,
   "id": "1c7d7023",
   "metadata": {},
   "outputs": [],
   "source": [
    "# For example, you can do the following to know more about a unit\n",
    "sysA.units"
   ]
  },
  {
   "cell_type": "code",
   "execution_count": 11,
   "id": "4624a40a",
   "metadata": {},
   "outputs": [],
   "source": [
    "flowsheetA = sysA.flowsheet\n",
    "A2 = flowsheetA.unit.A2\n",
    "A2.results()"
   ]
  },
  {
   "cell_type": "code",
   "execution_count": 12,
   "id": "25c35652",
   "metadata": {
    "scrolled": false
   },
   "outputs": [],
   "source": [
    "# Or a stream\n",
    "mixed_waste = A2.outs[0]\n",
    "mixed_waste.show()"
   ]
  },
  {
   "cell_type": "markdown",
   "id": "4e060d95",
   "metadata": {},
   "source": [
    "[Back to top](#top)"
   ]
  },
  {
   "cell_type": "markdown",
   "id": "50747e02",
   "metadata": {},
   "source": [
    "### 1.3. MCDA <a class=\"anchor\" id=\"s1.3\"></a>"
   ]
  },
  {
   "cell_type": "code",
   "execution_count": null,
   "id": "942de994",
   "metadata": {
    "scrolled": true
   },
   "outputs": [],
   "source": [
    "# Assume we will make the decision based on TEA/LCA results\n",
    "from systems import create_mcda, run_mcda\n",
    "mcda = create_mcda((sysA, sysB))\n",
    "run_mcda(mcda=mcda, econ_weight=0.4, print_msg=True) # environmental criterion weight will be 1-0.4=0.6"
   ]
  },
  {
   "cell_type": "code",
   "execution_count": null,
   "id": "94a6685b",
   "metadata": {},
   "outputs": [],
   "source": [
    "# To look at the impact of criterion weight\n",
    "econ_weights = [0, 0.1, 0.2, 0.3, 0.4, 0.5, 0.6, 0.7, 0.8, 0.9, 1]\n",
    "scoresA = []\n",
    "scoresB = []\n",
    "for weight in econ_weights:\n",
    "    score_df = run_mcda(mcda, econ_weight=weight, print_msg=False)\n",
    "    scoresA.append(score_df.sysA.item())\n",
    "    scoresB.append(score_df.sysB.item())"
   ]
  },
  {
   "cell_type": "code",
   "execution_count": null,
   "id": "f222425e",
   "metadata": {},
   "outputs": [],
   "source": [
    "# Quick visualization\n",
    "from matplotlib import pyplot as plt\n",
    "plt.plot(econ_weights, scoresA, '-', label='Pit Latrine')\n",
    "plt.plot(econ_weights, scoresB, '--', label='UDDT')\n",
    "plt.xlabel('Economic Weight', fontsize=12)\n",
    "plt.ylabel('Performance Score', fontsize=12)\n",
    "plt.legend()"
   ]
  },
  {
   "cell_type": "markdown",
   "id": "47142859",
   "metadata": {},
   "source": [
    "[Back to top](#top)"
   ]
  },
  {
   "cell_type": "markdown",
   "id": "90f4eee8",
   "metadata": {},
   "source": [
    "## 2. Uncertainty and Sensitivity Analyses <a class=\"anchor\" id=\"s2\"></a>"
   ]
  },
  {
   "cell_type": "code",
   "execution_count": null,
   "id": "e1176921",
   "metadata": {},
   "outputs": [],
   "source": [
    "# To enable uncertainty and sensitivity analyses, we can use system models\n",
    "from qsdsan import stats as s\n",
    "from models import run_uncertainties, get_param_metric"
   ]
  },
  {
   "cell_type": "code",
   "execution_count": null,
   "id": "27a7e225",
   "metadata": {},
   "outputs": [],
   "source": [
    "modelA, modelB = run_uncertainties(N=10) # N is the number of samples we want to run"
   ]
  },
  {
   "cell_type": "code",
   "execution_count": null,
   "id": "8e6d1b30",
   "metadata": {},
   "outputs": [],
   "source": [
    "# To look at the uncertain parameters and result metrics included in the model\n",
    "modelA.parameters"
   ]
  },
  {
   "cell_type": "code",
   "execution_count": null,
   "id": "366054fc",
   "metadata": {
    "scrolled": true
   },
   "outputs": [],
   "source": [
    "modelA.metrics"
   ]
  },
  {
   "cell_type": "code",
   "execution_count": null,
   "id": "315d6b3c",
   "metadata": {},
   "outputs": [],
   "source": [
    "modelA.table # the raw results"
   ]
  },
  {
   "cell_type": "code",
   "execution_count": null,
   "id": "820aa1db",
   "metadata": {},
   "outputs": [],
   "source": [
    "# QSDsan also has handy plotting functions to quickly visualize the results\n",
    "recoveriesA = [get_param_metric(name, modelA, 'metric')\n",
    "               for name in ('N recovery', 'P recovery', 'K recovery')]\n",
    "fig, ax = s.plot_uncertainties(modelA, x_axis=recoveriesA)\n",
    "fig"
   ]
  },
  {
   "cell_type": "code",
   "execution_count": null,
   "id": "c14433dc",
   "metadata": {},
   "outputs": [],
   "source": [
    "costB = get_param_metric('Net cost', modelB, 'metric')\n",
    "emissionB = get_param_metric('Net emission', modelB, 'metric')\n",
    "fig, ax = s.plot_uncertainties(modelB, x_axis=costB, y_axis=emissionB, kind='kde-box', center_kws={'fill': True})\n",
    "fig"
   ]
  },
  {
   "cell_type": "code",
   "execution_count": null,
   "id": "f1fe5eb5",
   "metadata": {},
   "outputs": [],
   "source": [
    "# Get Spearman's rank coefficients to see which parameters are the most important ones for the select metrics\n",
    "cost_dfB = s.get_correlations(modelB, input_y=costB, kind='Spearman')[0]\n",
    "fig, ax = s.plot_correlations(cost_dfB, top=10)\n",
    "fig"
   ]
  },
  {
   "cell_type": "code",
   "execution_count": null,
   "id": "5cdad06a",
   "metadata": {},
   "outputs": [],
   "source": [
    "# Look at all the metrics at a time for select parameters\n",
    "paramsB = [get_param_metric(name, modelB, 'parameter') for name in [\n",
    "    'Household size',\n",
    "    'Handcart fee',\n",
    "    'UDDT annual operating cost',\n",
    "    'UDDT capital cost',\n",
    "    'UDDT desoccamt ca content',\n",
    "]]\n",
    "\n",
    "dfB = s.get_correlations(modelB, kind='Spearman')[0]\n",
    "fig, ax = s.plot_correlations(dfB, parameters=paramsB)\n",
    "fig"
   ]
  },
  {
   "cell_type": "markdown",
   "id": "afb32510",
   "metadata": {},
   "source": [
    "[Back to top](#top)"
   ]
  },
  {
   "cell_type": "markdown",
   "id": "baa09b5f",
   "metadata": {},
   "source": [
    "## 3. Country-Specific Analysis <a class=\"anchor\" id=\"s3\"></a>"
   ]
  },
  {
   "cell_type": "markdown",
   "id": "7cac5842",
   "metadata": {},
   "source": [
    "Finally, what will happen if our community locates in a different place? Then we need to replace contextual parameters (e.g., diet, tax rate) in our analyses to those that are specific for the country of interest."
   ]
  },
  {
   "cell_type": "code",
   "execution_count": null,
   "id": "a16acd93",
   "metadata": {},
   "outputs": [],
   "source": [
    "# For this analysis we considered the following parameters\n",
    "from country_specific import country_params\n",
    "# For each line, the key (left text) is the meaning of the parameter,\n",
    "# the right text is the parameter name remembered by QSDsan\n",
    "country_params"
   ]
  },
  {
   "cell_type": "code",
   "execution_count": null,
   "id": "c1646ad8",
   "metadata": {
    "scrolled": true
   },
   "outputs": [],
   "source": [
    "# You can look up the values for a certain country\n",
    "from country_specific import get_val_df\n",
    "get_val_df('US')"
   ]
  },
  {
   "cell_type": "code",
   "execution_count": null,
   "id": "4cf5baa5",
   "metadata": {},
   "outputs": [],
   "source": [
    "# And here are the results with those country-specific parameters\n",
    "from models import create_model\n",
    "from country_specific import get_results\n",
    "modelA = create_model('A', country_specific=True)\n",
    "modelB = create_model('B', country_specific=True)\n",
    "results = get_results('US', models=(modelA, modelB))\n",
    "results['sysA']"
   ]
  },
  {
   "cell_type": "code",
   "execution_count": null,
   "id": "1cf63c4b",
   "metadata": {},
   "outputs": [],
   "source": [
    "# To do a side-by-side comparison with the Uganda results\n",
    "# the results might be different from the ones we see above\n",
    "# as we are using the average data from Uganda\n",
    "from country_specific import plot\n",
    "fig = plot(results, mcda=mcda, econ_weight=0.7)"
   ]
  },
  {
   "cell_type": "markdown",
   "id": "74812239",
   "metadata": {},
   "source": [
    "[Back to top](#top)"
   ]
  }
 ],
 "metadata": {
  "kernelspec": {
   "display_name": "Python 3 (ipykernel)",
   "language": "python",
   "name": "python3"
  },
  "language_info": {
   "codemirror_mode": {
    "name": "ipython",
    "version": 3
   },
   "file_extension": ".py",
   "mimetype": "text/x-python",
   "name": "python",
   "nbconvert_exporter": "python",
   "pygments_lexer": "ipython3",
   "version": "3.9.13"
  },
  "varInspector": {
   "cols": {
    "lenName": 16,
    "lenType": 16,
    "lenVar": 40
   },
   "kernels_config": {
    "python": {
     "delete_cmd_postfix": "",
     "delete_cmd_prefix": "del ",
     "library": "var_list.py",
     "varRefreshCmd": "print(var_dic_list())"
    },
    "r": {
     "delete_cmd_postfix": ") ",
     "delete_cmd_prefix": "rm(",
     "library": "var_list.r",
     "varRefreshCmd": "cat(var_dic_list()) "
    }
   },
   "types_to_exclude": [
    "module",
    "function",
    "builtin_function_or_method",
    "instance",
    "_Feature"
   ],
   "window_display": false
  }
 },
 "nbformat": 4,
 "nbformat_minor": 5
}
