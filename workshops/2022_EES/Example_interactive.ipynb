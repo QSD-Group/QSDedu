{
 "cells": [
  {
   "cell_type": "markdown",
   "id": "7b427609",
   "metadata": {},
   "source": [
    "# `QSDsan` Workshop Interactive Module <a class=\"anchor\" id=\"top\"></a>\n",
    "\n",
    "- **Prepared by:**\n",
    "    \n",
    "    - [Yalin Li](https://qsdsan.readthedocs.io/en/latest/authors/Yalin_Li.html)\n",
    "\n",
    "- **Covered topics:**\n",
    "\n",
    "    - [0. Instructions](#s0)\n",
    "    - [1. Systems, TEA, LCA, and MCDA](#s1)\n",
    "    \n",
    "        - [1.1. System set up](#s1.1)\n",
    "        - [1.2. TEA and LCA](#s1.2)\n",
    "        - [1.3. MCDA](#s1.3)\n",
    "    \n",
    "    - [2. Uncertainty and Sensitivity Analyses](#s2)\n",
    "    - [3. Country-Specific Analysis](#s3)\n",
    "\n",
    "To run this notebook in your browser, go to this [Binder page](https://mybinder.org/v2/gh/QSD-group/QSDsan-workshop/main)."
   ]
  },
  {
   "cell_type": "markdown",
   "id": "30056735",
   "metadata": {},
   "source": [
    "## 0. Instructions <a class=\"anchor\" id=\"s0\"></a>\n",
    "Detailed instructions on how to use Jupyter Notebook can be found [here](https://realpython.com/jupyter-notebook-introduction/) (there are many online, this is just one example).\n",
    "\n",
    "The key things to know about is that you can run a cell using `shift`/`ctrl`/`cmd`+`enter` or the `▶`/`▶Run` button on the menu bar as below.\n",
    "<img src='files/run.png' alt='run'/>"
   ]
  },
  {
   "cell_type": "markdown",
   "id": "d302b683",
   "metadata": {},
   "source": [
    "Each of the three sections has multiple code cells. After you run all the cells, you will see prompts in the last cell and can play with it. You can use the \"Back to top\" link to go back to the top and select another section."
   ]
  },
  {
   "cell_type": "markdown",
   "id": "fe36d3d5",
   "metadata": {},
   "source": [
    "Remember that everything marked with \"A\" (e.g., `sysA`) is related to the pit latrine system and \"B\" is related to the urine-diverting dry toilet (UDDT) system."
   ]
  },
  {
   "cell_type": "markdown",
   "id": "b1553580",
   "metadata": {},
   "source": [
    "Note that you need to install all the packages in \"requirements.txt\" (or clone the respective repositories) prior to running this notebook."
   ]
  },
  {
   "cell_type": "markdown",
   "id": "ea807c34",
   "metadata": {},
   "source": [
    "Have fun!"
   ]
  },
  {
   "cell_type": "markdown",
   "id": "7ab37409",
   "metadata": {},
   "source": [
    "[Back to top](#top)"
   ]
  },
  {
   "cell_type": "code",
   "execution_count": 1,
   "id": "995f8aa9",
   "metadata": {},
   "outputs": [],
   "source": [
    "import os, sys\n",
    "sys.path.append(os.path.abspath('../tmo'))\n",
    "sys.path.append(os.path.abspath('../bst'))\n",
    "sys.path.append(os.path.abspath('../qs'))\n",
    "sys.path.append(os.path.abspath('../es'))\n",
    "sys.path.append(os.path.abspath('../ds'))"
   ]
  },
  {
   "cell_type": "markdown",
   "id": "d171bcf5",
   "metadata": {},
   "source": [
    "## 1. Systems, TEA, LCA, and MCDA <a class=\"anchor\" id=\"s1\"></a>"
   ]
  },
  {
   "cell_type": "markdown",
   "id": "607e491d",
   "metadata": {},
   "source": [
    "### 1.1. System set up <a class=\"anchor\" id=\"s1.1\"></a>"
   ]
  },
  {
   "cell_type": "code",
   "execution_count": 2,
   "id": "3583fc21",
   "metadata": {
    "tags": [
     "hide-input"
    ]
   },
   "outputs": [],
   "source": [
    "from ipywidgets import widgets as w\n",
    "from systems import create_system\n",
    "\n",
    "# Create systems\n",
    "sysA = create_system('A')\n",
    "sysB = create_system('B')\n",
    "\n",
    "# Placeholders for outputs\n",
    "diagram_out = w.Output()\n",
    "\n",
    "# Display the system diagrams\n",
    "def get_img_widget(file_path):\n",
    "    file = open(file_path, 'rb')\n",
    "    widget = w.Image(value=file.read(), format='png')\n",
    "    return widget\n",
    "diagramA_lbl = w.Label('Diagram for sysA:')\n",
    "diagramB_lbl = w.Label('Diagram for sysB:')\n",
    "diagramA =  get_img_widget('files/sysA.png')\n",
    "diagramB =  get_img_widget('files/sysB.png')\n",
    "\n",
    "@diagram_out.capture(clear_output=True, wait=True)\n",
    "def display_diagrams():\n",
    "    display(diagramA_lbl)\n",
    "    display(diagramA)\n",
    "    display(diagramB_lbl)\n",
    "    display(diagramB)\n",
    "\n",
    "##### Compiled run function #####\n",
    "def run_system_interactive():\n",
    "    display_diagrams()\n",
    "    display(diagram_out)"
   ]
  },
  {
   "cell_type": "code",
   "execution_count": 3,
   "id": "34aa116d",
   "metadata": {
    "scrolled": false
   },
   "outputs": [
    {
     "data": {
      "application/vnd.jupyter.widget-view+json": {
       "model_id": "9f4e31e20506408986fc7a641133e0b7",
       "version_major": 2,
       "version_minor": 0
      },
      "text/plain": [
       "Output()"
      ]
     },
     "metadata": {},
     "output_type": "display_data"
    }
   ],
   "source": [
    "run_system_interactive()"
   ]
  },
  {
   "cell_type": "markdown",
   "id": "bc6ceb2e",
   "metadata": {},
   "source": [
    "[Back to top](#top)"
   ]
  },
  {
   "cell_type": "markdown",
   "id": "fcd62805",
   "metadata": {},
   "source": [
    "### 1.2. TEA and LCA <a class=\"anchor\" id=\"s1.2\"></a>"
   ]
  },
  {
   "cell_type": "code",
   "execution_count": 4,
   "id": "5fa7c3a2",
   "metadata": {
    "tags": [
     "hide-input"
    ]
   },
   "outputs": [],
   "source": [
    "from ipywidgets import widgets as w\n",
    "from systems import plot_tea_lca\n",
    "\n",
    "# Placeholders for outputs\n",
    "tea_lca_input = w.Output()\n",
    "divider_out = w.Output()\n",
    "result_out = w.Output()\n",
    "\n",
    "##### User inputs #####\n",
    "opt_lbl = w.Label('Which TEA/LCA metric(s) are you interested in (one or more)?')\n",
    "\n",
    "tea_opts = ['net', 'CAPEX', 'OPEX', 'sales']\n",
    "tea_box = w.SelectMultiple(\n",
    "    options=tea_opts,\n",
    "    value=['net'],\n",
    "    rows=len(tea_opts),\n",
    "    description='TEA metrics',\n",
    "    disabled=False,\n",
    "    style={'description_width': 'initial'},\n",
    "    layout={'width':'50%'}\n",
    ")\n",
    "\n",
    "lca_opts = ['net', 'construction', 'operating', 'transportation', 'direct', 'offset']\n",
    "lca_box = w.SelectMultiple(\n",
    "    options=lca_opts,\n",
    "    value=['net'],\n",
    "    rows=len(lca_opts),\n",
    "    description='LCA metrics',\n",
    "    disabled=False,\n",
    "    style=tea_box.style,\n",
    "    layout=tea_box.layout\n",
    ")\n",
    "\n",
    "##### Divider #####\n",
    "divider = w.Image(value=open('files/divider.png', 'rb').read(), format='png')\n",
    "\n",
    "##### Results #####\n",
    "@result_out.capture(clear_output=True, wait=True)\n",
    "def simulate(btn=None):\n",
    "    tea_metrics = tea_box.value\n",
    "    lca_metrics = lca_box.value\n",
    "    tea_msg = '\", \"'.join(tea_metrics)\n",
    "    tea_msg = '\"' + tea_msg + '\"' \n",
    "    lca_msg = '\", \"'.join(lca_metrics)\n",
    "    lca_msg = '\"' + lca_msg + '\"'\n",
    "    tea_lca_result_lbl.value = f'Showing results for TEA ({tea_msg}) and LCA ({lca_msg}) metrics:'\n",
    "    fig = plot_tea_lca((sysA, sysB), tea_metrics, lca_metrics)\n",
    "    display(fig)\n",
    "\n",
    "# Simulate button\n",
    "simulate_btn = w.Button(\n",
    "    description=' Simulate',\n",
    "    disabled=False,\n",
    "    # 'success' (green), 'info' (blue), 'warning' (yellow), 'danger' (red), or '' (grey)\n",
    "    button_style='success',\n",
    "    tooltip='Simulate and show results',\n",
    "    icon='play' # (FontAwesome names without the `fa-` prefix)\n",
    ")\n",
    "simulate_btn.on_click(simulate)\n",
    "\n",
    "# Result display\n",
    "tea_lca_result_lbl = w.Label('')\n",
    "\n",
    "##### Compiled run function #####\n",
    "def run_tea_lca_interactive():\n",
    "    with tea_lca_input:\n",
    "        display(opt_lbl)\n",
    "        display(tea_box)\n",
    "        display(lca_box)\n",
    "        display(simulate_btn)\n",
    "    display(tea_lca_input)\n",
    "    \n",
    "    with divider_out:\n",
    "        display(divider)\n",
    "        display(tea_lca_result_lbl)\n",
    "    display(divider_out)\n",
    "    \n",
    "    display(result_out)"
   ]
  },
  {
   "cell_type": "code",
   "execution_count": 5,
   "id": "eb888f2d",
   "metadata": {
    "scrolled": false
   },
   "outputs": [
    {
     "data": {
      "application/vnd.jupyter.widget-view+json": {
       "model_id": "06ff2f4661684b40b04b38107f1d0a22",
       "version_major": 2,
       "version_minor": 0
      },
      "text/plain": [
       "Output()"
      ]
     },
     "metadata": {},
     "output_type": "display_data"
    },
    {
     "data": {
      "application/vnd.jupyter.widget-view+json": {
       "model_id": "628e6176a0a3435daff21fc7d7efa305",
       "version_major": 2,
       "version_minor": 0
      },
      "text/plain": [
       "Output()"
      ]
     },
     "metadata": {},
     "output_type": "display_data"
    },
    {
     "data": {
      "application/vnd.jupyter.widget-view+json": {
       "model_id": "a247290f954240c7be8c0913c4c02d9c",
       "version_major": 2,
       "version_minor": 0
      },
      "text/plain": [
       "Output()"
      ]
     },
     "metadata": {},
     "output_type": "display_data"
    }
   ],
   "source": [
    "run_tea_lca_interactive()"
   ]
  },
  {
   "cell_type": "markdown",
   "id": "ba022fee",
   "metadata": {},
   "source": [
    "[Back to top](#top)"
   ]
  },
  {
   "cell_type": "markdown",
   "id": "207c16be",
   "metadata": {},
   "source": [
    "### 1.3. MCDA <a class=\"anchor\" id=\"s1.3\"></a>"
   ]
  },
  {
   "cell_type": "code",
   "execution_count": 6,
   "id": "5c4ecdf0",
   "metadata": {
    "tags": [
     "hide-input"
    ]
   },
   "outputs": [],
   "source": [
    "from ipywidgets import widgets as w\n",
    "from systems import create_mcda, plot_mcda\n",
    "\n",
    "mcda = create_mcda((sysA, sysB))\n",
    "\n",
    "# Placeholders for outputs\n",
    "mcda_choice = w.Output()\n",
    "divider_out = w.Output()\n",
    "result_out = w.Output()\n",
    "\n",
    "##### User inputs #####\n",
    "tea_lbl = w.Label('Which TEA metric do you want to use for the economic criterion?')\n",
    "tea_opts = ['net', 'CAPEX', 'OPEX', 'sales']\n",
    "tea_btn = w.RadioButtons(\n",
    "    options=tea_opts, \n",
    "    index=0,\n",
    "    disabled=False)\n",
    "\n",
    "lca_lbl = w.Label('Which LCA metric do you want to use for the environmental criterion?')\n",
    "lca_opts = ['net', 'construction', 'operating', 'transportation', 'direct', 'offset']\n",
    "lca_btn = w.RadioButtons(\n",
    "    options=lca_opts, \n",
    "    index=0,\n",
    "    disabled=False)\n",
    "\n",
    "##### Divider #####\n",
    "divider = w.Image(value=open('files/divider.png', 'rb').read(), format='png')\n",
    "\n",
    "##### Results #####\n",
    "@result_out.capture(clear_output=True, wait=True)\n",
    "def simulate(btn=None):\n",
    "    tea_metric = tea_btn.value\n",
    "    lca_metric = lca_btn.value\n",
    "    result_lbl.value = f'Showing MCDA results for the TEA (\"{tea_metric}\") ' \\\n",
    "        f'and the LCA metric (\"{lca_metric}\"):'\n",
    "    fig = plot_mcda(mcda, tea_metric=tea_metric, lca_metric=lca_metric)\n",
    "    display(fig)\n",
    "    \n",
    "# Simulate button\n",
    "simulate_btn = w.Button(\n",
    "    description=' Simulate',\n",
    "    disabled=False,\n",
    "    button_style='success',\n",
    "    tooltip='Simulate and show results',\n",
    "    icon='play'\n",
    ")\n",
    "simulate_btn.on_click(simulate)\n",
    "\n",
    "# Result display\n",
    "result_lbl = w.Label('')\n",
    "\n",
    "##### Compiled run function #####\n",
    "def run_mcda_interactive():\n",
    "    with mcda_choice:\n",
    "        display(tea_lbl)\n",
    "        display(tea_btn)\n",
    "        display(lca_lbl)\n",
    "        display(lca_btn)\n",
    "        display(simulate_btn)\n",
    "    display(mcda_choice)\n",
    "    \n",
    "    with divider_out:\n",
    "        display(divider)\n",
    "        display(result_lbl)\n",
    "    display(divider_out)\n",
    "    \n",
    "    display(result_out)"
   ]
  },
  {
   "cell_type": "code",
   "execution_count": 7,
   "id": "eef4a717",
   "metadata": {
    "scrolled": false
   },
   "outputs": [
    {
     "data": {
      "application/vnd.jupyter.widget-view+json": {
       "model_id": "4499e2140c214a99ab3ce57693c001b3",
       "version_major": 2,
       "version_minor": 0
      },
      "text/plain": [
       "Output()"
      ]
     },
     "metadata": {},
     "output_type": "display_data"
    },
    {
     "data": {
      "application/vnd.jupyter.widget-view+json": {
       "model_id": "c0e1f8fa50874c5dbabb71d8e764524c",
       "version_major": 2,
       "version_minor": 0
      },
      "text/plain": [
       "Output()"
      ]
     },
     "metadata": {},
     "output_type": "display_data"
    },
    {
     "data": {
      "application/vnd.jupyter.widget-view+json": {
       "model_id": "5e06167474fe43a5a785483f606d5267",
       "version_major": 2,
       "version_minor": 0
      },
      "text/plain": [
       "Output()"
      ]
     },
     "metadata": {},
     "output_type": "display_data"
    }
   ],
   "source": [
    "run_mcda_interactive()"
   ]
  },
  {
   "cell_type": "markdown",
   "id": "dafe9662",
   "metadata": {},
   "source": [
    "[Back to top](#top)"
   ]
  },
  {
   "cell_type": "markdown",
   "id": "73ddb4b6",
   "metadata": {},
   "source": [
    "## 2. Uncertainty and Sensitivity Analyses <a class=\"anchor\" id=\"s2\"></a>"
   ]
  },
  {
   "cell_type": "code",
   "execution_count": 8,
   "id": "1399dcc7",
   "metadata": {
    "tags": [
     "hide-input"
    ]
   },
   "outputs": [],
   "source": [
    "from ipywidgets import widgets as w\n",
    "from qsdsan import stats as s\n",
    "from models import create_model, run_uncertainties, get_param_metric\n",
    "\n",
    "modelA = create_model('A')\n",
    "modelB = create_model('B')\n",
    "\n",
    "# Placeholders for outputs\n",
    "ua_sa_choice = w.Output()\n",
    "divider_out = w.Output()\n",
    "simulate_out = w.Output()\n",
    "plot_out = w.Output()\n",
    "figure_out = w.Output()\n",
    "\n",
    "##### User inputs #####\n",
    "# Number of samples\n",
    "N_lbl = w.Label('How many samples would you like to run (100 takes 1-2 min)?')\n",
    "N_txt = w.IntText(\n",
    "    value='100',\n",
    "    placeholder='N of samples',\n",
    "    description='Integer:',\n",
    "    disabled=False\n",
    ")\n",
    "\n",
    "# Uncertainty results\n",
    "metrics_dct = {m.name_with_units:m.name for m in modelA.metrics} # names are the same for modelA and modelB\n",
    "metrics_with_units = list(metrics_dct.keys())\n",
    "ua_lbl = w.Label('Which metric(s) to show for uncertainty analysis results (one or more)?')\n",
    "ua_box = w.SelectMultiple(\n",
    "    options=metrics_with_units,\n",
    "    rows=len(metrics_with_units),\n",
    "    disabled=False,\n",
    "    style={'description_width': 'initial'},\n",
    "    layout={'width':'50%'}\n",
    ")\n",
    "\n",
    "# Sensitivity\n",
    "sa_lbl = w.Label('Which metric to show for sensitivity analysis results (select one)?')\n",
    "sa_menu = w.Dropdown(\n",
    "    options=metrics_with_units,\n",
    "    disabled=False,\n",
    ")\n",
    "\n",
    "##### Divider #####\n",
    "divider = w.Image(value=open('files/divider.png', 'rb').read(), format='png')\n",
    "\n",
    "##### Results #####\n",
    "# Simulate button\n",
    "simulate_btn = w.Button(\n",
    "    description=' Simulate',\n",
    "    disabled=False,\n",
    "    button_style='success',\n",
    "    tooltip='Evaluate models',\n",
    "    icon='play'\n",
    ")\n",
    "\n",
    "# Wait prompt\n",
    "wait_lbl = w.Label('')\n",
    "\n",
    "@simulate_out.capture(clear_output=True, wait=True)\n",
    "def simulate(btn=None):\n",
    "    wait_lbl.value = 'Sit tight while the models are running...'\n",
    "    global modelA, modelB\n",
    "    modelA, modelB = run_uncertainties(N=int(N_txt.value))\n",
    "    wait_lbl.value = 'Simulation done!'\n",
    "    display(wait_lbl)\n",
    "    display(plot_out)\n",
    "simulate_btn.on_click(simulate)\n",
    "\n",
    "# Plot button\n",
    "plot_btn = w.Button(\n",
    "    description='Plot Results',\n",
    "    disabled=False,\n",
    "    button_style='success',\n",
    "    tooltip='Plot results',\n",
    "    icon='play'\n",
    ")\n",
    "@figure_out.capture(clear_output=True, wait=True)\n",
    "def plot(btn=None):\n",
    "    ua_metrics = [metrics_dct[m] for m in ua_box.value]\n",
    "    ua_metricsA = [get_param_metric(i, modelA, 'metric') for i in ua_metrics]\n",
    "    print('\\nUncertainty analysis results for sysA:\\n')\n",
    "    ua_figA = s.plot_uncertainties(modelA, x_axis=ua_metricsA)[0]\n",
    "    display(ua_figA)\n",
    "    print('\\nUncertainty analysis results for sysB:\\n')\n",
    "    ua_metricsB = [get_param_metric(i, modelB, 'metric') for i in ua_metrics]\n",
    "    ua_figB = s.plot_uncertainties(modelB, x_axis=ua_metricsB)[0]\n",
    "    display(ua_figB)\n",
    "    \n",
    "    print('\\nSensitivity analysis results for sysA:\\n')\n",
    "    sa_metric = metrics_dct[sa_menu.value]\n",
    "    sa_metricA = get_param_metric(sa_metric, modelA, 'metric')\n",
    "    spearmanA = s.get_correlations(modelA, input_y=sa_metricA, kind='Spearman')[0]\n",
    "    sa_figA = s.plot_correlations(spearmanA, top=10)[0]\n",
    "    display(sa_figA)\n",
    "    \n",
    "    print('\\nSensitivity analysis results for sysB:\\n')\n",
    "    sa_metricB = get_param_metric(sa_metric, modelB, 'metric')\n",
    "    spearmanB = s.get_correlations(modelB, input_y=sa_metricB, kind='Spearman')[0]\n",
    "    sa_figB = s.plot_correlations(spearmanB, top=10)[0]\n",
    "    display(sa_figB)\n",
    "plot_btn.on_click(plot)\n",
    "    \n",
    "##### Compiled run function #####\n",
    "def run_uncertainty_sensitivity_interactive():\n",
    "    with ua_sa_choice:\n",
    "        display(N_lbl)\n",
    "        display(N_txt)\n",
    "    display(ua_sa_choice)\n",
    "    \n",
    "    with divider_out:\n",
    "        display(divider)\n",
    "        display(simulate_btn)\n",
    "    display(divider_out)\n",
    "    \n",
    "    with simulate_out:\n",
    "        display(wait_lbl)\n",
    "    display(simulate_out)\n",
    "        \n",
    "    with plot_out:\n",
    "        display(divider)\n",
    "        display(ua_lbl)\n",
    "        display(ua_box)\n",
    "        display(sa_lbl)\n",
    "        display(sa_menu)\n",
    "        display(plot_btn)\n",
    "    \n",
    "    display(figure_out)"
   ]
  },
  {
   "cell_type": "code",
   "execution_count": 9,
   "id": "56836bca",
   "metadata": {
    "scrolled": false
   },
   "outputs": [
    {
     "data": {
      "application/vnd.jupyter.widget-view+json": {
       "model_id": "2b87a5c1391a4c119f316720d1473b6d",
       "version_major": 2,
       "version_minor": 0
      },
      "text/plain": [
       "Output()"
      ]
     },
     "metadata": {},
     "output_type": "display_data"
    },
    {
     "data": {
      "application/vnd.jupyter.widget-view+json": {
       "model_id": "d1aac0d03f6841d69b0e9e586650d5af",
       "version_major": 2,
       "version_minor": 0
      },
      "text/plain": [
       "Output()"
      ]
     },
     "metadata": {},
     "output_type": "display_data"
    },
    {
     "data": {
      "application/vnd.jupyter.widget-view+json": {
       "model_id": "2fc7ee6273ef4e2e9b7078bdfdf81ffe",
       "version_major": 2,
       "version_minor": 0
      },
      "text/plain": [
       "Output()"
      ]
     },
     "metadata": {},
     "output_type": "display_data"
    },
    {
     "data": {
      "application/vnd.jupyter.widget-view+json": {
       "model_id": "2b4a0eeee7b94d88b8b8b8d077de08bf",
       "version_major": 2,
       "version_minor": 0
      },
      "text/plain": [
       "Output()"
      ]
     },
     "metadata": {},
     "output_type": "display_data"
    }
   ],
   "source": [
    "run_uncertainty_sensitivity_interactive()"
   ]
  },
  {
   "cell_type": "markdown",
   "id": "433f1d3a",
   "metadata": {},
   "source": [
    "[Back to top](#top)"
   ]
  },
  {
   "cell_type": "markdown",
   "id": "23c56b0d",
   "metadata": {},
   "source": [
    "## 3. Country-Specific Analysis <a class=\"anchor\" id=\"s3\"></a>"
   ]
  },
  {
   "cell_type": "code",
   "execution_count": 10,
   "id": "51b31bf5",
   "metadata": {
    "tags": [
     "hide-input"
    ]
   },
   "outputs": [],
   "source": [
    "from ipywidgets import widgets as w\n",
    "from country_specific import val_dct_cached, get_val_df, get_results, plot\n",
    "\n",
    "modelA = create_model('A', country_specific=True)\n",
    "modelB = create_model('B', country_specific=True)\n",
    "models = modelA, modelB\n",
    "mcda.systems = (modelA.system, modelB.system)\n",
    "\n",
    "# Placeholders for outputs\n",
    "cs_choice = w.Output()\n",
    "data_out = w.Output()\n",
    "result_out = w.Output()\n",
    "\n",
    "def clear_data_result_outs(btn=None):\n",
    "    data_out.clear_output()\n",
    "    result_out.clear_output()\n",
    "\n",
    "all_outs = (cs_choice, data_out, result_out)\n",
    "def clear_all_outs(btn=None):\n",
    "    for out in all_outs:\n",
    "        out.clear_output()\n",
    "\n",
    "##### User inputs #####\n",
    "# When using database\n",
    "style = {'description_width': 'initial'}\n",
    "country_lbl = w.Label('Please enter a country name:')\n",
    "country_txt = w.Text('')\n",
    "\n",
    "# When using user-input values\n",
    "input_lbl = w.Label('Please enter values for the following parameters:')\n",
    "caloric_intake = w.FloatText(\n",
    "    value='2130',\n",
    "    placeholder='baseline 2130 [kcal/d]',\n",
    "    description='Caloric intake:',\n",
    "    style=style, disabled=False)\n",
    "\n",
    "vegetable_protein = w.FloatText(\n",
    "    value='40.29',\n",
    "    placeholder='baseline 40.29 [g/d]',\n",
    "    description='Vegetable protein intake:',\n",
    "    style=style, disabled=False)\n",
    "\n",
    "animal_protein = w.FloatText(\n",
    "    value='12.39',\n",
    "    placeholder='baseline 12.39 [g/d]',\n",
    "    description='Animal protein intake:',\n",
    "    style=style, disabled=False)\n",
    "\n",
    "N_price = w.FloatText(\n",
    "    value='1.507',\n",
    "    placeholder='baseline 1.507 [USD/kg N]',\n",
    "    description='N fertilizer price:',\n",
    "    style=style, disabled=False)\n",
    "\n",
    "P_price = w.FloatText(\n",
    "    value='3.983',\n",
    "    placeholder='baseline 3.983 [USD/kg P]',\n",
    "    description='P fertilizer price:',\n",
    "    style=style, disabled=False)\n",
    "\n",
    "K_price = w.FloatText(\n",
    "    value='1.333',\n",
    "    placeholder='baseline 1.333 [USD/kg K]',\n",
    "    description='K fertilizer price:',\n",
    "    style=style, disabled=False)\n",
    "\n",
    "food_waste_ratio = w.FloatText(\n",
    "    value='0.02',\n",
    "    placeholder='baseline 0.02 [fraction]',\n",
    "    description='Food waste ratio:',\n",
    "    style=style, disabled=False)\n",
    "\n",
    "price_level_ratio = w.FloatText(\n",
    "    value='1',\n",
    "    placeholder='baseline 1',\n",
    "    description='Price level ratio:',\n",
    "    style=style, disabled=False)\n",
    "\n",
    "income_tax = w.FloatText(\n",
    "    value='0.3',\n",
    "    placeholder='baseline 0.3 [fraction]',\n",
    "    description='Income tax:',\n",
    "    style=style, disabled=False)\n",
    "\n",
    "all_inputs = (\n",
    "    caloric_intake,\n",
    "    vegetable_protein,\n",
    "    animal_protein,\n",
    "    N_price,\n",
    "    P_price,\n",
    "    K_price,\n",
    "    food_waste_ratio,\n",
    "    price_level_ratio,\n",
    "    income_tax,\n",
    ")\n",
    "\n",
    "# Economic weight slider\n",
    "econ_wt_lbl = w.Label('Please use the slider to set the economic weight in MCDA')\n",
    "econ_wt_slider = w.FloatSlider(\n",
    "    value=0.5,\n",
    "    min=0.,\n",
    "    max=1.,\n",
    "    step=0.01,\n",
    "    description='Weight: ',\n",
    "    disabled=False,\n",
    "    continuous_update=True,\n",
    "    orientation='horizontal',\n",
    "    readout=True,\n",
    "    readout_format='.2f',\n",
    ")\n",
    "\n",
    "# Whether to use database data\n",
    "choice_btn = w.RadioButtons(\n",
    "    options=['Yes', 'No'], \n",
    "    description='Would you like to use database values?',\n",
    "    style=style, disabled=False)\n",
    "\n",
    "def update_choice(btn=None):\n",
    "    choice = choice_btn.value\n",
    "    clear_all_outs()\n",
    "    if choice_btn.value == 'Yes':\n",
    "        with cs_choice:\n",
    "            display(country_lbl)\n",
    "            display(country_txt)\n",
    "            display(country_btn)\n",
    "    else:\n",
    "        with cs_choice:\n",
    "            display(input_lbl)\n",
    "            for i in all_inputs:\n",
    "                display(i)\n",
    "            display(confirm_btn)\n",
    "choice_btn.observe(update_choice)\n",
    "\n",
    "# Display based on the choice\n",
    "error_lbl = w.Label('')\n",
    "param_lbl = w.Label('')\n",
    "def display_database_data(btn=None):\n",
    "    clear_data_result_outs()\n",
    "    country = country_txt.value\n",
    "    val_df = get_val_df(country)\n",
    "    if isinstance(val_df, str): # no info for the country\n",
    "        error_lbl.value = f'No data for country \"{country}\", please retry with another country name.'\n",
    "        update_simulate_btn(False)\n",
    "        with data_out:\n",
    "            display(error_lbl)\n",
    "    else:\n",
    "        update_simulate_btn(True)\n",
    "        with data_out:\n",
    "            param_lbl.value = f'Parameter values for \"{country}\":'\n",
    "            display(param_lbl)\n",
    "            display(val_df)\n",
    "            display(econ_wt_lbl)\n",
    "            display(econ_wt_slider)\n",
    "            display(simulate_btn)\n",
    "country_btn = w.Button(\n",
    "    description=' Retrieve Data',\n",
    "    disabled=False,\n",
    "    button_style='success',\n",
    "    tooltip='Run database values for the parameters',\n",
    "    icon='play'\n",
    ")\n",
    "country_btn.on_click(display_database_data)\n",
    "            \n",
    "def display_customized_data(btn=None):\n",
    "    clear_data_result_outs()\n",
    "    with data_out:\n",
    "        param_lbl.value = f'Customized parameter values:'\n",
    "        display(param_lbl)\n",
    "        \n",
    "        country_txt.value = country = 'customized'\n",
    "        val_dct = {}\n",
    "        for i in all_inputs:\n",
    "            val_dct[i.description[:-1]] = float(i.value)\n",
    "        val_df = get_val_df(val_dct)\n",
    "        display(val_df)\n",
    "        display(econ_wt_lbl)\n",
    "        display(econ_wt_slider)\n",
    "        display(simulate_btn)\n",
    "confirm_btn = w.Button(\n",
    "    description=' Confirm Data',\n",
    "    disabled=False,\n",
    "    button_style='success',\n",
    "    tooltip='Confirm the input data for simulation',\n",
    "    icon='play'\n",
    ")\n",
    "confirm_btn.on_click(display_customized_data)\n",
    "\n",
    "##### Divider #####\n",
    "divider = w.Image(value=open('files/divider.png', 'rb').read(), format='png')\n",
    "\n",
    "##### Results #####\n",
    "# Simulate button\n",
    "def update_simulate_btn(VALID):\n",
    "    if VALID:\n",
    "        simulate_btn.button_style = 'success'\n",
    "        simulate_btn.description = ' Simulate'\n",
    "        simulate_btn.icon = 'play'\n",
    "    else:\n",
    "        simulate_btn.button_style = 'danger'\n",
    "        simulate_btn.description = ' Invalid Inputs'\n",
    "        simulate_btn.icon = 'stop'\n",
    "\n",
    "@result_out.capture(clear_output=True, wait=True)\n",
    "def simulate(btn=None):\n",
    "    if btn.button_style != 'success': return # do not simulate if inputs are not valid\n",
    "    \n",
    "    if choice_btn.value == 'Yes': # with database data\n",
    "        country = country_txt.value\n",
    "        results_dct = get_results(country, models=models)\n",
    "    else: # with user input data\n",
    "        country = 'customized'\n",
    "        val_dct = {}\n",
    "        for i in all_inputs:\n",
    "            val_dct[i.description[:-1]] = float(i.value)\n",
    "        # val_dct_cached[country] = val_dct\n",
    "        try: results_dct = get_results(val_dct, models=models)\n",
    "        except: # unsuccessful simulation\n",
    "            print('Cannot simulate for the provided parameters, please update inputs.')\n",
    "            return\n",
    "\n",
    "    weight = econ_wt_slider.value\n",
    "    ax = plot(results_dct, mcda=mcda, econ_weight=econ_wt_slider.value)\n",
    "    with result_out:\n",
    "        print(f'Results for \"{country}\", economic weight is {weight}:')\n",
    "        display(ax.figure)\n",
    "\n",
    "simulate_btn = w.Button(\n",
    "    description=' Simulate',\n",
    "    disabled=False,\n",
    "    button_style='success',\n",
    "    tooltip='Simulate and show results',\n",
    "    icon='play'\n",
    ")\n",
    "simulate_btn.on_click(simulate)\n",
    "\n",
    "# # Clear button, not needed, but looks cool\n",
    "# clear_btn = w.Button(\n",
    "#     description=' Clear Outputs',\n",
    "#     disabled=False,\n",
    "#     button_style='warning',\n",
    "#     tooltip='Clear all outputs',\n",
    "#     icon='eraser'\n",
    "# )\n",
    "# clear_btn.on_click(clear_data_results)\n",
    "\n",
    "##### Compiled run function #####\n",
    "def run_country_specific_interactive():\n",
    "    display(choice_btn)\n",
    "    update_choice() # initialize display\n",
    "    display(cs_choice)\n",
    "    display(data_out)\n",
    "    display(result_out)"
   ]
  },
  {
   "cell_type": "code",
   "execution_count": 11,
   "id": "138b3f7e",
   "metadata": {
    "scrolled": false
   },
   "outputs": [
    {
     "data": {
      "application/vnd.jupyter.widget-view+json": {
       "model_id": "84371f1260624f06b089f5d571963d69",
       "version_major": 2,
       "version_minor": 0
      },
      "text/plain": [
       "RadioButtons(description='Would you like to use database values?', options=('Yes', 'No'), style=DescriptionSty…"
      ]
     },
     "metadata": {},
     "output_type": "display_data"
    },
    {
     "data": {
      "application/vnd.jupyter.widget-view+json": {
       "model_id": "0a1ed13faa794616a280b72476702f3b",
       "version_major": 2,
       "version_minor": 0
      },
      "text/plain": [
       "Output()"
      ]
     },
     "metadata": {},
     "output_type": "display_data"
    },
    {
     "data": {
      "application/vnd.jupyter.widget-view+json": {
       "model_id": "667eb85a5ea94a2cb3ab4f1e954fd889",
       "version_major": 2,
       "version_minor": 0
      },
      "text/plain": [
       "Output()"
      ]
     },
     "metadata": {},
     "output_type": "display_data"
    },
    {
     "data": {
      "application/vnd.jupyter.widget-view+json": {
       "model_id": "705686f247b543fc8df9c63a6ddae9d1",
       "version_major": 2,
       "version_minor": 0
      },
      "text/plain": [
       "Output()"
      ]
     },
     "metadata": {},
     "output_type": "display_data"
    }
   ],
   "source": [
    "run_country_specific_interactive()"
   ]
  },
  {
   "cell_type": "markdown",
   "id": "0a8768a8",
   "metadata": {},
   "source": [
    "[Back to top](#top)"
   ]
  }
 ],
 "metadata": {
  "kernelspec": {
   "display_name": "Python 3 (ipykernel)",
   "language": "python",
   "name": "python3"
  },
  "language_info": {
   "codemirror_mode": {
    "name": "ipython",
    "version": 3
   },
   "file_extension": ".py",
   "mimetype": "text/x-python",
   "name": "python",
   "nbconvert_exporter": "python",
   "pygments_lexer": "ipython3",
   "version": "3.8.12"
  }
 },
 "nbformat": 4,
 "nbformat_minor": 5
}
