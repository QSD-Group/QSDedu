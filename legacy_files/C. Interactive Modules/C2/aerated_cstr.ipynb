{
 "cells": [
  {
   "cell_type": "markdown",
   "id": "7f992d2c",
   "metadata": {},
   "source": [
    "**Note:**\n",
    "\n",
    "If having trouble seeing the simulated outputs (e.g., ``Button(button_style='success', description=' Simulate...'``, but not the acutally button), you propbably don't have the needed widgets (i.e., if you look at your Jupyter Notebook's menu bar, you probably don't have a `Widgets` between `Kernel` and `Help`), check out this website:\n",
    "https://github.com/jupyter-widgets/ipywidgets/issues/1702\n",
    "\n",
    "If you see something like:\n",
    "```\n",
    "A Jupyter widget could not be displayed because the widget state could not be found. This could happen if the kernel storing the widget is no longer available, or if the widget state was not saved in the notebook. You may be able to create the widget by running the appropriate cells.\n",
    "```\n",
    "Then restart the kernel and run all."
   ]
  },
  {
   "cell_type": "code",
   "execution_count": 1,
   "id": "1069aa02",
   "metadata": {
    "tags": [
     "hide-input"
    ]
   },
   "outputs": [],
   "source": [
    "# Interactive module for a simple system with just one aerated CSTR,\n",
    "# system developed by Joy and the interactive module by Yalin\n",
    "\n",
    "import numpy as np\n",
    "from matplotlib import pyplot as plt\n",
    "from biosteam import System\n",
    "from qsdsan import sanunits as su\n",
    "from qsdsan import processes as pc\n",
    "from qsdsan import WasteStream, set_thermo\n",
    "\n",
    "# =============================================================================\n",
    "# Benchmark Simulation Model No. 1\n",
    "# =============================================================================\n",
    "\n",
    "############# load components and set thermo #############\n",
    "cmps = pc.load_asm1_cmps()\n",
    "set_thermo(cmps)\n",
    "\n",
    "############# create WasteStream objects #################\n",
    "Q = 18446           # influent flowrate [m3/d]\n",
    "Temp = 273.15+15    # temperature [K]\n",
    "\n",
    "PE = WasteStream('primary_effluent', T=Temp)\n",
    "PE.set_flow_by_concentration(Q,\n",
    "                              {'S_S':69.5,\n",
    "                              'X_BH':28.17,\n",
    "                              'X_S':202.32,\n",
    "                              'X_I':51.2,\n",
    "                              'S_NH':31.56,\n",
    "                              'S_I':30,\n",
    "                              'S_ND':6.95,\n",
    "                              'X_ND':10.59,\n",
    "                              'S_ALK':7*12},\n",
    "                              units=('m3/d', 'mg/L'))\n",
    "\n",
    "SE = WasteStream('secondary_effluent', T=Temp)\n",
    "# WAS = WasteStream('waste_activated_sludge', T=Temp)\n",
    "RE = WasteStream('recycled_effluent', T=Temp)\n",
    "# RAS = WasteStream('recycled_activated_sludge', T=Temp)\n",
    "\n",
    "############# load and tailor process models #############\n",
    "# V_an = 1000    # anoxic zone tank volume\n",
    "V_ae = 1333    # aerated zone tank volume\n",
    "# Q_was = 385    # sludge wastage flowrate\n",
    "# Q_ras = 18446    # recycle sludge flowrate\n",
    "\n",
    "aer = pc.DiffusedAeration('Fixed_Aeration', 'S_O', KLa_20=240, SOTE=0.3,\n",
    "                          T_air=Temp, T_water=Temp, d_submergence=4-0.3)\n",
    "asm1 = pc.ASM1(components=cmps,\n",
    "               Y_A=0.24, Y_H=0.67, f_P=0.08, i_XB=0.08, i_XP=0.06,\n",
    "               mu_H=4.0, K_S=10.0, K_O_H=0.2, K_NO=0.5, b_H=0.3,\n",
    "               eta_g=0.8, eta_h=0.8, k_h=3.0, K_X=0.1, mu_A=0.5,\n",
    "               K_NH=1.0, b_A=0.05, K_O_A=0.4, k_a=0.05)\n",
    "# \n",
    "#%%\n",
    "############# create unit operations #####################\n",
    "# A1 = su.CSTR('Anoxic_1', ins=[PE, RE, RAS], V_max=V_an,\n",
    "#               aeration=None, suspended_growth_model=asm1)\n",
    "\n",
    "# A2 = su.CSTR('Anoxic_2', A1-0, V_max=V_an,\n",
    "#               aeration=None, suspended_growth_model=asm1)\n",
    "\n",
    "O1 = su.CSTR('Aerobic_1', [PE, RE], V_max=V_ae, aeration=aer,\n",
    "              DO_ID='S_O', suspended_growth_model=asm1)\n",
    "\n",
    "# O2 = su.CSTR('Aerobic_2', O1-0, V_max=V_ae, aeration=aer,\n",
    "#               DO_ID='S_O', suspended_growth_model=asm1)\n",
    "\n",
    "# O3 = su.CSTR('Aerobic_3', O2-0, V_max=V_ae, aeration=2.0,\n",
    "#               DO_ID='S_O', suspended_growth_model=asm1)\n",
    "\n",
    "\n",
    "S1 = su.Splitter('S1', O1-0, [RE, SE], split=0.6, init_with='WasteStream')\n",
    "\n",
    "# C1 = su.FlatBottomCircularClarifier('C1', S1-1, [SE, 'sludge'],\n",
    "#                                     sludge_flow_rate=Q_ras+Q_was, surface_area=1500,\n",
    "#                                     height=4, N_layer=10, feed_layer=4,\n",
    "#                                     # height=12, N_layer=3, feed_layer=2,\n",
    "#                                     X_threshold=3000, v_max=474, v_max_practical=250,\n",
    "#                                     rh=5.76e-4, rp=2.86e-3, fns=2.28e-3)\n",
    "\n",
    "\n",
    "# S2 = su.Splitter('S2', C1-1, [RAS, WAS], split=Q_ras/(Q_ras+Q_was), init_with='WasteStream')\n",
    "\n",
    "############# system simulation ############################\n",
    "\n",
    "sys = System('sys', path=(O1, S1), recycle=(RE,))\n",
    "# bsm1 = System('BSM1', path=(bio, S1, C2, S2), recycle=(RE, RAS))\n",
    "\n",
    "#%%\n",
    "def run(t, method, set_init, **kwargs):\n",
    "    if set_init:\n",
    "        # A1.set_init_conc(S_I=30.0, S_S=5.0, X_I=1000, X_S=100, X_BH=500, X_BA=100, X_P=100,\n",
    "        #                   S_O=2.0, S_NH=2.0, S_ND=1.0, X_ND=1.0, S_NO=20.0, S_ALK=7*12)\n",
    "        # A2.set_init_conc(S_I=30.0, S_S=5.0, X_I=1000, X_S=100, X_BH=500, X_BA=100, X_P=100,\n",
    "        #                   S_O=2.0, S_NH=2.0, S_ND=1.0, X_ND=1.0, S_NO=20.0, S_ALK=7*12)\n",
    "        O1.set_init_conc(S_I=30.0, S_S=5.0, X_I=1000, X_S=100, X_BH=500, X_BA=100, X_P=100,\n",
    "                          S_O=2.0, S_NH=2.0, S_ND=1.0, X_ND=1.0, S_NO=20.0, S_ALK=7*12)\n",
    "        # O2.set_init_conc(S_I=30.0, S_S=5.0, X_I=1000, X_S=100, X_BH=500, X_BA=100, X_P=100,\n",
    "        #                   S_O=2.0, S_NH=2.0, S_ND=1.0, X_ND=1.0, S_NO=20.0, S_ALK=7*12)\n",
    "        # O3.set_init_conc(S_I=30.0, S_S=5.0, X_I=1000, X_S=100, X_BH=500, X_BA=100, X_P=100,\n",
    "        #                   S_O=2.0, S_NH=2.0, S_ND=1.0, X_ND=1.0, S_NO=20.0, S_ALK=7*12)\n",
    "        # C1.set_init_solubles(S_I=30, S_S=5.0, S_O=2.0, S_NO=20, S_NH=2.0, S_ALK=7*12)\n",
    "        # C1.set_init_TSS([10, 20, 40, 70, 200, 300, 350, 350, 2000, 4000])\n",
    "        # S1.set_init_conc(S_I=30.0, S_S=5.0, X_I=1000, X_S=100, X_BH=500, X_BA=100,\n",
    "        #                   S_O=2.0, S_NH=2.0, S_ND=1.0, X_ND=1.0, S_NO=20.0, S_ALK=7*12)\n",
    "        # S2.set_init_conc(S_I=30.0, S_S=5.0, X_I=1000, X_S=100, X_BH=500, X_BA=100,\n",
    "        #                   S_O=2.0, S_NH=2.0, S_ND=1.0, X_ND=1.0, S_NO=20.0, S_ALK=7*12)\n",
    "    else:\n",
    "        # for u in (A1, A2, O1, O2, O3):\n",
    "        #     u._concs = None\n",
    "        # C1._solubles = C1._solids = None\n",
    "        pass\n",
    "    sys.reset_cache()\n",
    "    sys.simulate(t_span = (0, t), method=method, **kwargs)\n",
    "    \n",
    "\n",
    "def plot(variables, txt_file_path=None):\n",
    "    fig, ax = plt.subplots(figsize=(8, 4.5)) # 16:9\n",
    "    txt_file_path = 'sol.txt' if not txt_file_path else txt_file_path\n",
    "    data = np.loadtxt(txt_file_path)\n",
    "    x = data[:, 0] # time\n",
    "    for i in variables: # state variables of interest\n",
    "        ID = i.split(' ')[0]\n",
    "        y = data[:, cmps.index(ID)+1] # the first one is time\n",
    "        ax.plot(x, y, '-o', label=ID)\n",
    "    \n",
    "    ax.legend(loc='best')\n",
    "    ax.set(xlabel='Time [d]', ylabel='Concentration [mg COD/L] or [mg/L]')"
   ]
  },
  {
   "cell_type": "code",
   "execution_count": 2,
   "id": "554ba152",
   "metadata": {
    "scrolled": true
   },
   "outputs": [
    {
     "data": {
      "application/vnd.jupyter.widget-view+json": {
       "model_id": "d6d460fe4d8e48b7a782177c7332a9c4",
       "version_major": 2,
       "version_minor": 0
      },
      "text/plain": [
       "Label(value='Simulation time [d]')"
      ]
     },
     "metadata": {},
     "output_type": "display_data"
    },
    {
     "data": {
      "application/vnd.jupyter.widget-view+json": {
       "model_id": "9517851c02ef4ae9a5f066b78dab61e9",
       "version_major": 2,
       "version_minor": 0
      },
      "text/plain": [
       "Text(value='1')"
      ]
     },
     "metadata": {},
     "output_type": "display_data"
    },
    {
     "data": {
      "application/vnd.jupyter.widget-view+json": {
       "model_id": "6c078763b8094e1e82ca248847d9f464",
       "version_major": 2,
       "version_minor": 0
      },
      "text/plain": [
       "Label(value='Simulation time step [d]')"
      ]
     },
     "metadata": {},
     "output_type": "display_data"
    },
    {
     "data": {
      "application/vnd.jupyter.widget-view+json": {
       "model_id": "a46be63de8524bdda752623afe5fe314",
       "version_major": 2,
       "version_minor": 0
      },
      "text/plain": [
       "Text(value='0.05')"
      ]
     },
     "metadata": {},
     "output_type": "display_data"
    },
    {
     "data": {
      "application/vnd.jupyter.widget-view+json": {
       "model_id": "c4d1943faf064da0bd3a323a143a6605",
       "version_major": 2,
       "version_minor": 0
      },
      "text/plain": [
       "Dropdown(description='ODE solver:', index=3, options=('RK45', 'RK23', 'DOP853', 'BDF', 'LSODA'), value='BDF')"
      ]
     },
     "metadata": {},
     "output_type": "display_data"
    },
    {
     "data": {
      "application/vnd.jupyter.widget-view+json": {
       "model_id": "786326b0235644528fcf50b60ac595c5",
       "version_major": 2,
       "version_minor": 0
      },
      "text/plain": [
       "Label(value='Choose one or more (use shift and/or ctrl/cmd) state variables of interest:')"
      ]
     },
     "metadata": {},
     "output_type": "display_data"
    },
    {
     "data": {
      "application/vnd.jupyter.widget-view+json": {
       "model_id": "2ce2330b077d467dbc909008d2a37e52",
       "version_major": 2,
       "version_minor": 0
      },
      "text/plain": [
       "SelectMultiple(description='State variables', index=(1, 7, 4, 5), layout=Layout(width='50%'), options=('S_I (s…"
      ]
     },
     "metadata": {},
     "output_type": "display_data"
    },
    {
     "data": {
      "application/vnd.jupyter.widget-view+json": {
       "model_id": "2733323acdc0401d92625183c3646d0d",
       "version_major": 2,
       "version_minor": 0
      },
      "text/plain": [
       "Button(button_style='success', description=' Simulate', icon='play', style=ButtonStyle(), tooltip='Run simulat…"
      ]
     },
     "metadata": {},
     "output_type": "display_data"
    },
    {
     "name": "stdout",
     "output_type": "stream",
     "text": [
      "\n",
      "\n",
      "\n"
     ]
    }
   ],
   "source": [
    "from ipywidgets.widgets import Label, Text, Button, Dropdown, SelectMultiple\n",
    "t_lbl = Label('Simulation time [d]')\n",
    "display(t_lbl)\n",
    "t_txt = Text('1')\n",
    "display(t_txt)\n",
    "\n",
    "t_step_lbl = Label('Simulation time step [d]')\n",
    "display(t_step_lbl)\n",
    "t_step_txt = Text('0.05')\n",
    "display(t_step_txt)\n",
    "\n",
    "method_menu = Dropdown(\n",
    "    options=['RK45', 'RK23', 'DOP853', 'BDF', 'LSODA'],\n",
    "    value='BDF',\n",
    "    description='ODE solver:',\n",
    "    disabled=False,\n",
    ")\n",
    "display(method_menu)\n",
    "\n",
    "var_lbl = Label('Choose one or more (use shift and/or ctrl/cmd) state variables of interest:')\n",
    "display(var_lbl)\n",
    "opts = [f'{i.ID} ({i.description.lower()})' for i in cmps]\n",
    "var_slt = SelectMultiple(\n",
    "    options=opts,\n",
    "    value=['S_S (readily biodegradable substrate)',\n",
    "           'S_O (oxygen)',\n",
    "           'X_BH (active heterotrophic biomass)',\n",
    "           'X_BA (active autotrophic biomass)'],\n",
    "    rows=len(opts),\n",
    "    description='State variables',\n",
    "    disabled=False,\n",
    "    style={'description_width': 'initial'},\n",
    "    layout={'width':'50%'}\n",
    ")\n",
    "display(var_slt)\n",
    "\n",
    "sim_btn = Button(\n",
    "    description=' Simulate',\n",
    "    disabled=False,\n",
    "    button_style='success', # 'success', 'info', 'warning', 'danger' or ''\n",
    "    tooltip='Run simulation',\n",
    "    icon='play' # (FontAwesome names without the `fa-` prefix)\n",
    ")\n",
    "display(sim_btn)\n",
    "\n",
    "def run_interactive(btn):\n",
    "    t = float(t_txt.value)\n",
    "    t_step = float(t_step_txt.value)\n",
    "    method = method_menu.value\n",
    "    run(t, method, set_init=True, t_eval=np.arange(0, t+t_step, t_step))\n",
    "\n",
    "    variables = var_slt.value\n",
    "    plot(variables)\n",
    "    \n",
    "print('\\n\\n')\n",
    "sim_btn.on_click(run_interactive)"
   ]
  }
 ],
 "metadata": {
  "kernelspec": {
   "display_name": "Python 3 (ipykernel)",
   "language": "python",
   "name": "python3"
  },
  "language_info": {
   "codemirror_mode": {
    "name": "ipython",
    "version": 3
   },
   "file_extension": ".py",
   "mimetype": "text/x-python",
   "name": "python",
   "nbconvert_exporter": "python",
   "pygments_lexer": "ipython3",
   "version": "3.8.11"
  },
  "widgets": {
   "application/vnd.jupyter.widget-state+json": {
    "state": {
     "00a67efc5deb48faa980e259de1e04f2": {
      "model_module": "@jupyter-widgets/base",
      "model_module_version": "1.2.0",
      "model_name": "LayoutModel",
      "state": {}
     },
     "01b0b5e16a11441d8fbb72316a9d35d4": {
      "model_module": "@jupyter-widgets/controls",
      "model_module_version": "1.5.0",
      "model_name": "DescriptionStyleModel",
      "state": {
       "description_width": ""
      }
     },
     "040fcfc1d7404a6c9d561a6266481a1e": {
      "model_module": "@jupyter-widgets/controls",
      "model_module_version": "1.5.0",
      "model_name": "LabelModel",
      "state": {
       "layout": "IPY_MODEL_c6f56e5b0931429c892ad86b883a5f91",
       "style": "IPY_MODEL_b2688345492d45079d8de8d718c3e6c6",
       "value": "Choose one or more (use shift and/or ctrl/cmd) state variables of interest:"
      }
     },
     "0ccdf5d321b640159a1fd716bea8348d": {
      "model_module": "@jupyter-widgets/base",
      "model_module_version": "1.2.0",
      "model_name": "LayoutModel",
      "state": {}
     },
     "0f9089f2814f4c89a14d581b2ab95e6e": {
      "model_module": "@jupyter-widgets/controls",
      "model_module_version": "1.5.0",
      "model_name": "DropdownModel",
      "state": {
       "_options_labels": [
        "RK45",
        "RK23",
        "DOP853",
        "BDF",
        "LSODA"
       ],
       "description": "ODE solver:",
       "index": 3,
       "layout": "IPY_MODEL_db05700cd9634e409cf3445dc5a34150",
       "style": "IPY_MODEL_ce43a0282856408cad6d8db28f2b893a"
      }
     },
     "1789e972546a436298affb35b42f1a61": {
      "model_module": "@jupyter-widgets/base",
      "model_module_version": "1.2.0",
      "model_name": "LayoutModel",
      "state": {}
     },
     "28b473dff20646e6a7344223c4778403": {
      "model_module": "@jupyter-widgets/controls",
      "model_module_version": "1.5.0",
      "model_name": "DescriptionStyleModel",
      "state": {
       "description_width": ""
      }
     },
     "28f50fe8beb44555a37bb59b14899cab": {
      "model_module": "@jupyter-widgets/controls",
      "model_module_version": "1.5.0",
      "model_name": "DescriptionStyleModel",
      "state": {
       "description_width": "initial"
      }
     },
     "2d59e03ed8684a24b1d2498cd7532e0b": {
      "model_module": "@jupyter-widgets/controls",
      "model_module_version": "1.5.0",
      "model_name": "LabelModel",
      "state": {
       "layout": "IPY_MODEL_0ccdf5d321b640159a1fd716bea8348d",
       "style": "IPY_MODEL_28b473dff20646e6a7344223c4778403",
       "value": "Simulation time [d]"
      }
     },
     "33a1a7804d0b4c1f8e85a6976074c4d9": {
      "model_module": "@jupyter-widgets/controls",
      "model_module_version": "1.5.0",
      "model_name": "DescriptionStyleModel",
      "state": {
       "description_width": ""
      }
     },
     "3bc52c2a94ff440aade163b68dc6c367": {
      "model_module": "@jupyter-widgets/controls",
      "model_module_version": "1.5.0",
      "model_name": "ButtonStyleModel",
      "state": {}
     },
     "41bfccd386214e1bb149a9538a0788e8": {
      "model_module": "@jupyter-widgets/controls",
      "model_module_version": "1.5.0",
      "model_name": "TextModel",
      "state": {
       "layout": "IPY_MODEL_ccfa25a566984709b6a5d7bdda3aa01c",
       "style": "IPY_MODEL_e3142de54cd242498f5dfbca5fd7620f",
       "value": "0.05"
      }
     },
     "5543750088894345afd6780ddf294610": {
      "model_module": "@jupyter-widgets/base",
      "model_module_version": "1.2.0",
      "model_name": "LayoutModel",
      "state": {}
     },
     "55c01f78d64e404bbbb799dc25eb3eb5": {
      "model_module": "@jupyter-widgets/controls",
      "model_module_version": "1.5.0",
      "model_name": "LabelModel",
      "state": {
       "layout": "IPY_MODEL_86e69a76caef49bf8199eb32619c92a8",
       "style": "IPY_MODEL_fce7d781db9d465297906cb912f435c3",
       "value": "Simulation time step [d]"
      }
     },
     "63247dd82dac4382a9e0f872c8f8573b": {
      "model_module": "@jupyter-widgets/controls",
      "model_module_version": "1.5.0",
      "model_name": "SelectMultipleModel",
      "state": {
       "_options_labels": [
        "S_I (soluble inert organic matter)",
        "S_S (readily biodegradable substrate)",
        "X_I (particulate inert organic matter)",
        "X_S (slowly biodegradable substrate)",
        "X_BH (active heterotrophic biomass)",
        "X_BA (active autotrophic biomass)",
        "X_P (particulate products arising from biomass decay)",
        "S_O (oxygen)",
        "S_NO (nitrate and nitrite nitrogen)",
        "S_NH (ammonia nitrogen)",
        "S_ND (soluble biodegradable organic nitrogen)",
        "X_ND (particulate biodegradable organic nitrogen)",
        "S_ALK (alkalinity, assumed to be hco3-)",
        "S_N2 (dissolved dinitrogen gas)",
        "H2O (water)"
       ],
       "description": "State variables",
       "index": [
        1,
        7,
        4,
        5
       ],
       "layout": "IPY_MODEL_e35464133add423cb5c1546dbba189f5",
       "rows": 15,
       "style": "IPY_MODEL_e978d8d5ef464354be8b31783c0e18e1"
      }
     },
     "66a115f5503140bb895559dcea26fcbf": {
      "model_module": "@jupyter-widgets/base",
      "model_module_version": "1.2.0",
      "model_name": "LayoutModel",
      "state": {}
     },
     "71a41e64c4534e05af2363c231b4a0e4": {
      "model_module": "@jupyter-widgets/controls",
      "model_module_version": "1.5.0",
      "model_name": "ButtonModel",
      "state": {
       "button_style": "success",
       "description": " Simulate",
       "icon": "play",
       "layout": "IPY_MODEL_00a67efc5deb48faa980e259de1e04f2",
       "style": "IPY_MODEL_3bc52c2a94ff440aade163b68dc6c367",
       "tooltip": "Run simulation"
      }
     },
     "7d599723c8eb4e018d6f1a2bb7299ea7": {
      "model_module": "@jupyter-widgets/controls",
      "model_module_version": "1.5.0",
      "model_name": "DescriptionStyleModel",
      "state": {
       "description_width": ""
      }
     },
     "7e5288b89dfa4fc4b411c1e4ea340b52": {
      "model_module": "@jupyter-widgets/controls",
      "model_module_version": "1.5.0",
      "model_name": "SelectMultipleModel",
      "state": {
       "_options_labels": [
        "S_I (soluble inert organic matter)",
        "S_S (readily biodegradable substrate)",
        "X_I (particulate inert organic matter)",
        "X_S (slowly biodegradable substrate)",
        "X_BH (active heterotrophic biomass)",
        "X_BA (active autotrophic biomass)",
        "X_P (particulate products arising from biomass decay)",
        "S_O (oxygen)",
        "S_NO (nitrate and nitrite nitrogen)",
        "S_NH (ammonia nitrogen)",
        "S_ND (soluble biodegradable organic nitrogen)",
        "X_ND (particulate biodegradable organic nitrogen)",
        "S_ALK (alkalinity, assumed to be hco3-)",
        "S_N2 (dissolved dinitrogen gas)",
        "H2O (water)"
       ],
       "description": "State variables",
       "index": [
        1,
        7,
        4,
        5
       ],
       "layout": "IPY_MODEL_e0bdcdd934854a32a6f4ed16419a264d",
       "rows": 15,
       "style": "IPY_MODEL_28f50fe8beb44555a37bb59b14899cab"
      }
     },
     "813d87ea06be4f91ab80cc4961cc7f24": {
      "model_module": "@jupyter-widgets/controls",
      "model_module_version": "1.5.0",
      "model_name": "TextModel",
      "state": {
       "layout": "IPY_MODEL_e8b314623a4948e6a903d51def2619b3",
       "style": "IPY_MODEL_01b0b5e16a11441d8fbb72316a9d35d4",
       "value": "0.05"
      }
     },
     "86e69a76caef49bf8199eb32619c92a8": {
      "model_module": "@jupyter-widgets/base",
      "model_module_version": "1.2.0",
      "model_name": "LayoutModel",
      "state": {}
     },
     "8acdfb1b1aa34c79aa1901ba4a351477": {
      "model_module": "@jupyter-widgets/controls",
      "model_module_version": "1.5.0",
      "model_name": "DropdownModel",
      "state": {
       "_options_labels": [
        "RK45",
        "RK23",
        "DOP853",
        "BDF",
        "LSODA"
       ],
       "description": "ODE solver:",
       "index": 3,
       "layout": "IPY_MODEL_8e21440b9e904bf2842f329b929b5a76",
       "style": "IPY_MODEL_e5f29a0e7c3541afbea181064449e2d8"
      }
     },
     "8d692c3e83464376b37d6f206a532d5d": {
      "model_module": "@jupyter-widgets/base",
      "model_module_version": "1.2.0",
      "model_name": "LayoutModel",
      "state": {}
     },
     "8da5f22bccce411f891e3dde8c06a6a0": {
      "model_module": "@jupyter-widgets/controls",
      "model_module_version": "1.5.0",
      "model_name": "LabelModel",
      "state": {
       "layout": "IPY_MODEL_66a115f5503140bb895559dcea26fcbf",
       "style": "IPY_MODEL_33a1a7804d0b4c1f8e85a6976074c4d9",
       "value": "Choose one or more (use shift and/or ctrl/cmd) state variables of interest:"
      }
     },
     "8e21440b9e904bf2842f329b929b5a76": {
      "model_module": "@jupyter-widgets/base",
      "model_module_version": "1.2.0",
      "model_name": "LayoutModel",
      "state": {}
     },
     "909fb3cbabc648dabc16fc5d34889cef": {
      "model_module": "@jupyter-widgets/controls",
      "model_module_version": "1.5.0",
      "model_name": "ButtonModel",
      "state": {
       "button_style": "success",
       "description": " Simulate",
       "icon": "play",
       "layout": "IPY_MODEL_f380dc1767534dfcb750bb6cfff3af02",
       "style": "IPY_MODEL_d0246ba5d58e4bc78848126f0730599c",
       "tooltip": "Run simulation"
      }
     },
     "95a208e91a2445daba214616f6f719e4": {
      "model_module": "@jupyter-widgets/controls",
      "model_module_version": "1.5.0",
      "model_name": "TextModel",
      "state": {
       "layout": "IPY_MODEL_8d692c3e83464376b37d6f206a532d5d",
       "style": "IPY_MODEL_9633591957c7418093cc3babd72d3bff",
       "value": "5"
      }
     },
     "9633591957c7418093cc3babd72d3bff": {
      "model_module": "@jupyter-widgets/controls",
      "model_module_version": "1.5.0",
      "model_name": "DescriptionStyleModel",
      "state": {
       "description_width": ""
      }
     },
     "9e1b4add6c2e48eabead6dbab73461af": {
      "model_module": "@jupyter-widgets/controls",
      "model_module_version": "1.5.0",
      "model_name": "DescriptionStyleModel",
      "state": {
       "description_width": ""
      }
     },
     "a22b5944ad6f412e94be12613d9f31ff": {
      "model_module": "@jupyter-widgets/controls",
      "model_module_version": "1.5.0",
      "model_name": "DescriptionStyleModel",
      "state": {
       "description_width": ""
      }
     },
     "b2688345492d45079d8de8d718c3e6c6": {
      "model_module": "@jupyter-widgets/controls",
      "model_module_version": "1.5.0",
      "model_name": "DescriptionStyleModel",
      "state": {
       "description_width": ""
      }
     },
     "b6f5b85727944f15843dd658dd7b82fb": {
      "model_module": "@jupyter-widgets/base",
      "model_module_version": "1.2.0",
      "model_name": "LayoutModel",
      "state": {}
     },
     "c6f56e5b0931429c892ad86b883a5f91": {
      "model_module": "@jupyter-widgets/base",
      "model_module_version": "1.2.0",
      "model_name": "LayoutModel",
      "state": {}
     },
     "ccfa25a566984709b6a5d7bdda3aa01c": {
      "model_module": "@jupyter-widgets/base",
      "model_module_version": "1.2.0",
      "model_name": "LayoutModel",
      "state": {}
     },
     "ce43a0282856408cad6d8db28f2b893a": {
      "model_module": "@jupyter-widgets/controls",
      "model_module_version": "1.5.0",
      "model_name": "DescriptionStyleModel",
      "state": {
       "description_width": ""
      }
     },
     "d0246ba5d58e4bc78848126f0730599c": {
      "model_module": "@jupyter-widgets/controls",
      "model_module_version": "1.5.0",
      "model_name": "ButtonStyleModel",
      "state": {}
     },
     "d6e862369aa84268867a504d3931431f": {
      "model_module": "@jupyter-widgets/controls",
      "model_module_version": "1.5.0",
      "model_name": "LabelModel",
      "state": {
       "layout": "IPY_MODEL_5543750088894345afd6780ddf294610",
       "style": "IPY_MODEL_7d599723c8eb4e018d6f1a2bb7299ea7",
       "value": "Simulation time [d]"
      }
     },
     "db05700cd9634e409cf3445dc5a34150": {
      "model_module": "@jupyter-widgets/base",
      "model_module_version": "1.2.0",
      "model_name": "LayoutModel",
      "state": {}
     },
     "e0adfe786e934982a2d1fbc9cd9e0be3": {
      "model_module": "@jupyter-widgets/controls",
      "model_module_version": "1.5.0",
      "model_name": "TextModel",
      "state": {
       "layout": "IPY_MODEL_b6f5b85727944f15843dd658dd7b82fb",
       "style": "IPY_MODEL_a22b5944ad6f412e94be12613d9f31ff",
       "value": "1"
      }
     },
     "e0bdcdd934854a32a6f4ed16419a264d": {
      "model_module": "@jupyter-widgets/base",
      "model_module_version": "1.2.0",
      "model_name": "LayoutModel",
      "state": {
       "width": "50%"
      }
     },
     "e3142de54cd242498f5dfbca5fd7620f": {
      "model_module": "@jupyter-widgets/controls",
      "model_module_version": "1.5.0",
      "model_name": "DescriptionStyleModel",
      "state": {
       "description_width": ""
      }
     },
     "e35464133add423cb5c1546dbba189f5": {
      "model_module": "@jupyter-widgets/base",
      "model_module_version": "1.2.0",
      "model_name": "LayoutModel",
      "state": {
       "width": "50%"
      }
     },
     "e4e1eb79a11f43a3b6e6fa73f6326eb8": {
      "model_module": "@jupyter-widgets/controls",
      "model_module_version": "1.5.0",
      "model_name": "LabelModel",
      "state": {
       "layout": "IPY_MODEL_1789e972546a436298affb35b42f1a61",
       "style": "IPY_MODEL_9e1b4add6c2e48eabead6dbab73461af",
       "value": "Simulation time step [d]"
      }
     },
     "e5f29a0e7c3541afbea181064449e2d8": {
      "model_module": "@jupyter-widgets/controls",
      "model_module_version": "1.5.0",
      "model_name": "DescriptionStyleModel",
      "state": {
       "description_width": ""
      }
     },
     "e8b314623a4948e6a903d51def2619b3": {
      "model_module": "@jupyter-widgets/base",
      "model_module_version": "1.2.0",
      "model_name": "LayoutModel",
      "state": {}
     },
     "e978d8d5ef464354be8b31783c0e18e1": {
      "model_module": "@jupyter-widgets/controls",
      "model_module_version": "1.5.0",
      "model_name": "DescriptionStyleModel",
      "state": {
       "description_width": "initial"
      }
     },
     "f380dc1767534dfcb750bb6cfff3af02": {
      "model_module": "@jupyter-widgets/base",
      "model_module_version": "1.2.0",
      "model_name": "LayoutModel",
      "state": {}
     },
     "fce7d781db9d465297906cb912f435c3": {
      "model_module": "@jupyter-widgets/controls",
      "model_module_version": "1.5.0",
      "model_name": "DescriptionStyleModel",
      "state": {
       "description_width": ""
      }
     }
    },
    "version_major": 2,
    "version_minor": 0
   }
  }
 },
 "nbformat": 4,
 "nbformat_minor": 5
}
