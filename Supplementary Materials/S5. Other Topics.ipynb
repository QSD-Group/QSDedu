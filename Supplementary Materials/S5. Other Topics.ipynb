{
 "cells": [
  {
   "cell_type": "markdown",
   "id": "daa6fbc0",
   "metadata": {},
   "source": [
    "# S5. Other Topics <a class=\"anchor\" id=\"top\"></a>\n",
    "Just a couple of random topics that you might be interested in.\n",
    "\n",
    "- **Prepared by:** \n",
    "\n",
    "    - [Yalin Li](zoe.yalin.li@gmail.com)\n",
    "\n",
    "- **Covered topics:**\n",
    "\n",
    "    - [1. Command line](#s1)\n",
    "    - [2. Cheatsheets](#s2)"
   ]
  },
  {
   "cell_type": "markdown",
   "id": "3f93a831",
   "metadata": {},
   "source": [
    "## 1. Command line <a class=\"anchor\" id=\"s1\"></a>\n",
    "\n",
    "Good resources I've come across include:\n",
    "- A [tutorial](https://www.taniarascia.com/how-to-use-the-command-line-for-apple-macos-and-linux/) by Tania Rascia, it's for macOS/Linux users, but Windows users might get something useful out of it as well (I also enjoyed other Tania's blogs)."
   ]
  },
  {
   "cell_type": "markdown",
   "id": "27ae9f23",
   "metadata": {},
   "source": [
    "[Back to top](#top)"
   ]
  },
  {
   "cell_type": "markdown",
   "id": "292d6a68",
   "metadata": {},
   "source": [
    "## 2. Cheatsheets <a class=\"anchor\" id=\"s2\"></a>\n",
    "\n",
    "**Formatting**\n",
    "- [``pandoc``](https://pandoc.org) is an incredible markup converter\n",
    "- [Markdown](https://www.markdownguide.org/basic-syntax/)\n",
    "    - Or the [GitHub version](https://docs.github.com/en/github/writing-on-github/getting-started-with-writing-and-formatting-on-github/about-writing-and-formatting-on-github)\n",
    "- [reStructuredText (rst)](https://docutils.sourceforge.io/docs/user/rst/quickref.html)\n",
    "    - If you want to locally see how the rst will be rendered, you can use online rst renders (e.g., [here](http://rst.ninjs.org)) or packages (e.g., rst2html in [docutils](https://docutils.sourceforge.io))\n",
    "- Sphinx (Python documentation generator )\n",
    "    - [Sphinx RST official doc](https://www.sphinx-doc.org/en/master/usage/restructuredtext/basics.html)\n",
    "    - [Sphinx RST memo](https://rest-sphinx-memo.readthedocs.io/en/latest/index.html)\n",
    "    - [Sphinx/ReadTheDocs](https://brendanhasz.github.io/2019/01/05/sphinx.html)\n",
    "- [Math expressions](https://matplotlib.org/1.3.1/users/mathtext.html#subscripts-and-superscripts)\n",
    "\n",
    "**Others**\n",
    "- [conda](https://docs.conda.io/projects/conda/en/latest/_downloads/843d9e0198f2a193a3484886fa28163c/conda-cheatsheet.pdf) (not sure if the link is permanent, but if it's broken just search conda cheatsheet)"
   ]
  },
  {
   "cell_type": "markdown",
   "id": "a7f451f4",
   "metadata": {},
   "source": [
    "[Back to top](#top)"
   ]
  }
 ],
 "metadata": {
  "kernelspec": {
   "display_name": "Python 3 (ipykernel)",
   "language": "python",
   "name": "python3"
  },
  "language_info": {
   "codemirror_mode": {
    "name": "ipython",
    "version": 3
   },
   "file_extension": ".py",
   "mimetype": "text/x-python",
   "name": "python",
   "nbconvert_exporter": "python",
   "pygments_lexer": "ipython3",
   "version": "3.8.2"
  }
 },
 "nbformat": 4,
 "nbformat_minor": 5
}
