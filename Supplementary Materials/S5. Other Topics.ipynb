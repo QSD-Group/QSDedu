{
 "cells": [
  {
   "cell_type": "markdown",
   "id": "daa6fbc0",
   "metadata": {},
   "source": [
    "# S5. Other Topics\n",
    "- **Prepared by:** \n",
    "\n",
    "    - [Yalin Li](zoe.yalin.li@gmail.com)\n",
    "\n",
    "- **Covered topics:**\n",
    "\n",
    "    - [1. Command line](#s1)\n",
    "    - [2. Cheatsheets](#s2)"
   ]
  },
  {
   "cell_type": "markdown",
   "id": "f53f5e44",
   "metadata": {},
   "source": [
    "**Note:** just a couple of random topics that you might be interested in."
   ]
  },
  {
   "cell_type": "markdown",
   "id": "3f93a831",
   "metadata": {},
   "source": [
    "## 1. Command line <a class=\"anchor\" id=\"s1\"></a>\n",
    "\n",
    "Good resources I've come across include:\n",
    "- A [tutorial](https://www.taniarascia.com/how-to-use-the-command-line-for-apple-macos-and-linux/) by Tania Rascia, it's for macOS/Linux users, but Windows users might get something useful out of it as well (I also enjoyed other Tania's blogs)."
   ]
  },
  {
   "cell_type": "markdown",
   "id": "292d6a68",
   "metadata": {},
   "source": [
    "## 1. Cheatsheets <a class=\"anchor\" id=\"s1\"></a>\n",
    "\n",
    "**Formatting**\n",
    "- [``pandoc``](https://pandoc.org) is an incredible markup converter\n",
    "- [Markdown](https://www.markdownguide.org/basic-syntax/)\n",
    "    - Or the [GitHub version](https://docs.github.com/en/github/writing-on-github/getting-started-with-writing-and-formatting-on-github/about-writing-and-formatting-on-github)\n",
    "- [reStructuredText (rst)](https://docutils.sourceforge.io/docs/user/rst/quickref.html)\n",
    "    - If you want to locally see how the rst will be rendered, you can use online rst renders (e.g., [here](http://rst.ninjs.org)) or packages (e.g., rst2html in [docutils](https://docutils.sourceforge.io))\n",
    "- Sphinx (Python documentation generator )\n",
    "    - [Sphinx RST official doc](https://www.sphinx-doc.org/en/master/usage/restructuredtext/basics.html)\n",
    "    - [Sphinx RST memo](https://rest-sphinx-memo.readthedocs.io/en/latest/index.html)\n",
    "    - [Sphinx/ReadTheDocs](https://brendanhasz.github.io/2019/01/05/sphinx.html)\n",
    "- [Math expressions](https://matplotlib.org/1.3.1/users/mathtext.html#subscripts-and-superscripts)\n",
    "\n",
    "**Others**\n",
    "- [conda](https://docs.conda.io/projects/conda/en/latest/_downloads/843d9e0198f2a193a3484886fa28163c/conda-cheatsheet.pdf) (not sure if the link is permanent, but if it's broken just search conda cheatsheet)"
   ]
  },
  {
   "cell_type": "code",
   "execution_count": null,
   "id": "0db21aee",
   "metadata": {},
   "outputs": [],
   "source": []
  },
  {
   "cell_type": "code",
   "execution_count": null,
   "id": "b4e8663e",
   "metadata": {},
   "outputs": [],
   "source": []
  },
  {
   "cell_type": "code",
   "execution_count": null,
   "id": "30d606ea",
   "metadata": {},
   "outputs": [],
   "source": []
  },
  {
   "cell_type": "code",
   "execution_count": null,
   "id": "4c2d9768",
   "metadata": {},
   "outputs": [],
   "source": []
  },
  {
   "cell_type": "code",
   "execution_count": null,
   "id": "95809745",
   "metadata": {},
   "outputs": [],
   "source": []
  },
  {
   "cell_type": "code",
   "execution_count": null,
   "id": "8b093731",
   "metadata": {},
   "outputs": [],
   "source": []
  },
  {
   "cell_type": "code",
   "execution_count": null,
   "id": "03e2beda",
   "metadata": {},
   "outputs": [],
   "source": []
  },
  {
   "cell_type": "code",
   "execution_count": null,
   "id": "31c58b93",
   "metadata": {},
   "outputs": [],
   "source": []
  },
  {
   "cell_type": "code",
   "execution_count": null,
   "id": "59493c20",
   "metadata": {},
   "outputs": [],
   "source": []
  },
  {
   "cell_type": "code",
   "execution_count": null,
   "id": "7b8bfe1e",
   "metadata": {},
   "outputs": [],
   "source": []
  },
  {
   "cell_type": "code",
   "execution_count": null,
   "id": "81442a2e",
   "metadata": {},
   "outputs": [],
   "source": []
  },
  {
   "cell_type": "code",
   "execution_count": null,
   "id": "6193332f",
   "metadata": {},
   "outputs": [],
   "source": []
  }
 ],
 "metadata": {
  "kernelspec": {
   "display_name": "Python 3",
   "language": "python",
   "name": "python3"
  },
  "language_info": {
   "codemirror_mode": {
    "name": "ipython",
    "version": 3
   },
   "file_extension": ".py",
   "mimetype": "text/x-python",
   "name": "python",
   "nbconvert_exporter": "python",
   "pygments_lexer": "ipython3",
   "version": "3.8.2"
  }
 },
 "nbformat": 4,
 "nbformat_minor": 5
}
