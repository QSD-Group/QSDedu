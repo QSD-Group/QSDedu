{
 "cells": [
  {
   "cell_type": "markdown",
   "id": "3b930a32",
   "metadata": {},
   "source": [
    "# S1. Getting Started on Python\n",
    "\n",
    "- **Prepared by:**\n",
    "    \n",
    "    - [Yalin Li](zoe.yalin.li@gmail.com)\n",
    "    - Special thanks to Dr. Emma Brace and many other [Guest Group](http://engineeringforsustainability.com) members, who organized/provided the beginner learning material resources.\n",
    "\n",
    "- **Covered topics:**\n",
    "\n",
    "    0. A VERY IMPORTANT REMINDER\n",
    "    1. Python installation\n",
    "    2. Launching Python\n",
    "    3. Learning materials for beginners\n",
    "    4. Additional resources"
   ]
  },
  {
   "cell_type": "markdown",
   "id": "330ca406",
   "metadata": {},
   "source": [
    "## 0. A VERY IMPORTANT REMINDER\n",
    "Enjoy Python, if it won't cooperate, maybe look at some official (but not-good-at-all) [jokes](https://www.python.org/doc/humor/).\n",
    "\n",
    "Or, install a package ([``pyjokes``](https://pyjok.es)).\n",
    "\n",
    "Have fun :)"
   ]
  },
  {
   "cell_type": "markdown",
   "id": "3cee56ca",
   "metadata": {},
   "source": [
    "## 1. Python installation\n",
    "Software Carpentry (SC) has a great [tutorial](https://swcarpentry.github.io/python-novice-inflammation/setup.html) on how to setup Python, and you are highly strongly recommended to checking it out. Below we will only list the key steps and additional materials."
   ]
  },
  {
   "cell_type": "markdown",
   "id": "5803e49d",
   "metadata": {},
   "source": [
    "### 1.1. Anaconda\n",
    "Though you can install just Python and hand-pick what libraries (see [here](https://realpython.com/lessons/scripts-modules-packages-and-libraries/) and [here](https://stackoverflow.com/questions/19198166/whats-the-difference-between-a-module-and-a-library-in-python) for what library, package, etc. mean) you want to have, it's much more conveninent to have a Python distribution platform that pre-install many widely used libraries. We recommend installing [Anaconda](https://www.anaconda.com/products/individual), which can also install [conda](https://conda.io/projects/conda/en/latest/index.html) and help you to set up [virtual environmnet](https://realpython.com/python-virtual-environments-a-primer/). Anaconda also has great [documentations](https://docs.anaconda.com)."
   ]
  },
  {
   "cell_type": "markdown",
   "id": "46825aa6",
   "metadata": {},
   "source": [
    "## 2. Launching Python\n",
    "There are multiple ways to launch Python. The SC [tutorial](https://swcarpentry.github.io/python-novice-inflammation/setup.html) introduced Jupyter Notebook, IPython interpreter, and command-line Python."
   ]
  },
  {
   "cell_type": "markdown",
   "id": "e5d96bd9",
   "metadata": {},
   "source": [
    "### 2.1. Install Spyder and/or PyCharm through Anaconda Navigator\n",
    "But it's also a good idea to use some Python IDEs (integrated development environments), especially when you are actively developing modules.\n",
    "\n",
    "With Anaconda, you can install [Spyder](https://www.spyder-ide.org) or [PyCharm](https://www.jetbrains.com/pycharm/) through Anaconda Navigator (or command line with ``conda``), both of which are popular IDEs."
   ]
  },
  {
   "cell_type": "code",
   "execution_count": 1,
   "id": "d813c8ea",
   "metadata": {},
   "outputs": [
    {
     "ename": "NameError",
     "evalue": "name 'Image' is not defined",
     "output_type": "error",
     "traceback": [
      "\u001b[0;31m---------------------------------------------------------------------------\u001b[0m",
      "\u001b[0;31mNameError\u001b[0m                                 Traceback (most recent call last)",
      "\u001b[0;32m<ipython-input-1-0695afb45a5d>\u001b[0m in \u001b[0;36m<module>\u001b[0;34m\u001b[0m\n\u001b[0;32m----> 1\u001b[0;31m \u001b[0mImage\u001b[0m\u001b[0;34m(\u001b[0m\u001b[0;34m'sources/pycharm.png'\u001b[0m\u001b[0;34m)\u001b[0m \u001b[0;31m# using PyCharm as an example\u001b[0m\u001b[0;34m\u001b[0m\u001b[0;34m\u001b[0m\u001b[0m\n\u001b[0m",
      "\u001b[0;31mNameError\u001b[0m: name 'Image' is not defined"
     ]
    }
   ],
   "source": [
    "from IPython.display import Image\n",
    "Image('sources/pycharm.png') # using PyCharm as an example"
   ]
  },
  {
   "cell_type": "markdown",
   "id": "c4bf45ba",
   "metadata": {},
   "source": [
    "**Note:** You can certainly install IDEs that outside Anaconda, but it might not as seemlessly and you might need to manually setup the correct Python PATH for importing packages."
   ]
  },
  {
   "cell_type": "markdown",
   "id": "be69af3d",
   "metadata": {},
   "source": [
    "### 2.2. Launching IDEs\n",
    "If you install the Spyder and/or PyCharm through Anaconda Navigator, you can launch it from there."
   ]
  },
  {
   "cell_type": "code",
   "execution_count": null,
   "id": "35f21731",
   "metadata": {},
   "outputs": [],
   "source": [
    "Image('sources/spyder_navigator.png') # using Spyder as an example"
   ]
  },
  {
   "cell_type": "markdown",
   "id": "e2e30bb4",
   "metadata": {},
   "source": [
    "Alternatively, you can just launch through command line in Anaconda Prompt (Windows) or terminal (Mac)."
   ]
  },
  {
   "cell_type": "code",
   "execution_count": null,
   "id": "1602b824",
   "metadata": {},
   "outputs": [],
   "source": [
    "Image('sources/spyder_terminal.png', width=500)"
   ]
  },
  {
   "cell_type": "markdown",
   "id": "6c9291e8",
   "metadata": {},
   "source": [
    "For more information, also checkout Anaconda's tutorial on [this topic](https://docs.anaconda.com/anaconda/user-guide/getting-started/)."
   ]
  },
  {
   "cell_type": "markdown",
   "id": "264a8f84",
   "metadata": {},
   "source": [
    "## 3. Learning materials for beginners\n",
    "To pick up Python, you can checkout the following courses/books (obviously, comments are just our opinions). The key is to practice along the way!\n",
    "\n",
    "- Tutorials and courese\n",
    "    - Software Carpentry: [Programming with Python](https://swcarpentry.github.io/python-novice-inflammation/index.html)\n",
    "        - Has multiple modules and each module has brief instruction with exercise materials\n",
    "    - Codecademy: [Learn Python 3](https://www.codecademy.com/learn/learn-python-3)\n",
    "        - Interactive course with real time feedback through hints and videos\n",
    "        - One section towards the end is on [objective-oriented programming (OOP)](https://en.wikipedia.org/wiki/Object-oriented_programming), which is a key concept in Python\n",
    "        - Has subscription fee; you can get 1 month of premium for free\n",
    "    - DataCamp\n",
    "        - Interactive courses with guidance and assignments. You can get a [free two month trial with a Microsoft account](https://docs.microsoft.com/en-us/visualstudio/subscriptions/vs-datacamp); otherwise, a free account allows you to access the first chapter of each course \n",
    "        - [Introduction to Python](https://www.datacamp.com/courses/intro-to-python-for-data-science)\n",
    "        - [Object-Oriented Programming in Python](https://www.datacamp.com/courses/object-oriented-programming-in-python)\n",
    "        - [Creating Robust Workflows in Python](https://learn.datacamp.com/courses/creating-robust-workflows-in-python)\n",
    "    - MIT Open Courseware: [Introduction to Computer Science and Programming in Python](https://ocw.mit.edu/courses/electrical-engineering-and-computer-science/6-0001-introduction-to-computer-science-and-programming-in-python-fall-2016/)\n",
    "      - Provides nice overview of how to solve problems using computation\n",
    "      - Starts slow (good for newbies) and builds to complex topics on data analysis\n",
    "      - “In-class” style program with video lectures, interactive assignments, homework and solutions\n",
    "    - University of Michigan: Programming for Everybody\n",
    "      - [Coursera](https://www.coursera.org/learn/python) (require subscription)\n",
    "      - Free on [YouTube](https://www.youtube.com/watch?v=cga7rkcv3kA) (the same professor)\n",
    "    - YouTube tutorial on OOP by [Corey Schafer](https://www.youtube.com/c/Coreyms/featured)\n",
    "        - Open source YouTube tutorial with six videos\n",
    "        - OOP concepts very well explained with detailed examples\n",
    "- Books\n",
    "    - [Think Python](https://greenteapress.com/wp/) by Allen Downey\n",
    "        - Introduces basic Python programming concepts; useful reference\n",
    "        - Well-written and easy to read\n",
    "        - Great for those who like to read a book and think about the concepts as they go; also offers simple exercises throughout chapters and at the end of chapters\n",
    "    - [Fluent Python](https://www.oreilly.com/library/view/fluent-python/9781491946237/) by Luciano Ramalho\n",
    "        - Hands-on guide for more advanced and effective coding\n",
    "        - Introduces core Python libraries and features\n",
    "        - Provides examples for data structure, object-oriented idioms, etc.\n",
    "    - [Automate the Boring Stuff with Python](https://automatetheboringstuff.com) by Al Sweigart     "
   ]
  },
  {
   "cell_type": "markdown",
   "id": "aba06203",
   "metadata": {},
   "source": [
    "## 4. Additional resources\n",
    "There are many great resources online to pick up Python, some include tutorials and some are forums with good-hearted people helping you debug, for example:\n",
    "- [Real Python](https://realpython.com)\n",
    "- [Stack Overflow](https://stackoverflow.com)\n",
    "- [GeeksforGeeks](https://www.geeksforgeeks.org)\n",
    "- Documentation pages for the Python library you are using.\n",
    "\n",
    "Whenever you run into trouble using Python (e.g., a confusing bug), a lot of times you can find answers online by just searching the error message."
   ]
  }
 ],
 "metadata": {
  "kernelspec": {
   "display_name": "Python 3",
   "language": "python",
   "name": "python3"
  },
  "language_info": {
   "codemirror_mode": {
    "name": "ipython",
    "version": 3
   },
   "file_extension": ".py",
   "mimetype": "text/x-python",
   "name": "python",
   "nbconvert_exporter": "python",
   "pygments_lexer": "ipython3",
   "version": "3.8.2"
  }
 },
 "nbformat": 4,
 "nbformat_minor": 5
}
