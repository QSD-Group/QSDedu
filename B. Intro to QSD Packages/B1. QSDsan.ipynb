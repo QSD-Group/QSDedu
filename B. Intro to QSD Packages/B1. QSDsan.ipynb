{
 "cells": [
  {
   "cell_type": "markdown",
   "id": "295042a2",
   "metadata": {},
   "source": [
    "# Introduction to `QSDsan`\n",
    "\n",
    "- **Prepared by:**\n",
    "    \n",
    "    - [Yalin Li](zoe.yalin.li@gmail.com)\n",
    "\n",
    "- **Covered topics:**\n",
    "\n",
    "    - What is `QSDsan`\n",
    "    - APIs and related packages\n",
    "    - Installation\n",
    "    - A simple example"
   ]
  },
  {
   "cell_type": "code",
   "execution_count": 1,
   "id": "0a49c46c",
   "metadata": {},
   "outputs": [],
   "source": [
    "# Some code for proper displaying of images and videos\n",
    "from IPython.display import Image, YouTubeVideo"
   ]
  },
  {
   "cell_type": "markdown",
   "id": "7dd3c393",
   "metadata": {},
   "source": [
    "## What is `QSDsan`\n",
    "`QSDsan` is an open-source, community-led platform for the quantitative sustainable design (QSD) of sanitation and resource recovery systems.\n",
    "\n",
    "You can find:\n",
    "- Source codes of `QSDsan` on its [GitHub repository](http://github.com/qsd-group/qsdsan).\n",
    "- Documentation of `QSDsan` on [readthedocs](https://qsdsan.readthedocs.io)."
   ]
  },
  {
   "cell_type": "markdown",
   "id": "2d20b6c8",
   "metadata": {},
   "source": [
    "## APIs and related packages\n",
    "You can find major application programming interfaces (APIs) of `QSDsan` and related packages are in the following simplified unified modeling language (UML) diagram."
   ]
  },
  {
   "cell_type": "code",
   "execution_count": 8,
   "id": "8f50730c",
   "metadata": {},
   "outputs": [
    {
     "data": {
      "text/html": [
       "<img src=\"https://lucid.app/publicSegments/view/c8de361f-7292-47e3-8870-d6f668691728/image.png\" width=\"800\"/>"
      ],
      "text/plain": [
       "<IPython.core.display.Image object>"
      ]
     },
     "execution_count": 8,
     "metadata": {},
     "output_type": "execute_result"
    }
   ],
   "source": [
    "Image(url='https://lucid.app/publicSegments/view/c8de361f-7292-47e3-8870-d6f668691728/image.png', width=800)"
   ]
  },
  {
   "cell_type": "markdown",
   "id": "85822374",
   "metadata": {},
   "source": [
    "Here is a video walking you through these APIs."
   ]
  },
  {
   "cell_type": "code",
   "execution_count": 2,
   "id": "87ad5134",
   "metadata": {},
   "outputs": [
    {
     "data": {
      "image/jpeg": "[encoded data removed]",
      "text/html": [
       "\n",
       "        <iframe\n",
       "            width=\"400\"\n",
       "            height=\"300\"\n",
       "            src=\"https://www.youtube.com/embed/mk3WNCxD6tI\"\n",
       "            frameborder=\"0\"\n",
       "            allowfullscreen\n",
       "        ></iframe>\n",
       "        "
      ],
      "text/plain": [
       "<IPython.lib.display.YouTubeVideo at 0x7f86f5b4eee0>"
      ]
     },
     "execution_count": 2,
     "metadata": {},
     "output_type": "execute_result"
    }
   ],
   "source": [
    "YouTubeVideo('mk3WNCxD6tI')"
   ]
  },
  {
   "cell_type": "code",
   "execution_count": null,
   "id": "e73c02dd",
   "metadata": {},
   "outputs": [],
   "source": []
  },
  {
   "cell_type": "code",
   "execution_count": null,
   "id": "f21f9dac",
   "metadata": {},
   "outputs": [],
   "source": []
  },
  {
   "cell_type": "code",
   "execution_count": null,
   "id": "999a2c9c",
   "metadata": {},
   "outputs": [],
   "source": []
  },
  {
   "cell_type": "code",
   "execution_count": null,
   "id": "25e53b04",
   "metadata": {},
   "outputs": [],
   "source": []
  },
  {
   "cell_type": "code",
   "execution_count": null,
   "id": "b9828b87",
   "metadata": {},
   "outputs": [],
   "source": []
  },
  {
   "cell_type": "code",
   "execution_count": null,
   "id": "6d7feb93",
   "metadata": {},
   "outputs": [],
   "source": []
  },
  {
   "cell_type": "code",
   "execution_count": null,
   "id": "ec6cb8ab",
   "metadata": {},
   "outputs": [],
   "source": []
  },
  {
   "cell_type": "code",
   "execution_count": null,
   "id": "d00146f4",
   "metadata": {},
   "outputs": [],
   "source": []
  },
  {
   "cell_type": "code",
   "execution_count": null,
   "id": "dea288cd",
   "metadata": {},
   "outputs": [],
   "source": []
  }
 ],
 "metadata": {
  "kernelspec": {
   "display_name": "Python 3",
   "language": "python",
   "name": "python3"
  },
  "language_info": {
   "codemirror_mode": {
    "name": "ipython",
    "version": 3
   },
   "file_extension": ".py",
   "mimetype": "text/x-python",
   "name": "python",
   "nbconvert_exporter": "python",
   "pygments_lexer": "ipython3",
   "version": "3.8.2"
  }
 },
 "nbformat": 4,
 "nbformat_minor": 5
}
